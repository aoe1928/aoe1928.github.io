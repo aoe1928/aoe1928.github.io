{
  "nbformat": 4,
  "nbformat_minor": 0,
  "metadata": {
    "colab": {
      "name": "Chapter3.ipynb",
      "provenance": []
    },
    "kernelspec": {
      "display_name": "Python 3",
      "name": "python3"
    }
  },
  "cells": [
    {
      "cell_type": "markdown",
      "metadata": {
        "id": "VjezP89GxsEs"
      },
      "source": [
        "![表紙](https://www.oreilly.co.jp/books/images/picture978-4-87311-907-6.gif)\n",
        "\n",
        "このノートブックはオライリー・ジャパンより発行の書籍[『セキュリティエンジニアのための機械学習』](https://www.oreilly.co.jp/books/9784873119076/)のサンプルコードです。コードの解説等は書籍をご参照ください。なお、このコードを動作させた結果について、著者およびオライリー・ジャパンは一切の責任を負いません。"
      ]
    },
    {
      "cell_type": "markdown",
      "metadata": {
        "id": "gQAVGsa64N95"
      },
      "source": [
        "## ファイルのメタデータを特徴量にしたマルウェア検出\n",
        "\n"
      ]
    },
    {
      "cell_type": "markdown",
      "metadata": {
        "id": "hZvOrQo7TjYU"
      },
      "source": [
        "### 最初にpandas-profilingを更新して、ランタイムを再起動しておく"
      ]
    },
    {
      "cell_type": "code",
      "metadata": {
        "id": "ill3l9YSOB5B",
        "colab": {
          "base_uri": "https://localhost:8080/"
        },
        "outputId": "79d2e9f7-a1ec-4fdc-9dbf-4aab802b758a"
      },
      "source": [
        "# !pip install -U pandas-profiling"
      ],
      "execution_count": 7,
      "outputs": [
        {
          "output_type": "stream",
          "name": "stdout",
          "text": [
            "Collecting pandas-profiling\n",
            "  Downloading pandas_profiling-3.2.0-py2.py3-none-any.whl.metadata (21 kB)\n",
            "Collecting joblib~=1.1.0 (from pandas-profiling)\n",
            "  Downloading joblib-1.1.1-py2.py3-none-any.whl.metadata (5.2 kB)\n",
            "Requirement already satisfied: scipy>=1.4.1 in /usr/local/lib/python3.11/dist-packages (from pandas-profiling) (1.14.1)\n",
            "Requirement already satisfied: pandas!=1.0.0,!=1.0.1,!=1.0.2,!=1.1.0,>=0.25.3 in /usr/local/lib/python3.11/dist-packages (from pandas-profiling) (2.2.2)\n",
            "Requirement already satisfied: matplotlib>=3.2.0 in /usr/local/lib/python3.11/dist-packages (from pandas-profiling) (3.10.0)\n",
            "Requirement already satisfied: pydantic>=1.8.1 in /usr/local/lib/python3.11/dist-packages (from pandas-profiling) (2.11.2)\n",
            "Requirement already satisfied: PyYAML>=5.0.0 in /usr/local/lib/python3.11/dist-packages (from pandas-profiling) (6.0.2)\n",
            "Requirement already satisfied: jinja2>=2.11.1 in /usr/local/lib/python3.11/dist-packages (from pandas-profiling) (3.1.6)\n",
            "Collecting markupsafe~=2.1.1 (from pandas-profiling)\n",
            "  Downloading MarkupSafe-2.1.5-cp311-cp311-manylinux_2_17_x86_64.manylinux2014_x86_64.whl.metadata (3.0 kB)\n",
            "Collecting visions==0.7.4 (from visions[type_image_path]==0.7.4->pandas-profiling)\n",
            "  Downloading visions-0.7.4-py3-none-any.whl.metadata (5.9 kB)\n",
            "Requirement already satisfied: numpy>=1.16.0 in /usr/local/lib/python3.11/dist-packages (from pandas-profiling) (2.0.2)\n",
            "Collecting htmlmin>=0.1.12 (from pandas-profiling)\n",
            "  Downloading htmlmin-0.1.12.tar.gz (19 kB)\n",
            "  Preparing metadata (setup.py) ... \u001b[?25l\u001b[?25hdone\n",
            "Requirement already satisfied: missingno>=0.4.2 in /usr/local/lib/python3.11/dist-packages (from pandas-profiling) (0.5.2)\n",
            "Collecting phik>=0.11.1 (from pandas-profiling)\n",
            "  Downloading phik-0.12.4-cp311-cp311-manylinux_2_17_x86_64.manylinux2014_x86_64.whl.metadata (5.6 kB)\n",
            "Collecting tangled-up-in-unicode==0.2.0 (from pandas-profiling)\n",
            "  Downloading tangled_up_in_unicode-0.2.0-py3-none-any.whl.metadata (4.8 kB)\n",
            "Requirement already satisfied: requests>=2.24.0 in /usr/local/lib/python3.11/dist-packages (from pandas-profiling) (2.32.3)\n",
            "Requirement already satisfied: tqdm>=4.48.2 in /usr/local/lib/python3.11/dist-packages (from pandas-profiling) (4.67.1)\n",
            "Requirement already satisfied: seaborn>=0.10.1 in /usr/local/lib/python3.11/dist-packages (from pandas-profiling) (0.13.2)\n",
            "Collecting multimethod>=1.4 (from pandas-profiling)\n",
            "  Downloading multimethod-2.0-py3-none-any.whl.metadata (9.2 kB)\n",
            "Requirement already satisfied: attrs>=19.3.0 in /usr/local/lib/python3.11/dist-packages (from visions==0.7.4->visions[type_image_path]==0.7.4->pandas-profiling) (25.3.0)\n",
            "Requirement already satisfied: networkx>=2.4 in /usr/local/lib/python3.11/dist-packages (from visions==0.7.4->visions[type_image_path]==0.7.4->pandas-profiling) (3.4.2)\n",
            "Collecting imagehash (from visions[type_image_path]==0.7.4->pandas-profiling)\n",
            "  Downloading ImageHash-4.3.2-py2.py3-none-any.whl.metadata (8.4 kB)\n",
            "Requirement already satisfied: Pillow in /usr/local/lib/python3.11/dist-packages (from visions[type_image_path]==0.7.4->pandas-profiling) (11.1.0)\n",
            "Requirement already satisfied: contourpy>=1.0.1 in /usr/local/lib/python3.11/dist-packages (from matplotlib>=3.2.0->pandas-profiling) (1.3.1)\n",
            "Requirement already satisfied: cycler>=0.10 in /usr/local/lib/python3.11/dist-packages (from matplotlib>=3.2.0->pandas-profiling) (0.12.1)\n",
            "Requirement already satisfied: fonttools>=4.22.0 in /usr/local/lib/python3.11/dist-packages (from matplotlib>=3.2.0->pandas-profiling) (4.57.0)\n",
            "Requirement already satisfied: kiwisolver>=1.3.1 in /usr/local/lib/python3.11/dist-packages (from matplotlib>=3.2.0->pandas-profiling) (1.4.8)\n",
            "Requirement already satisfied: packaging>=20.0 in /usr/local/lib/python3.11/dist-packages (from matplotlib>=3.2.0->pandas-profiling) (24.2)\n",
            "Requirement already satisfied: pyparsing>=2.3.1 in /usr/local/lib/python3.11/dist-packages (from matplotlib>=3.2.0->pandas-profiling) (3.2.3)\n",
            "Requirement already satisfied: python-dateutil>=2.7 in /usr/local/lib/python3.11/dist-packages (from matplotlib>=3.2.0->pandas-profiling) (2.8.2)\n",
            "Requirement already satisfied: pytz>=2020.1 in /usr/local/lib/python3.11/dist-packages (from pandas!=1.0.0,!=1.0.1,!=1.0.2,!=1.1.0,>=0.25.3->pandas-profiling) (2025.2)\n",
            "Requirement already satisfied: tzdata>=2022.7 in /usr/local/lib/python3.11/dist-packages (from pandas!=1.0.0,!=1.0.1,!=1.0.2,!=1.1.0,>=0.25.3->pandas-profiling) (2025.2)\n",
            "Requirement already satisfied: annotated-types>=0.6.0 in /usr/local/lib/python3.11/dist-packages (from pydantic>=1.8.1->pandas-profiling) (0.7.0)\n",
            "Requirement already satisfied: pydantic-core==2.33.1 in /usr/local/lib/python3.11/dist-packages (from pydantic>=1.8.1->pandas-profiling) (2.33.1)\n",
            "Requirement already satisfied: typing-extensions>=4.12.2 in /usr/local/lib/python3.11/dist-packages (from pydantic>=1.8.1->pandas-profiling) (4.13.1)\n",
            "Requirement already satisfied: typing-inspection>=0.4.0 in /usr/local/lib/python3.11/dist-packages (from pydantic>=1.8.1->pandas-profiling) (0.4.0)\n",
            "Requirement already satisfied: charset-normalizer<4,>=2 in /usr/local/lib/python3.11/dist-packages (from requests>=2.24.0->pandas-profiling) (3.4.1)\n",
            "Requirement already satisfied: idna<4,>=2.5 in /usr/local/lib/python3.11/dist-packages (from requests>=2.24.0->pandas-profiling) (3.10)\n",
            "Requirement already satisfied: urllib3<3,>=1.21.1 in /usr/local/lib/python3.11/dist-packages (from requests>=2.24.0->pandas-profiling) (2.3.0)\n",
            "Requirement already satisfied: certifi>=2017.4.17 in /usr/local/lib/python3.11/dist-packages (from requests>=2.24.0->pandas-profiling) (2025.1.31)\n",
            "Requirement already satisfied: six>=1.5 in /usr/local/lib/python3.11/dist-packages (from python-dateutil>=2.7->matplotlib>=3.2.0->pandas-profiling) (1.17.0)\n",
            "Collecting PyWavelets (from imagehash->visions[type_image_path]==0.7.4->pandas-profiling)\n",
            "  Downloading pywavelets-1.8.0-cp311-cp311-manylinux_2_17_x86_64.manylinux2014_x86_64.whl.metadata (9.0 kB)\n",
            "Downloading pandas_profiling-3.2.0-py2.py3-none-any.whl (262 kB)\n",
            "\u001b[2K   \u001b[90m━━━━━━━━━━━━━━━━━━━━━━━━━━━━━━━━━━━━━━━━\u001b[0m \u001b[32m262.6/262.6 kB\u001b[0m \u001b[31m8.3 MB/s\u001b[0m eta \u001b[36m0:00:00\u001b[0m\n",
            "\u001b[?25hDownloading tangled_up_in_unicode-0.2.0-py3-none-any.whl (4.7 MB)\n",
            "\u001b[2K   \u001b[90m━━━━━━━━━━━━━━━━━━━━━━━━━━━━━━━━━━━━━━━━\u001b[0m \u001b[32m4.7/4.7 MB\u001b[0m \u001b[31m72.2 MB/s\u001b[0m eta \u001b[36m0:00:00\u001b[0m\n",
            "\u001b[?25hDownloading visions-0.7.4-py3-none-any.whl (102 kB)\n",
            "\u001b[2K   \u001b[90m━━━━━━━━━━━━━━━━━━━━━━━━━━━━━━━━━━━━━━━━\u001b[0m \u001b[32m102.4/102.4 kB\u001b[0m \u001b[31m8.2 MB/s\u001b[0m eta \u001b[36m0:00:00\u001b[0m\n",
            "\u001b[?25hDownloading joblib-1.1.1-py2.py3-none-any.whl (309 kB)\n",
            "\u001b[2K   \u001b[90m━━━━━━━━━━━━━━━━━━━━━━━━━━━━━━━━━━━━━━━━\u001b[0m \u001b[32m309.8/309.8 kB\u001b[0m \u001b[31m20.5 MB/s\u001b[0m eta \u001b[36m0:00:00\u001b[0m\n",
            "\u001b[?25hDownloading MarkupSafe-2.1.5-cp311-cp311-manylinux_2_17_x86_64.manylinux2014_x86_64.whl (28 kB)\n",
            "Downloading multimethod-2.0-py3-none-any.whl (9.8 kB)\n",
            "Downloading phik-0.12.4-cp311-cp311-manylinux_2_17_x86_64.manylinux2014_x86_64.whl (687 kB)\n",
            "\u001b[2K   \u001b[90m━━━━━━━━━━━━━━━━━━━━━━━━━━━━━━━━━━━━━━━━\u001b[0m \u001b[32m687.8/687.8 kB\u001b[0m \u001b[31m35.6 MB/s\u001b[0m eta \u001b[36m0:00:00\u001b[0m\n",
            "\u001b[?25hDownloading ImageHash-4.3.2-py2.py3-none-any.whl (296 kB)\n",
            "\u001b[2K   \u001b[90m━━━━━━━━━━━━━━━━━━━━━━━━━━━━━━━━━━━━━━━━\u001b[0m \u001b[32m296.7/296.7 kB\u001b[0m \u001b[31m18.7 MB/s\u001b[0m eta \u001b[36m0:00:00\u001b[0m\n",
            "\u001b[?25hDownloading pywavelets-1.8.0-cp311-cp311-manylinux_2_17_x86_64.manylinux2014_x86_64.whl (4.5 MB)\n",
            "\u001b[2K   \u001b[90m━━━━━━━━━━━━━━━━━━━━━━━━━━━━━━━━━━━━━━━━\u001b[0m \u001b[32m4.5/4.5 MB\u001b[0m \u001b[31m76.8 MB/s\u001b[0m eta \u001b[36m0:00:00\u001b[0m\n",
            "\u001b[?25hBuilding wheels for collected packages: htmlmin\n",
            "  Building wheel for htmlmin (setup.py) ... \u001b[?25l\u001b[?25hdone\n",
            "  Created wheel for htmlmin: filename=htmlmin-0.1.12-py3-none-any.whl size=27081 sha256=73b4703bc72d28c76388f01b9cb4c090ab72f2c32f2f9004f493007fc5b3fbcd\n",
            "  Stored in directory: /root/.cache/pip/wheels/8d/55/1a/19cd535375ed1ede0c996405ebffe34b196d78e2d9545723a2\n",
            "Successfully built htmlmin\n",
            "Installing collected packages: htmlmin, tangled-up-in-unicode, PyWavelets, multimethod, markupsafe, joblib, imagehash, visions, phik, pandas-profiling\n",
            "  Attempting uninstall: markupsafe\n",
            "    Found existing installation: MarkupSafe 3.0.2\n",
            "    Uninstalling MarkupSafe-3.0.2:\n",
            "      Successfully uninstalled MarkupSafe-3.0.2\n",
            "  Attempting uninstall: joblib\n",
            "    Found existing installation: joblib 1.4.2\n",
            "    Uninstalling joblib-1.4.2:\n",
            "      Successfully uninstalled joblib-1.4.2\n",
            "\u001b[31mERROR: pip's dependency resolver does not currently take into account all the packages that are installed. This behaviour is the source of the following dependency conflicts.\n",
            "scikit-learn 1.6.1 requires joblib>=1.2.0, but you have joblib 1.1.1 which is incompatible.\u001b[0m\u001b[31m\n",
            "\u001b[0mSuccessfully installed PyWavelets-1.8.0 htmlmin-0.1.12 imagehash-4.3.2 joblib-1.1.1 markupsafe-2.1.5 multimethod-2.0 pandas-profiling-3.2.0 phik-0.12.4 tangled-up-in-unicode-0.2.0 visions-0.7.4\n"
          ]
        }
      ]
    },
    {
      "cell_type": "code",
      "metadata": {
        "id": "m_mJjIok4J3t",
        "colab": {
          "base_uri": "https://localhost:8080/"
        },
        "outputId": "135faf47-7f61-40dd-dfa6-da11026c6f78"
      },
      "source": [
        "!wget https://github.com/oreilly-japan/ml-security-jp/raw/master/ch03/MalwareData.csv.gz"
      ],
      "execution_count": 1,
      "outputs": [
        {
          "output_type": "stream",
          "name": "stdout",
          "text": [
            "--2025-04-08 08:56:25--  https://github.com/oreilly-japan/ml-security-jp/raw/master/ch03/MalwareData.csv.gz\n",
            "Resolving github.com (github.com)... 140.82.116.4\n",
            "Connecting to github.com (github.com)|140.82.116.4|:443... connected.\n",
            "HTTP request sent, awaiting response... 302 Found\n",
            "Location: https://raw.githubusercontent.com/oreilly-japan/ml-security-jp/master/ch03/MalwareData.csv.gz [following]\n",
            "--2025-04-08 08:56:25--  https://raw.githubusercontent.com/oreilly-japan/ml-security-jp/master/ch03/MalwareData.csv.gz\n",
            "Resolving raw.githubusercontent.com (raw.githubusercontent.com)... 185.199.108.133, 185.199.109.133, 185.199.110.133, ...\n",
            "Connecting to raw.githubusercontent.com (raw.githubusercontent.com)|185.199.108.133|:443... connected.\n",
            "HTTP request sent, awaiting response... 200 OK\n",
            "Length: 11831806 (11M) [application/octet-stream]\n",
            "Saving to: ‘MalwareData.csv.gz’\n",
            "\n",
            "MalwareData.csv.gz  100%[===================>]  11.28M  --.-KB/s    in 0.1s    \n",
            "\n",
            "2025-04-08 08:56:25 (116 MB/s) - ‘MalwareData.csv.gz’ saved [11831806/11831806]\n",
            "\n"
          ]
        }
      ]
    },
    {
      "cell_type": "code",
      "metadata": {
        "id": "3VqmDmC04yrn"
      },
      "source": [
        "!gzip -d MalwareData.csv.gz"
      ],
      "execution_count": 2,
      "outputs": []
    },
    {
      "cell_type": "code",
      "metadata": {
        "id": "Or8ZcHBM63dU",
        "colab": {
          "base_uri": "https://localhost:8080/"
        },
        "outputId": "f328de4e-23b2-43dc-a5b2-f89572960d5f"
      },
      "source": [
        "!pip install optuna"
      ],
      "execution_count": 3,
      "outputs": [
        {
          "output_type": "stream",
          "name": "stdout",
          "text": [
            "Collecting optuna\n",
            "  Downloading optuna-4.2.1-py3-none-any.whl.metadata (17 kB)\n",
            "Collecting alembic>=1.5.0 (from optuna)\n",
            "  Downloading alembic-1.15.2-py3-none-any.whl.metadata (7.3 kB)\n",
            "Collecting colorlog (from optuna)\n",
            "  Downloading colorlog-6.9.0-py3-none-any.whl.metadata (10 kB)\n",
            "Requirement already satisfied: numpy in /usr/local/lib/python3.11/dist-packages (from optuna) (2.0.2)\n",
            "Requirement already satisfied: packaging>=20.0 in /usr/local/lib/python3.11/dist-packages (from optuna) (24.2)\n",
            "Requirement already satisfied: sqlalchemy>=1.4.2 in /usr/local/lib/python3.11/dist-packages (from optuna) (2.0.40)\n",
            "Requirement already satisfied: tqdm in /usr/local/lib/python3.11/dist-packages (from optuna) (4.67.1)\n",
            "Requirement already satisfied: PyYAML in /usr/local/lib/python3.11/dist-packages (from optuna) (6.0.2)\n",
            "Requirement already satisfied: Mako in /usr/lib/python3/dist-packages (from alembic>=1.5.0->optuna) (1.1.3)\n",
            "Requirement already satisfied: typing-extensions>=4.12 in /usr/local/lib/python3.11/dist-packages (from alembic>=1.5.0->optuna) (4.13.1)\n",
            "Requirement already satisfied: greenlet>=1 in /usr/local/lib/python3.11/dist-packages (from sqlalchemy>=1.4.2->optuna) (3.1.1)\n",
            "Downloading optuna-4.2.1-py3-none-any.whl (383 kB)\n",
            "\u001b[2K   \u001b[90m━━━━━━━━━━━━━━━━━━━━━━━━━━━━━━━━━━━━━━━━\u001b[0m \u001b[32m383.6/383.6 kB\u001b[0m \u001b[31m8.3 MB/s\u001b[0m eta \u001b[36m0:00:00\u001b[0m\n",
            "\u001b[?25hDownloading alembic-1.15.2-py3-none-any.whl (231 kB)\n",
            "\u001b[2K   \u001b[90m━━━━━━━━━━━━━━━━━━━━━━━━━━━━━━━━━━━━━━━━\u001b[0m \u001b[32m231.9/231.9 kB\u001b[0m \u001b[31m8.6 MB/s\u001b[0m eta \u001b[36m0:00:00\u001b[0m\n",
            "\u001b[?25hDownloading colorlog-6.9.0-py3-none-any.whl (11 kB)\n",
            "Installing collected packages: colorlog, alembic, optuna\n",
            "Successfully installed alembic-1.15.2 colorlog-6.9.0 optuna-4.2.1\n"
          ]
        }
      ]
    },
    {
      "cell_type": "code",
      "metadata": {
        "id": "jSX2oi7F00dd"
      },
      "source": [
        "import pandas as pd\n",
        "MalwareDataset = pd.read_csv('MalwareData.csv', sep='|')"
      ],
      "execution_count": 4,
      "outputs": []
    },
    {
      "cell_type": "code",
      "metadata": {
        "id": "aTf1OHaUudnP",
        "colab": {
          "base_uri": "https://localhost:8080/"
        },
        "outputId": "8b0f9fd3-23fc-4d33-cdb0-a58c893e74fa"
      },
      "source": [
        "MalwareDataset.info()"
      ],
      "execution_count": 5,
      "outputs": [
        {
          "output_type": "stream",
          "name": "stdout",
          "text": [
            "<class 'pandas.core.frame.DataFrame'>\n",
            "RangeIndex: 138047 entries, 0 to 138046\n",
            "Data columns (total 57 columns):\n",
            " #   Column                       Non-Null Count   Dtype  \n",
            "---  ------                       --------------   -----  \n",
            " 0   Name                         138047 non-null  object \n",
            " 1   md5                          138047 non-null  object \n",
            " 2   Machine                      138047 non-null  int64  \n",
            " 3   SizeOfOptionalHeader         138047 non-null  int64  \n",
            " 4   Characteristics              138047 non-null  int64  \n",
            " 5   MajorLinkerVersion           138047 non-null  int64  \n",
            " 6   MinorLinkerVersion           138047 non-null  int64  \n",
            " 7   SizeOfCode                   138047 non-null  int64  \n",
            " 8   SizeOfInitializedData        138047 non-null  int64  \n",
            " 9   SizeOfUninitializedData      138047 non-null  int64  \n",
            " 10  AddressOfEntryPoint          138047 non-null  int64  \n",
            " 11  BaseOfCode                   138047 non-null  int64  \n",
            " 12  BaseOfData                   138047 non-null  int64  \n",
            " 13  ImageBase                    138047 non-null  float64\n",
            " 14  SectionAlignment             138047 non-null  int64  \n",
            " 15  FileAlignment                138047 non-null  int64  \n",
            " 16  MajorOperatingSystemVersion  138047 non-null  int64  \n",
            " 17  MinorOperatingSystemVersion  138047 non-null  int64  \n",
            " 18  MajorImageVersion            138047 non-null  int64  \n",
            " 19  MinorImageVersion            138047 non-null  int64  \n",
            " 20  MajorSubsystemVersion        138047 non-null  int64  \n",
            " 21  MinorSubsystemVersion        138047 non-null  int64  \n",
            " 22  SizeOfImage                  138047 non-null  int64  \n",
            " 23  SizeOfHeaders                138047 non-null  int64  \n",
            " 24  CheckSum                     138047 non-null  int64  \n",
            " 25  Subsystem                    138047 non-null  int64  \n",
            " 26  DllCharacteristics           138047 non-null  int64  \n",
            " 27  SizeOfStackReserve           138047 non-null  int64  \n",
            " 28  SizeOfStackCommit            138047 non-null  int64  \n",
            " 29  SizeOfHeapReserve            138047 non-null  int64  \n",
            " 30  SizeOfHeapCommit             138047 non-null  int64  \n",
            " 31  LoaderFlags                  138047 non-null  int64  \n",
            " 32  NumberOfRvaAndSizes          138047 non-null  int64  \n",
            " 33  SectionsNb                   138047 non-null  int64  \n",
            " 34  SectionsMeanEntropy          138047 non-null  float64\n",
            " 35  SectionsMinEntropy           138047 non-null  float64\n",
            " 36  SectionsMaxEntropy           138047 non-null  float64\n",
            " 37  SectionsMeanRawsize          138047 non-null  float64\n",
            " 38  SectionsMinRawsize           138047 non-null  int64  \n",
            " 39  SectionMaxRawsize            138047 non-null  int64  \n",
            " 40  SectionsMeanVirtualsize      138047 non-null  float64\n",
            " 41  SectionsMinVirtualsize       138047 non-null  int64  \n",
            " 42  SectionMaxVirtualsize        138047 non-null  int64  \n",
            " 43  ImportsNbDLL                 138047 non-null  int64  \n",
            " 44  ImportsNb                    138047 non-null  int64  \n",
            " 45  ImportsNbOrdinal             138047 non-null  int64  \n",
            " 46  ExportNb                     138047 non-null  int64  \n",
            " 47  ResourcesNb                  138047 non-null  int64  \n",
            " 48  ResourcesMeanEntropy         138047 non-null  float64\n",
            " 49  ResourcesMinEntropy          138047 non-null  float64\n",
            " 50  ResourcesMaxEntropy          138047 non-null  float64\n",
            " 51  ResourcesMeanSize            138047 non-null  float64\n",
            " 52  ResourcesMinSize             138047 non-null  int64  \n",
            " 53  ResourcesMaxSize             138047 non-null  int64  \n",
            " 54  LoadConfigurationSize        138047 non-null  int64  \n",
            " 55  VersionInformationSize       138047 non-null  int64  \n",
            " 56  legitimate                   138047 non-null  int64  \n",
            "dtypes: float64(10), int64(45), object(2)\n",
            "memory usage: 60.0+ MB\n"
          ]
        }
      ]
    },
    {
      "cell_type": "code",
      "source": [
        "!pip install -U ydata-profiling"
      ],
      "metadata": {
        "id": "MnnSqu8XpkgK"
      },
      "execution_count": null,
      "outputs": []
    },
    {
      "cell_type": "markdown",
      "source": [],
      "metadata": {
        "id": "S-rw4uF6pkIF"
      }
    },
    {
      "cell_type": "code",
      "metadata": {
        "id": "ru1yPR0FNX5U",
        "colab": {
          "base_uri": "https://localhost:8080/",
          "height": 228
        },
        "outputId": "e11ce889-32b2-43e4-e8d9-e4e3ac9aa52a"
      },
      "source": [
        "\n",
        "# import pandas_profiling\n",
        "from ydata_profiling import ProfileReport\n",
        "\n",
        "ProfileReport(MalwareDataset, minimal=True)"
      ],
      "execution_count": 1,
      "outputs": [
        {
          "output_type": "display_data",
          "data": {
            "text/plain": [
              "<IPython.core.display.HTML object>"
            ],
            "text/html": [
              "\n",
              "            <div>\n",
              "                <ins><a href=\"https://ydata.ai/register\">Upgrade to ydata-sdk</a></ins>\n",
              "                <p>\n",
              "                    Improve your data and profiling with ydata-sdk, featuring data quality scoring, redundancy detection, outlier identification, text validation, and synthetic data generation.\n",
              "                </p>\n",
              "            </div>\n",
              "            "
            ]
          },
          "metadata": {}
        },
        {
          "output_type": "error",
          "ename": "NameError",
          "evalue": "name 'MalwareDataset' is not defined",
          "traceback": [
            "\u001b[0;31m---------------------------------------------------------------------------\u001b[0m",
            "\u001b[0;31mNameError\u001b[0m                                 Traceback (most recent call last)",
            "\u001b[0;32m<ipython-input-1-43e6680faca5>\u001b[0m in \u001b[0;36m<cell line: 0>\u001b[0;34m()\u001b[0m\n\u001b[1;32m      2\u001b[0m \u001b[0;32mfrom\u001b[0m \u001b[0mydata_profiling\u001b[0m \u001b[0;32mimport\u001b[0m \u001b[0mProfileReport\u001b[0m\u001b[0;34m\u001b[0m\u001b[0;34m\u001b[0m\u001b[0m\n\u001b[1;32m      3\u001b[0m \u001b[0;34m\u001b[0m\u001b[0m\n\u001b[0;32m----> 4\u001b[0;31m \u001b[0mProfileReport\u001b[0m\u001b[0;34m(\u001b[0m\u001b[0mMalwareDataset\u001b[0m\u001b[0;34m,\u001b[0m \u001b[0mminimal\u001b[0m\u001b[0;34m=\u001b[0m\u001b[0;32mTrue\u001b[0m\u001b[0;34m)\u001b[0m\u001b[0;34m\u001b[0m\u001b[0;34m\u001b[0m\u001b[0m\n\u001b[0m",
            "\u001b[0;31mNameError\u001b[0m: name 'MalwareDataset' is not defined"
          ]
        }
      ]
    },
    {
      "cell_type": "code",
      "metadata": {
        "id": "rBS2uwqhm_v9",
        "colab": {
          "base_uri": "https://localhost:8080/"
        },
        "outputId": "cc47fe9b-946b-4162-b7c9-451a71972708"
      },
      "source": [
        "import matplotlib.pyplot as plt\n",
        "\n",
        "plt.hist(\n",
        "    MalwareDataset.loc[MalwareDataset['legitimate'] == 1,\\\n",
        "                       'VersionInformationSize'],\n",
        "    range=(0,26), alpha=0.5, label='1'\n",
        "    )\n",
        "plt.hist(\n",
        "    MalwareDataset.loc[MalwareDataset['legitimate'] == 0,\\\n",
        "                       'VersionInformationSize'],\n",
        "    range=(0,26), alpha=0.5, label='0'\n",
        "    )\n",
        "plt.legend(title='legitimate')\n",
        "plt.xlim(0,26)"
      ],
      "execution_count": null,
      "outputs": [
        {
          "output_type": "execute_result",
          "data": {
            "text/plain": [
              "(0.0, 26.0)"
            ]
          },
          "metadata": {},
          "execution_count": 29
        }
      ]
    },
    {
      "cell_type": "code",
      "metadata": {
        "id": "QReK41CwfvFf",
        "colab": {
          "base_uri": "https://localhost:8080/"
        },
        "outputId": "5db1e9f7-de64-4c59-c3ab-1b674bc7e86f"
      },
      "source": [
        "import matplotlib.pyplot as plt\n",
        "\n",
        "plt.hist(\n",
        "    MalwareDataset.loc[MalwareDataset['legitimate'] == 1,\\\n",
        "                            'MajorSubsystemVersion'],\n",
        "         range=(0,10), alpha=0.5, label='1'\n",
        "         )\n",
        "plt.hist(\n",
        "    MalwareDataset.loc[MalwareDataset['legitimate'] == 0,\\\n",
        "                            'MajorSubsystemVersion'],\n",
        "         range=(0,10), alpha=0.5, label='0'\n",
        "         )\n",
        "\n",
        "plt.legend(title='legitimate')\n",
        "plt.xlim(2,11)"
      ],
      "execution_count": null,
      "outputs": [
        {
          "output_type": "execute_result",
          "data": {
            "text/plain": [
              "(2.0, 11.0)"
            ]
          },
          "metadata": {},
          "execution_count": 30
        }
      ]
    },
    {
      "cell_type": "code",
      "metadata": {
        "id": "2cVnjm1TmSqT",
        "colab": {
          "base_uri": "https://localhost:8080/"
        },
        "outputId": "37f2d3af-3c40-4e8c-9545-661f14e0c590"
      },
      "source": [
        "import matplotlib.pyplot as plt\n",
        "import seaborn as sns\n",
        "\n",
        "plt.hist(MalwareDataset.loc[MalwareDataset['legitimate'] == 1, 'SizeOfUninitializedData'], range=(0,10000), alpha=0.5, label='1')\n",
        "plt.hist(MalwareDataset.loc[MalwareDataset['legitimate'] == 0, 'SizeOfUninitializedData'], range=(0,10000), alpha=0.5, label='0')\n",
        "plt.legend(title='legitimate')\n",
        "plt.xlim(0,10000)"
      ],
      "execution_count": null,
      "outputs": [
        {
          "output_type": "execute_result",
          "data": {
            "text/plain": [
              "(0.0, 10000.0)"
            ]
          },
          "metadata": {},
          "execution_count": 31
        }
      ]
    },
    {
      "cell_type": "code",
      "metadata": {
        "id": "2WO2FUrd02vr",
        "colab": {
          "base_uri": "https://localhost:8080/"
        },
        "outputId": "cf9be0b4-46d7-4430-a92a-274ab3c9aa2e"
      },
      "source": [
        "print('The Number of features are  {} \\n'.format(MalwareDataset.shape[1]))"
      ],
      "execution_count": null,
      "outputs": [
        {
          "output_type": "stream",
          "name": "stdout",
          "text": [
            "The Number of features are  57 \n",
            "\n"
          ]
        }
      ]
    },
    {
      "cell_type": "code",
      "metadata": {
        "id": "T6YnxQ4nWRNN",
        "colab": {
          "base_uri": "https://localhost:8080/"
        },
        "outputId": "58080106-e6fc-4f79-9baa-87b2aa727744"
      },
      "source": [
        "MalwareDataset.columns"
      ],
      "execution_count": null,
      "outputs": [
        {
          "output_type": "execute_result",
          "data": {
            "text/plain": [
              "Index(['Name', 'md5', 'Machine', 'SizeOfOptionalHeader', 'Characteristics',\n",
              "       'MajorLinkerVersion', 'MinorLinkerVersion', 'SizeOfCode',\n",
              "       'SizeOfInitializedData', 'SizeOfUninitializedData',\n",
              "       'AddressOfEntryPoint', 'BaseOfCode', 'BaseOfData', 'ImageBase',\n",
              "       'SectionAlignment', 'FileAlignment', 'MajorOperatingSystemVersion',\n",
              "       'MinorOperatingSystemVersion', 'MajorImageVersion', 'MinorImageVersion',\n",
              "       'MajorSubsystemVersion', 'MinorSubsystemVersion', 'SizeOfImage',\n",
              "       'SizeOfHeaders', 'CheckSum', 'Subsystem', 'DllCharacteristics',\n",
              "       'SizeOfStackReserve', 'SizeOfStackCommit', 'SizeOfHeapReserve',\n",
              "       'SizeOfHeapCommit', 'LoaderFlags', 'NumberOfRvaAndSizes', 'SectionsNb',\n",
              "       'SectionsMeanEntropy', 'SectionsMinEntropy', 'SectionsMaxEntropy',\n",
              "       'SectionsMeanRawsize', 'SectionsMinRawsize', 'SectionMaxRawsize',\n",
              "       'SectionsMeanVirtualsize', 'SectionsMinVirtualsize',\n",
              "       'SectionMaxVirtualsize', 'ImportsNbDLL', 'ImportsNb',\n",
              "       'ImportsNbOrdinal', 'ExportNb', 'ResourcesNb', 'ResourcesMeanEntropy',\n",
              "       'ResourcesMinEntropy', 'ResourcesMaxEntropy', 'ResourcesMeanSize',\n",
              "       'ResourcesMinSize', 'ResourcesMaxSize', 'LoadConfigurationSize',\n",
              "       'VersionInformationSize', 'legitimate'],\n",
              "      dtype='object')"
            ]
          },
          "metadata": {},
          "execution_count": 33
        }
      ]
    },
    {
      "cell_type": "code",
      "metadata": {
        "id": "NQUklKYF1OJY"
      },
      "source": [
        "import pandas as pd\n",
        "import numpy as np\n",
        "import sklearn\n",
        "from sklearn.feature_selection import SelectFromModel\n",
        "from sklearn.ensemble import ExtraTreesClassifier\n",
        "from sklearn.model_selection import train_test_split\n",
        "from sklearn import model_selection\n",
        "\n",
        "# データセットから名前、md5ハッシュ値、ラベルといった列を除外してXに代入\n",
        "X = MalwareDataset.drop(['Name', 'md5', 'legitimate'],axis='columns')\n",
        "# データセットのラベル列のみを抽出してyに代入\n",
        "y = MalwareDataset['legitimate']\n",
        "# ExtraTreesClassifierを使用\n",
        "FeatSelect=ExtraTreesClassifier().fit(X, y)\n",
        "# SelectFromModelを使用して、\n",
        "# ExtraTreesClassifierによる分類結果に寄与した重要度の大きい特徴量のみを抽出\n",
        "Model = SelectFromModel(FeatSelect, prefit=True)\n",
        "# 重要度の大きい特徴量のカラム名を取得\n",
        "feature_idx = Model.get_support()\n",
        "feature_name = X.columns[feature_idx]\n",
        "# Xに選択した特徴量のみを代入しなおす\n",
        "X = Model.transform(X)\n",
        "# 重要度の大きい特徴量のカラム名を設定\n",
        "X = pd.DataFrame(X)\n",
        "X.columns = feature_name"
      ],
      "execution_count": null,
      "outputs": []
    },
    {
      "cell_type": "code",
      "metadata": {
        "id": "9GP9hYYr1ZYT",
        "colab": {
          "base_uri": "https://localhost:8080/"
        },
        "outputId": "a39a8776-e443-4643-f568-652a2c0b1391"
      },
      "source": [
        "Features = X.shape[1]\n",
        "# 重要度をリストで抽出\n",
        "FI = ExtraTreesClassifier().fit(X,y).feature_importances_\n",
        "# 重要度を高い順にソート\n",
        "Index = np.argsort(FI)[::-1][:Features]\n",
        "# 重要度の高い順に、特徴量の名前と重要度を出力\n",
        "for feat  in range(Features):\n",
        "    print(\n",
        "        \"Feature: {}Importance: {:.5f}\"\\\n",
        "          .format(MalwareDataset.columns[2+Index[feat]].ljust(30),\n",
        "                  FI[Index[feat]])\n",
        "          )"
      ],
      "execution_count": null,
      "outputs": [
        {
          "output_type": "stream",
          "name": "stdout",
          "text": [
            "Feature: Characteristics               Importance: 0.16501\n",
            "Feature: SizeOfUninitializedData       Importance: 0.13022\n",
            "Feature: Machine                       Importance: 0.10169\n",
            "Feature: BaseOfCode                    Importance: 0.08788\n",
            "Feature: SizeOfInitializedData         Importance: 0.08441\n",
            "Feature: MajorLinkerVersion            Importance: 0.07601\n",
            "Feature: SectionAlignment              Importance: 0.07253\n",
            "Feature: SizeOfCode                    Importance: 0.05414\n",
            "Feature: BaseOfData                    Importance: 0.05267\n",
            "Feature: ImageBase                     Importance: 0.05082\n",
            "Feature: SizeOfOptionalHeader          Importance: 0.04988\n",
            "Feature: AddressOfEntryPoint           Importance: 0.03937\n",
            "Feature: MinorLinkerVersion            Importance: 0.03536\n"
          ]
        }
      ]
    },
    {
      "cell_type": "code",
      "metadata": {
        "id": "3NS-Lvxr3r62",
        "colab": {
          "base_uri": "https://localhost:8080/"
        },
        "outputId": "427d8055-16c0-42ea-cd93-f089b8b341cb"
      },
      "source": [
        "from sklearn.ensemble import RandomForestClassifier\n",
        "from sklearn.metrics import accuracy_score\n",
        "from sklearn.model_selection import train_test_split\n",
        "import numpy as np\n",
        "import optuna\n",
        "from sklearn.model_selection import cross_validate\n",
        "\n",
        "# データセットを訓練用とテスト用に分割\n",
        "X_train, X_test, y_train, y_test = train_test_split(\n",
        "    X, y, test_size=0.2, shuffle=True, random_state=101\n",
        "    )\n",
        "\n",
        "# RandomForestClassifierのハイパーパラメータ探索用のクラスを設定\n",
        "class Objective_RF:\n",
        "    def __init__(self, X, y):\n",
        "        self.X = X\n",
        "        self.y = y\n",
        "\n",
        "    def __call__(self, trial):\n",
        "        # 探索対象のパラメータの設定\n",
        "        criterion = trial.suggest_categorical(\"criterion\",\n",
        "                                              [\"gini\", \"entropy\"])\n",
        "        bootstrap = trial.suggest_categorical('bootstrap',\n",
        "                                              ['True','False'])\n",
        "        max_features = trial.suggest_categorical('max_features',\n",
        "                                            ['auto', 'sqrt','log2'])\n",
        "        min_samples_split = trial.suggest_int('min_samples_split',\n",
        "                                              2, 5)\n",
        "        min_samples_leaf = trial.suggest_int('min_samples_leaf',\n",
        "                                             1,10)\n",
        "\n",
        "        model = RandomForestClassifier(\n",
        "            criterion = criterion,\n",
        "            bootstrap = bootstrap,\n",
        "            max_features = max_features,\n",
        "            min_samples_split = min_samples_split,\n",
        "            min_samples_leaf = min_samples_leaf\n",
        "        )\n",
        "\n",
        "        # 交差検証しながらベストのパラメータ探索を行う\n",
        "        scores = cross_validate(model,\n",
        "                                X=self.X,\n",
        "                                y=self.y,\n",
        "                                cv=5,\n",
        "                                n_jobs=-1)\n",
        "\n",
        "        # 5分割で交差検証した正解率の平均値を返す\n",
        "        return scores['test_score'].mean()\n",
        "\n",
        "# 探索の対象クラスを設定\n",
        "objective = Objective_RF(X_train, y_train)\n",
        "study = optuna.create_study()\n",
        "# 最大で3分間探索を実行\n",
        "study.optimize(objective, timeout=180)\n",
        "# ベストのパラメータの出力\n",
        "print('params:', study.best_params)"
      ],
      "execution_count": null,
      "outputs": [
        {
          "output_type": "stream",
          "name": "stderr",
          "text": [
            "\u001b[32m[I 2021-09-29 15:19:41,926]\u001b[0m A new study created in memory with name: no-name-6f610a44-fc01-4952-acbf-9069faa5a863\u001b[0m\n",
            "\u001b[32m[I 2021-09-29 15:20:18,766]\u001b[0m Trial 0 finished with value: 0.9931001345195657 and parameters: {'criterion': 'entropy', 'bootstrap': 'True', 'max_features': 'sqrt', 'min_samples_split': 2, 'min_samples_leaf': 2}. Best is trial 0 with value: 0.9931001345195657.\u001b[0m\n",
            "\u001b[32m[I 2021-09-29 15:20:53,892]\u001b[0m Trial 1 finished with value: 0.9922761343321012 and parameters: {'criterion': 'entropy', 'bootstrap': 'True', 'max_features': 'auto', 'min_samples_split': 2, 'min_samples_leaf': 4}. Best is trial 1 with value: 0.9922761343321012.\u001b[0m\n",
            "\u001b[32m[I 2021-09-29 15:21:28,891]\u001b[0m Trial 2 finished with value: 0.9918596070981819 and parameters: {'criterion': 'gini', 'bootstrap': 'False', 'max_features': 'log2', 'min_samples_split': 2, 'min_samples_leaf': 5}. Best is trial 2 with value: 0.9918596070981819.\u001b[0m\n",
            "\u001b[32m[I 2021-09-29 15:22:04,895]\u001b[0m Trial 3 finished with value: 0.9931272949009535 and parameters: {'criterion': 'gini', 'bootstrap': 'False', 'max_features': 'auto', 'min_samples_split': 2, 'min_samples_leaf': 2}. Best is trial 2 with value: 0.9918596070981819.\u001b[0m\n",
            "\u001b[32m[I 2021-09-29 15:22:40,887]\u001b[0m Trial 4 finished with value: 0.9930458022780317 and parameters: {'criterion': 'entropy', 'bootstrap': 'False', 'max_features': 'auto', 'min_samples_split': 5, 'min_samples_leaf': 2}. Best is trial 2 with value: 0.9918596070981819.\u001b[0m\n",
            "\u001b[32m[I 2021-09-29 15:23:16,963]\u001b[0m Trial 5 finished with value: 0.992665493395475 and parameters: {'criterion': 'gini', 'bootstrap': 'True', 'max_features': 'sqrt', 'min_samples_split': 2, 'min_samples_leaf': 3}. Best is trial 2 with value: 0.9918596070981819.\u001b[0m\n"
          ]
        },
        {
          "output_type": "stream",
          "name": "stdout",
          "text": [
            "params: {'criterion': 'gini', 'bootstrap': 'False', 'max_features': 'log2', 'min_samples_split': 2, 'min_samples_leaf': 5}\n"
          ]
        }
      ]
    },
    {
      "cell_type": "code",
      "metadata": {
        "id": "ws4K-hP-uD9E",
        "colab": {
          "base_uri": "https://localhost:8080/"
        },
        "outputId": "76f2fce9-ac3f-4bfe-9bec-c101dc14c359"
      },
      "source": [
        "from sklearn.metrics import confusion_matrix\n",
        "from sklearn.metrics import accuracy_score\n",
        "\n",
        "# optunaの探索結果として得られたベストのパラメータを設定\n",
        "model = RandomForestClassifier(\n",
        "    criterion = study.best_params['criterion'],\n",
        "    bootstrap = study.best_params['bootstrap'],\n",
        "    max_features = study.best_params['max_features'],\n",
        "    min_samples_split = study.best_params['min_samples_split'],\n",
        "    min_samples_leaf = study.best_params['min_samples_leaf']\n",
        ")\n",
        "\n",
        "# モデルの訓練\n",
        "model.fit(X_train, y_train)\n",
        "\n",
        "# テスト用のデータを使用して予測\n",
        "pred = model.predict(X_test)\n",
        "\n",
        "# 予測結果とテスト用のデータを使って正解率と、混同行列を出力\n",
        "print(\"Accuracy: {:.5f} %\".format(100 * accuracy_score(y_test, pred)))\n",
        "print(confusion_matrix(y_test, pred))"
      ],
      "execution_count": null,
      "outputs": [
        {
          "output_type": "stream",
          "name": "stdout",
          "text": [
            "Accuracy: 99.20319 %\n",
            "[[19353   113]\n",
            " [  107  8037]]\n"
          ]
        }
      ]
    },
    {
      "cell_type": "code",
      "metadata": {
        "id": "5H-xQfyj8CvP",
        "colab": {
          "base_uri": "https://localhost:8080/",
          "height": 282
        },
        "outputId": "ab5e9b89-b7e0-43d9-97ad-3ea4d6a6017f"
      },
      "source": [
        "%matplotlib inline\n",
        "\n",
        "feat_importances = pd.Series(\n",
        "    model.feature_importances_,\n",
        "    index=X.columns).sort_values(ascending=True)\n",
        "\n",
        "feat_importances.plot(kind='barh')"
      ],
      "execution_count": null,
      "outputs": [
        {
          "output_type": "execute_result",
          "data": {
            "text/plain": [
              "<matplotlib.axes._subplots.AxesSubplot at 0x7f7ce1fea8d0>"
            ]
          },
          "metadata": {},
          "execution_count": 48
        },
        {
          "output_type": "display_data",
          "data": {
            "image/png": "[encoded data removed]",
            "text/plain": [
              "<Figure size 432x288 with 1 Axes>"
            ]
          },
          "metadata": {
            "needs_background": "light"
          }
        }
      ]
    },
    {
      "cell_type": "code",
      "metadata": {
        "id": "NbjDmnS-7SWj",
        "colab": {
          "base_uri": "https://localhost:8080/"
        },
        "outputId": "606ae184-74b5-41e6-ebd7-b7c79cf2fa51"
      },
      "source": [
        "from sklearn.ensemble import GradientBoostingClassifier\n",
        "\n",
        "class Objective_GBC:\n",
        "    def __init__(self, X, y):\n",
        "        self.X = X\n",
        "        self.y = y\n",
        "\n",
        "    def __call__(self, trial):\n",
        "        # 探索対象のパラメーターの指定\n",
        "        max_depth=int(\n",
        "            trial.suggest_loguniform(\"max_depth\", 3, 10))\n",
        "        max_features = trial.suggest_categorical(\n",
        "            \"max_features\", [\"log2\", \"sqrt\"])\n",
        "        learning_rate = float(trial.suggest_loguniform(\n",
        "            \"learning_rate\", 1e-2, 1e-0))\n",
        "        criterion =  trial.suggest_categorical(\n",
        "            \"criterion\", [\"friedman_mse\", \"mse\", \"mae\"])\n",
        "\n",
        "        # モデルの初期化\n",
        "        model = GradientBoostingClassifier(\n",
        "            max_depth = max_depth,\n",
        "            max_features = max_features,\n",
        "            learning_rate = learning_rate,\n",
        "            criterion=criterion\n",
        "            )\n",
        "\n",
        "        scores = cross_validate(model,\n",
        "                                X=self.X, y=self.y,\n",
        "                                cv=5,\n",
        "                                n_jobs=-1)\n",
        "        return scores['test_score'].mean()\n",
        "\n",
        "# 探索の対象クラスを設定\n",
        "objective = Objective_GBC(X_test, y_test)\n",
        "study = optuna.create_study()\n",
        "\n",
        "# 1回のみ探索\n",
        "study.optimize(objective, n_trials=1)\n",
        "\n",
        "# ベストのパラメーターの出力\n",
        "print('params:', study.best_params)"
      ],
      "execution_count": null,
      "outputs": [
        {
          "output_type": "stream",
          "name": "stderr",
          "text": [
            "\u001b[32m[I 2021-09-29 15:26:17,286]\u001b[0m A new study created in memory with name: no-name-1f5e56c0-ea5e-4fda-866a-09c348c54d24\u001b[0m\n",
            "\u001b[32m[I 2021-09-29 15:26:23,265]\u001b[0m Trial 0 finished with value: 0.9885910901847158 and parameters: {'max_depth': 3.8840716547752936, 'max_features': 'log2', 'learning_rate': 0.09519414699832293, 'criterion': 'friedman_mse'}. Best is trial 0 with value: 0.9885910901847158.\u001b[0m\n"
          ]
        },
        {
          "output_type": "stream",
          "name": "stdout",
          "text": [
            "params: {'max_depth': 3.8840716547752936, 'max_features': 'log2', 'learning_rate': 0.09519414699832293, 'criterion': 'friedman_mse'}\n"
          ]
        }
      ]
    },
    {
      "cell_type": "code",
      "metadata": {
        "id": "RxP_DqP17VuV",
        "colab": {
          "base_uri": "https://localhost:8080/"
        },
        "outputId": "c6397775-ccc5-4359-ef4c-2d999c8bd722"
      },
      "source": [
        "from sklearn.metrics import confusion_matrix\n",
        "from sklearn.metrics import accuracy_score\n",
        "\n",
        "# 探索結果として得られたベストのパラメーターを設定\n",
        "model = GradientBoostingClassifier(\n",
        "    criterion = study.best_params['criterion'],\n",
        "    learning_rate = study.best_params['learning_rate'],\n",
        "    max_depth = study.best_params['max_depth'],\n",
        "    max_features = study.best_params['max_features']\n",
        ")\n",
        "\n",
        "# モデルの訓練\n",
        "model.fit(X_train, y_train)\n",
        "\n",
        "# テスト用のデータを使用して予測\n",
        "pred = model.predict(X_test)\n",
        "\n",
        "# 予測結果とテスト用のデータを使って正解率と、混同行列を出力\n",
        "print(\"Accuracy: {:.5f} %\".format(100 * accuracy_score(y_test, pred)))\n",
        "print(confusion_matrix(y_test, pred))"
      ],
      "execution_count": null,
      "outputs": [
        {
          "output_type": "stream",
          "name": "stdout",
          "text": [
            "Accuracy: 98.85187 %\n",
            "[[19319   147]\n",
            " [  170  7974]]\n"
          ]
        }
      ]
    },
    {
      "cell_type": "code",
      "metadata": {
        "id": "F9X0HmWtKjPo",
        "colab": {
          "base_uri": "https://localhost:8080/",
          "height": 282
        },
        "outputId": "c6210c16-0004-4f7c-a501-3f4ce8d94d68"
      },
      "source": [
        "feat_importances = pd.Series(\n",
        "    model.feature_importances_,\n",
        "    index=X.columns).sort_values(ascending=True)\n",
        "feat_importances.plot(kind='barh')"
      ],
      "execution_count": null,
      "outputs": [
        {
          "output_type": "execute_result",
          "data": {
            "text/plain": [
              "<matplotlib.axes._subplots.AxesSubplot at 0x7f7cdf181d90>"
            ]
          },
          "metadata": {},
          "execution_count": 46
        },
        {
          "output_type": "display_data",
          "data": {
            "image/png": "[encoded data removed]",
            "text/plain": [
              "<Figure size 432x288 with 1 Axes>"
            ]
          },
          "metadata": {
            "needs_background": "light"
          }
        }
      ]
    },
    {
      "cell_type": "code",
      "metadata": {
        "id": "vGKEvCsZ7e0L",
        "colab": {
          "base_uri": "https://localhost:8080/",
          "height": 464
        },
        "outputId": "c2ddc0ef-e6cf-4781-fc54-75bc43b3a7c2"
      },
      "source": [
        "from sklearn.ensemble import AdaBoostClassifier\n",
        "\n",
        "class Objective_ABC:\n",
        "    def __init__(self, X, y):\n",
        "        self.X = X\n",
        "        self.y = y\n",
        "\n",
        "    def __call__(self, trial):\n",
        "        # 探索対象のパラメーターの指定\n",
        "        algorithm =  trial.suggest_categorical(\"algorithm\", [\"SAMME\", \"SAMME.R\"])\n",
        "        learning_rate = float(trial.suggest_loguniform(\"learning_rate\", 1e-2, 1e-0))\n",
        "\n",
        "        # モデルの初期化\n",
        "        model = AdaBoostClassifier(\n",
        "            algorithm = algorithm,\n",
        "            learning_rate = learning_rate\n",
        "            )\n",
        "\n",
        "        scores = cross_validate(model,\n",
        "                                X=self.X, y=self.y,\n",
        "                                cv=5,\n",
        "                                n_jobs=-1)\n",
        "        return scores['test_score'].mean()\n",
        "\n",
        "# 探索の対象クラスを設定\n",
        "objective = Objective_ABC(X_train, y_train)\n",
        "study = optuna.create_study()\n",
        "\n",
        "# 最大で1分間探索を実行\n",
        "study.optimize(objective, timeout=60)\n",
        "\n",
        "# ベストのパラメーターの出力\n",
        "print('params:', study.best_params)"
      ],
      "execution_count": null,
      "outputs": [
        {
          "output_type": "stream",
          "name": "stderr",
          "text": [
            "\u001b[32m[I 2021-09-29 15:26:29,865]\u001b[0m A new study created in memory with name: no-name-67e7ffcb-bdd9-4c64-84de-09e9c39548ce\u001b[0m\n",
            "\u001b[32m[I 2021-09-29 15:26:46,213]\u001b[0m Trial 0 finished with value: 0.9843349540465139 and parameters: {'algorithm': 'SAMME.R', 'learning_rate': 0.2063479898087131}. Best is trial 0 with value: 0.9843349540465139.\u001b[0m\n",
            "\u001b[32m[I 2021-09-29 15:26:59,439]\u001b[0m Trial 1 finished with value: 0.9733150224458095 and parameters: {'algorithm': 'SAMME', 'learning_rate': 0.04112676151726043}. Best is trial 1 with value: 0.9733150224458095.\u001b[0m\n",
            "\u001b[32m[I 2021-09-29 15:27:15,572]\u001b[0m Trial 2 finished with value: 0.9847605273616942 and parameters: {'algorithm': 'SAMME.R', 'learning_rate': 0.3042562063378616}. Best is trial 1 with value: 0.9733150224458095.\u001b[0m\n",
            "\u001b[32m[I 2021-09-29 15:27:28,786]\u001b[0m Trial 3 finished with value: 0.9550059880581232 and parameters: {'algorithm': 'SAMME', 'learning_rate': 0.022017541860529316}. Best is trial 3 with value: 0.9550059880581232.\u001b[0m\n"
          ]
        },
        {
          "output_type": "error",
          "ename": "KeyboardInterrupt",
          "evalue": "ignored",
          "traceback": [
            "\u001b[0;31m---------------------------------------------------------------------------\u001b[0m",
            "\u001b[0;31mKeyboardInterrupt\u001b[0m                         Traceback (most recent call last)",
            "\u001b[0;32m<ipython-input-47-825742a2a737>\u001b[0m in \u001b[0;36m<module>\u001b[0;34m()\u001b[0m\n\u001b[1;32m     28\u001b[0m \u001b[0;34m\u001b[0m\u001b[0m\n\u001b[1;32m     29\u001b[0m \u001b[0;31m# 最大で1分間探索を実行\u001b[0m\u001b[0;34m\u001b[0m\u001b[0;34m\u001b[0m\u001b[0;34m\u001b[0m\u001b[0m\n\u001b[0;32m---> 30\u001b[0;31m \u001b[0mstudy\u001b[0m\u001b[0;34m.\u001b[0m\u001b[0moptimize\u001b[0m\u001b[0;34m(\u001b[0m\u001b[0mobjective\u001b[0m\u001b[0;34m,\u001b[0m \u001b[0mtimeout\u001b[0m\u001b[0;34m=\u001b[0m\u001b[0;36m60\u001b[0m\u001b[0;34m)\u001b[0m\u001b[0;34m\u001b[0m\u001b[0;34m\u001b[0m\u001b[0m\n\u001b[0m\u001b[1;32m     31\u001b[0m \u001b[0;34m\u001b[0m\u001b[0m\n\u001b[1;32m     32\u001b[0m \u001b[0;31m# ベストのパラメーターの出力\u001b[0m\u001b[0;34m\u001b[0m\u001b[0;34m\u001b[0m\u001b[0;34m\u001b[0m\u001b[0m\n",
            "\u001b[0;32m/usr/local/lib/python3.7/dist-packages/optuna/study/study.py\u001b[0m in \u001b[0;36moptimize\u001b[0;34m(self, func, n_trials, timeout, n_jobs, catch, callbacks, gc_after_trial, show_progress_bar)\u001b[0m\n\u001b[1;32m    407\u001b[0m             \u001b[0mcallbacks\u001b[0m\u001b[0;34m=\u001b[0m\u001b[0mcallbacks\u001b[0m\u001b[0;34m,\u001b[0m\u001b[0;34m\u001b[0m\u001b[0;34m\u001b[0m\u001b[0m\n\u001b[1;32m    408\u001b[0m             \u001b[0mgc_after_trial\u001b[0m\u001b[0;34m=\u001b[0m\u001b[0mgc_after_trial\u001b[0m\u001b[0;34m,\u001b[0m\u001b[0;34m\u001b[0m\u001b[0;34m\u001b[0m\u001b[0m\n\u001b[0;32m--> 409\u001b[0;31m             \u001b[0mshow_progress_bar\u001b[0m\u001b[0;34m=\u001b[0m\u001b[0mshow_progress_bar\u001b[0m\u001b[0;34m,\u001b[0m\u001b[0;34m\u001b[0m\u001b[0;34m\u001b[0m\u001b[0m\n\u001b[0m\u001b[1;32m    410\u001b[0m         )\n\u001b[1;32m    411\u001b[0m \u001b[0;34m\u001b[0m\u001b[0m\n",
            "\u001b[0;32m/usr/local/lib/python3.7/dist-packages/optuna/study/_optimize.py\u001b[0m in \u001b[0;36m_optimize\u001b[0;34m(study, func, n_trials, timeout, n_jobs, catch, callbacks, gc_after_trial, show_progress_bar)\u001b[0m\n\u001b[1;32m     74\u001b[0m                 \u001b[0mreseed_sampler_rng\u001b[0m\u001b[0;34m=\u001b[0m\u001b[0;32mFalse\u001b[0m\u001b[0;34m,\u001b[0m\u001b[0;34m\u001b[0m\u001b[0;34m\u001b[0m\u001b[0m\n\u001b[1;32m     75\u001b[0m                 \u001b[0mtime_start\u001b[0m\u001b[0;34m=\u001b[0m\u001b[0;32mNone\u001b[0m\u001b[0;34m,\u001b[0m\u001b[0;34m\u001b[0m\u001b[0;34m\u001b[0m\u001b[0m\n\u001b[0;32m---> 76\u001b[0;31m                 \u001b[0mprogress_bar\u001b[0m\u001b[0;34m=\u001b[0m\u001b[0mprogress_bar\u001b[0m\u001b[0;34m,\u001b[0m\u001b[0;34m\u001b[0m\u001b[0;34m\u001b[0m\u001b[0m\n\u001b[0m\u001b[1;32m     77\u001b[0m             )\n\u001b[1;32m     78\u001b[0m         \u001b[0;32melse\u001b[0m\u001b[0;34m:\u001b[0m\u001b[0;34m\u001b[0m\u001b[0;34m\u001b[0m\u001b[0m\n",
            "\u001b[0;32m/usr/local/lib/python3.7/dist-packages/optuna/study/_optimize.py\u001b[0m in \u001b[0;36m_optimize_sequential\u001b[0;34m(study, func, n_trials, timeout, catch, callbacks, gc_after_trial, reseed_sampler_rng, time_start, progress_bar)\u001b[0m\n\u001b[1;32m    161\u001b[0m \u001b[0;34m\u001b[0m\u001b[0m\n\u001b[1;32m    162\u001b[0m         \u001b[0;32mtry\u001b[0m\u001b[0;34m:\u001b[0m\u001b[0;34m\u001b[0m\u001b[0;34m\u001b[0m\u001b[0m\n\u001b[0;32m--> 163\u001b[0;31m             \u001b[0mtrial\u001b[0m \u001b[0;34m=\u001b[0m \u001b[0m_run_trial\u001b[0m\u001b[0;34m(\u001b[0m\u001b[0mstudy\u001b[0m\u001b[0;34m,\u001b[0m \u001b[0mfunc\u001b[0m\u001b[0;34m,\u001b[0m \u001b[0mcatch\u001b[0m\u001b[0;34m)\u001b[0m\u001b[0;34m\u001b[0m\u001b[0;34m\u001b[0m\u001b[0m\n\u001b[0m\u001b[1;32m    164\u001b[0m         \u001b[0;32mexcept\u001b[0m \u001b[0mException\u001b[0m\u001b[0;34m:\u001b[0m\u001b[0;34m\u001b[0m\u001b[0;34m\u001b[0m\u001b[0m\n\u001b[1;32m    165\u001b[0m             \u001b[0;32mraise\u001b[0m\u001b[0;34m\u001b[0m\u001b[0;34m\u001b[0m\u001b[0m\n",
            "\u001b[0;32m/usr/local/lib/python3.7/dist-packages/optuna/study/_optimize.py\u001b[0m in \u001b[0;36m_run_trial\u001b[0;34m(study, func, catch)\u001b[0m\n\u001b[1;32m    211\u001b[0m \u001b[0;34m\u001b[0m\u001b[0m\n\u001b[1;32m    212\u001b[0m     \u001b[0;32mtry\u001b[0m\u001b[0;34m:\u001b[0m\u001b[0;34m\u001b[0m\u001b[0;34m\u001b[0m\u001b[0m\n\u001b[0;32m--> 213\u001b[0;31m         \u001b[0mvalue_or_values\u001b[0m \u001b[0;34m=\u001b[0m \u001b[0mfunc\u001b[0m\u001b[0;34m(\u001b[0m\u001b[0mtrial\u001b[0m\u001b[0;34m)\u001b[0m\u001b[0;34m\u001b[0m\u001b[0;34m\u001b[0m\u001b[0m\n\u001b[0m\u001b[1;32m    214\u001b[0m     \u001b[0;32mexcept\u001b[0m \u001b[0mexceptions\u001b[0m\u001b[0;34m.\u001b[0m\u001b[0mTrialPruned\u001b[0m \u001b[0;32mas\u001b[0m \u001b[0me\u001b[0m\u001b[0;34m:\u001b[0m\u001b[0;34m\u001b[0m\u001b[0;34m\u001b[0m\u001b[0m\n\u001b[1;32m    215\u001b[0m         \u001b[0;31m# TODO(mamu): Handle multi-objective cases.\u001b[0m\u001b[0;34m\u001b[0m\u001b[0;34m\u001b[0m\u001b[0;34m\u001b[0m\u001b[0m\n",
            "\u001b[0;32m<ipython-input-47-825742a2a737>\u001b[0m in \u001b[0;36m__call__\u001b[0;34m(self, trial)\u001b[0m\n\u001b[1;32m     20\u001b[0m                                 \u001b[0mX\u001b[0m\u001b[0;34m=\u001b[0m\u001b[0mself\u001b[0m\u001b[0;34m.\u001b[0m\u001b[0mX\u001b[0m\u001b[0;34m,\u001b[0m \u001b[0my\u001b[0m\u001b[0;34m=\u001b[0m\u001b[0mself\u001b[0m\u001b[0;34m.\u001b[0m\u001b[0my\u001b[0m\u001b[0;34m,\u001b[0m\u001b[0;34m\u001b[0m\u001b[0;34m\u001b[0m\u001b[0m\n\u001b[1;32m     21\u001b[0m                                 \u001b[0mcv\u001b[0m\u001b[0;34m=\u001b[0m\u001b[0;36m5\u001b[0m\u001b[0;34m,\u001b[0m\u001b[0;34m\u001b[0m\u001b[0;34m\u001b[0m\u001b[0m\n\u001b[0;32m---> 22\u001b[0;31m                                 n_jobs=-1)\n\u001b[0m\u001b[1;32m     23\u001b[0m         \u001b[0;32mreturn\u001b[0m \u001b[0mscores\u001b[0m\u001b[0;34m[\u001b[0m\u001b[0;34m'test_score'\u001b[0m\u001b[0;34m]\u001b[0m\u001b[0;34m.\u001b[0m\u001b[0mmean\u001b[0m\u001b[0;34m(\u001b[0m\u001b[0;34m)\u001b[0m\u001b[0;34m\u001b[0m\u001b[0;34m\u001b[0m\u001b[0m\n\u001b[1;32m     24\u001b[0m \u001b[0;34m\u001b[0m\u001b[0m\n",
            "\u001b[0;32m/usr/local/lib/python3.7/dist-packages/sklearn/model_selection/_validation.py\u001b[0m in \u001b[0;36mcross_validate\u001b[0;34m(estimator, X, y, groups, scoring, cv, n_jobs, verbose, fit_params, pre_dispatch, return_train_score, return_estimator, error_score)\u001b[0m\n\u001b[1;32m    234\u001b[0m             \u001b[0mreturn_times\u001b[0m\u001b[0;34m=\u001b[0m\u001b[0;32mTrue\u001b[0m\u001b[0;34m,\u001b[0m \u001b[0mreturn_estimator\u001b[0m\u001b[0;34m=\u001b[0m\u001b[0mreturn_estimator\u001b[0m\u001b[0;34m,\u001b[0m\u001b[0;34m\u001b[0m\u001b[0;34m\u001b[0m\u001b[0m\n\u001b[1;32m    235\u001b[0m             error_score=error_score)\n\u001b[0;32m--> 236\u001b[0;31m         for train, test in cv.split(X, y, groups))\n\u001b[0m\u001b[1;32m    237\u001b[0m \u001b[0;34m\u001b[0m\u001b[0m\n\u001b[1;32m    238\u001b[0m     \u001b[0mzipped_scores\u001b[0m \u001b[0;34m=\u001b[0m \u001b[0mlist\u001b[0m\u001b[0;34m(\u001b[0m\u001b[0mzip\u001b[0m\u001b[0;34m(\u001b[0m\u001b[0;34m*\u001b[0m\u001b[0mscores\u001b[0m\u001b[0;34m)\u001b[0m\u001b[0;34m)\u001b[0m\u001b[0;34m\u001b[0m\u001b[0;34m\u001b[0m\u001b[0m\n",
            "\u001b[0;32m/usr/local/lib/python3.7/dist-packages/joblib/parallel.py\u001b[0m in \u001b[0;36m__call__\u001b[0;34m(self, iterable)\u001b[0m\n\u001b[1;32m   1052\u001b[0m \u001b[0;34m\u001b[0m\u001b[0m\n\u001b[1;32m   1053\u001b[0m             \u001b[0;32mwith\u001b[0m \u001b[0mself\u001b[0m\u001b[0;34m.\u001b[0m\u001b[0m_backend\u001b[0m\u001b[0;34m.\u001b[0m\u001b[0mretrieval_context\u001b[0m\u001b[0;34m(\u001b[0m\u001b[0;34m)\u001b[0m\u001b[0;34m:\u001b[0m\u001b[0;34m\u001b[0m\u001b[0;34m\u001b[0m\u001b[0m\n\u001b[0;32m-> 1054\u001b[0;31m                 \u001b[0mself\u001b[0m\u001b[0;34m.\u001b[0m\u001b[0mretrieve\u001b[0m\u001b[0;34m(\u001b[0m\u001b[0;34m)\u001b[0m\u001b[0;34m\u001b[0m\u001b[0;34m\u001b[0m\u001b[0m\n\u001b[0m\u001b[1;32m   1055\u001b[0m             \u001b[0;31m# Make sure that we get a last message telling us we are done\u001b[0m\u001b[0;34m\u001b[0m\u001b[0;34m\u001b[0m\u001b[0;34m\u001b[0m\u001b[0m\n\u001b[1;32m   1056\u001b[0m             \u001b[0melapsed_time\u001b[0m \u001b[0;34m=\u001b[0m \u001b[0mtime\u001b[0m\u001b[0;34m.\u001b[0m\u001b[0mtime\u001b[0m\u001b[0;34m(\u001b[0m\u001b[0;34m)\u001b[0m \u001b[0;34m-\u001b[0m \u001b[0mself\u001b[0m\u001b[0;34m.\u001b[0m\u001b[0m_start_time\u001b[0m\u001b[0;34m\u001b[0m\u001b[0;34m\u001b[0m\u001b[0m\n",
            "\u001b[0;32m/usr/local/lib/python3.7/dist-packages/joblib/parallel.py\u001b[0m in \u001b[0;36mretrieve\u001b[0;34m(self)\u001b[0m\n\u001b[1;32m    931\u001b[0m             \u001b[0;32mtry\u001b[0m\u001b[0;34m:\u001b[0m\u001b[0;34m\u001b[0m\u001b[0;34m\u001b[0m\u001b[0m\n\u001b[1;32m    932\u001b[0m                 \u001b[0;32mif\u001b[0m \u001b[0mgetattr\u001b[0m\u001b[0;34m(\u001b[0m\u001b[0mself\u001b[0m\u001b[0;34m.\u001b[0m\u001b[0m_backend\u001b[0m\u001b[0;34m,\u001b[0m \u001b[0;34m'supports_timeout'\u001b[0m\u001b[0;34m,\u001b[0m \u001b[0;32mFalse\u001b[0m\u001b[0;34m)\u001b[0m\u001b[0;34m:\u001b[0m\u001b[0;34m\u001b[0m\u001b[0;34m\u001b[0m\u001b[0m\n\u001b[0;32m--> 933\u001b[0;31m                     \u001b[0mself\u001b[0m\u001b[0;34m.\u001b[0m\u001b[0m_output\u001b[0m\u001b[0;34m.\u001b[0m\u001b[0mextend\u001b[0m\u001b[0;34m(\u001b[0m\u001b[0mjob\u001b[0m\u001b[0;34m.\u001b[0m\u001b[0mget\u001b[0m\u001b[0;34m(\u001b[0m\u001b[0mtimeout\u001b[0m\u001b[0;34m=\u001b[0m\u001b[0mself\u001b[0m\u001b[0;34m.\u001b[0m\u001b[0mtimeout\u001b[0m\u001b[0;34m)\u001b[0m\u001b[0;34m)\u001b[0m\u001b[0;34m\u001b[0m\u001b[0;34m\u001b[0m\u001b[0m\n\u001b[0m\u001b[1;32m    934\u001b[0m                 \u001b[0;32melse\u001b[0m\u001b[0;34m:\u001b[0m\u001b[0;34m\u001b[0m\u001b[0;34m\u001b[0m\u001b[0m\n\u001b[1;32m    935\u001b[0m                     \u001b[0mself\u001b[0m\u001b[0;34m.\u001b[0m\u001b[0m_output\u001b[0m\u001b[0;34m.\u001b[0m\u001b[0mextend\u001b[0m\u001b[0;34m(\u001b[0m\u001b[0mjob\u001b[0m\u001b[0;34m.\u001b[0m\u001b[0mget\u001b[0m\u001b[0;34m(\u001b[0m\u001b[0;34m)\u001b[0m\u001b[0;34m)\u001b[0m\u001b[0;34m\u001b[0m\u001b[0;34m\u001b[0m\u001b[0m\n",
            "\u001b[0;32m/usr/local/lib/python3.7/dist-packages/joblib/_parallel_backends.py\u001b[0m in \u001b[0;36mwrap_future_result\u001b[0;34m(future, timeout)\u001b[0m\n\u001b[1;32m    540\u001b[0m         AsyncResults.get from multiprocessing.\"\"\"\n\u001b[1;32m    541\u001b[0m         \u001b[0;32mtry\u001b[0m\u001b[0;34m:\u001b[0m\u001b[0;34m\u001b[0m\u001b[0;34m\u001b[0m\u001b[0m\n\u001b[0;32m--> 542\u001b[0;31m             \u001b[0;32mreturn\u001b[0m \u001b[0mfuture\u001b[0m\u001b[0;34m.\u001b[0m\u001b[0mresult\u001b[0m\u001b[0;34m(\u001b[0m\u001b[0mtimeout\u001b[0m\u001b[0;34m=\u001b[0m\u001b[0mtimeout\u001b[0m\u001b[0;34m)\u001b[0m\u001b[0;34m\u001b[0m\u001b[0;34m\u001b[0m\u001b[0m\n\u001b[0m\u001b[1;32m    543\u001b[0m         \u001b[0;32mexcept\u001b[0m \u001b[0mCfTimeoutError\u001b[0m \u001b[0;32mas\u001b[0m \u001b[0me\u001b[0m\u001b[0;34m:\u001b[0m\u001b[0;34m\u001b[0m\u001b[0;34m\u001b[0m\u001b[0m\n\u001b[1;32m    544\u001b[0m             \u001b[0;32mraise\u001b[0m \u001b[0mTimeoutError\u001b[0m \u001b[0;32mfrom\u001b[0m \u001b[0me\u001b[0m\u001b[0;34m\u001b[0m\u001b[0;34m\u001b[0m\u001b[0m\n",
            "\u001b[0;32m/usr/lib/python3.7/concurrent/futures/_base.py\u001b[0m in \u001b[0;36mresult\u001b[0;34m(self, timeout)\u001b[0m\n\u001b[1;32m    428\u001b[0m                 \u001b[0;32mreturn\u001b[0m \u001b[0mself\u001b[0m\u001b[0;34m.\u001b[0m\u001b[0m__get_result\u001b[0m\u001b[0;34m(\u001b[0m\u001b[0;34m)\u001b[0m\u001b[0;34m\u001b[0m\u001b[0;34m\u001b[0m\u001b[0m\n\u001b[1;32m    429\u001b[0m \u001b[0;34m\u001b[0m\u001b[0m\n\u001b[0;32m--> 430\u001b[0;31m             \u001b[0mself\u001b[0m\u001b[0;34m.\u001b[0m\u001b[0m_condition\u001b[0m\u001b[0;34m.\u001b[0m\u001b[0mwait\u001b[0m\u001b[0;34m(\u001b[0m\u001b[0mtimeout\u001b[0m\u001b[0;34m)\u001b[0m\u001b[0;34m\u001b[0m\u001b[0;34m\u001b[0m\u001b[0m\n\u001b[0m\u001b[1;32m    431\u001b[0m \u001b[0;34m\u001b[0m\u001b[0m\n\u001b[1;32m    432\u001b[0m             \u001b[0;32mif\u001b[0m \u001b[0mself\u001b[0m\u001b[0;34m.\u001b[0m\u001b[0m_state\u001b[0m \u001b[0;32min\u001b[0m \u001b[0;34m[\u001b[0m\u001b[0mCANCELLED\u001b[0m\u001b[0;34m,\u001b[0m \u001b[0mCANCELLED_AND_NOTIFIED\u001b[0m\u001b[0;34m]\u001b[0m\u001b[0;34m:\u001b[0m\u001b[0;34m\u001b[0m\u001b[0;34m\u001b[0m\u001b[0m\n",
            "\u001b[0;32m/usr/lib/python3.7/threading.py\u001b[0m in \u001b[0;36mwait\u001b[0;34m(self, timeout)\u001b[0m\n\u001b[1;32m    294\u001b[0m         \u001b[0;32mtry\u001b[0m\u001b[0;34m:\u001b[0m    \u001b[0;31m# restore state no matter what (e.g., KeyboardInterrupt)\u001b[0m\u001b[0;34m\u001b[0m\u001b[0;34m\u001b[0m\u001b[0m\n\u001b[1;32m    295\u001b[0m             \u001b[0;32mif\u001b[0m \u001b[0mtimeout\u001b[0m \u001b[0;32mis\u001b[0m \u001b[0;32mNone\u001b[0m\u001b[0;34m:\u001b[0m\u001b[0;34m\u001b[0m\u001b[0;34m\u001b[0m\u001b[0m\n\u001b[0;32m--> 296\u001b[0;31m                 \u001b[0mwaiter\u001b[0m\u001b[0;34m.\u001b[0m\u001b[0macquire\u001b[0m\u001b[0;34m(\u001b[0m\u001b[0;34m)\u001b[0m\u001b[0;34m\u001b[0m\u001b[0;34m\u001b[0m\u001b[0m\n\u001b[0m\u001b[1;32m    297\u001b[0m                 \u001b[0mgotit\u001b[0m \u001b[0;34m=\u001b[0m \u001b[0;32mTrue\u001b[0m\u001b[0;34m\u001b[0m\u001b[0;34m\u001b[0m\u001b[0m\n\u001b[1;32m    298\u001b[0m             \u001b[0;32melse\u001b[0m\u001b[0;34m:\u001b[0m\u001b[0;34m\u001b[0m\u001b[0;34m\u001b[0m\u001b[0m\n",
            "\u001b[0;31mKeyboardInterrupt\u001b[0m: "
          ]
        }
      ]
    },
    {
      "cell_type": "code",
      "metadata": {
        "id": "vPgcVxd2Gw0P"
      },
      "source": [
        "from sklearn.metrics import confusion_matrix\n",
        "from sklearn.metrics import accuracy_score\n",
        "\n",
        "# 探索結果として得られたベストのパラメーターを設定\n",
        "model = AdaBoostClassifier(\n",
        "    algorithm = study.best_params['algorithm'],\n",
        "    learning_rate = study.best_params['learning_rate']\n",
        ")\n",
        "# モデルの訓練\n",
        "model.fit(X_train, y_train)\n",
        "\n",
        "# テスト用のデータを使用して予測\n",
        "pred = model.predict(X_test)\n",
        "\n",
        "# 予測結果とテスト用のデータを使って正解率と、混同行列を出力\n",
        "print(\"Accuracy: {:.5f} %\".format(100 * accuracy_score(y_test, pred)))\n",
        "print(confusion_matrix(y_test, pred))"
      ],
      "execution_count": null,
      "outputs": []
    },
    {
      "cell_type": "code",
      "metadata": {
        "id": "SoLOq1iAPK2p"
      },
      "source": [
        "feat_importances = pd.Series(\n",
        "    model.feature_importances_,\n",
        "    index=X.columns).sort_values(ascending=True)\n",
        "\n",
        "feat_importances.plot(kind='barh')"
      ],
      "execution_count": null,
      "outputs": []
    },
    {
      "cell_type": "markdown",
      "metadata": {
        "id": "4TfINHSVIRk8"
      },
      "source": [
        "## Androidマルウェアのデータセットを使用した検出デモ\n",
        "\n",
        "This dataset created & provided by following paper:\n",
        "Urcuqui, C., & Navarro, A. (2016, April). Machine learning classifiers for android malware analysis. In Communications and Computing (COLCOM), 2016 IEEE Colombian Conference on (pp. 1-6). IEEE."
      ]
    },
    {
      "cell_type": "code",
      "metadata": {
        "id": "PR5wxRxd7p0i",
        "colab": {
          "base_uri": "https://localhost:8080/"
        },
        "outputId": "e9a2e7b7-0b86-4070-a20d-dd097191066b"
      },
      "source": [
        "!wget https://github.com/oreilly-japan/ml-security-jp/raw/master/ch03/archive.zip"
      ],
      "execution_count": null,
      "outputs": [
        {
          "output_type": "stream",
          "name": "stdout",
          "text": [
            "--2021-09-29 15:32:53--  https://github.com/oreilly-japan/ml-security-jp/raw/master/ch03/archive.zip\n",
            "Resolving github.com (github.com)... 52.69.186.44\n",
            "Connecting to github.com (github.com)|52.69.186.44|:443... connected.\n",
            "HTTP request sent, awaiting response... 302 Found\n",
            "Location: https://raw.githubusercontent.com/oreilly-japan/ml-security-jp/master/ch03/archive.zip [following]\n",
            "--2021-09-29 15:32:54--  https://raw.githubusercontent.com/oreilly-japan/ml-security-jp/master/ch03/archive.zip\n",
            "Resolving raw.githubusercontent.com (raw.githubusercontent.com)... 185.199.109.133, 185.199.111.133, 185.199.110.133, ...\n",
            "Connecting to raw.githubusercontent.com (raw.githubusercontent.com)|185.199.109.133|:443... connected.\n",
            "HTTP request sent, awaiting response... 200 OK\n",
            "Length: 9246 (9.0K) [application/zip]\n",
            "Saving to: ‘archive.zip’\n",
            "\n",
            "archive.zip         100%[===================>]   9.03K  --.-KB/s    in 0s      \n",
            "\n",
            "2021-09-29 15:32:54 (71.9 MB/s) - ‘archive.zip’ saved [9246/9246]\n",
            "\n"
          ]
        }
      ]
    },
    {
      "cell_type": "code",
      "metadata": {
        "id": "OaTOMBIbQK9t"
      },
      "source": [
        "!unzip -q archive.zip"
      ],
      "execution_count": null,
      "outputs": []
    },
    {
      "cell_type": "code",
      "metadata": {
        "id": "5GjBYJTTRpDz"
      },
      "source": [
        "import pandas as pd\n",
        "\n",
        "# データセットのロード\n",
        "AndroidDataset = pd.read_csv('train.csv', sep=';')"
      ],
      "execution_count": null,
      "outputs": []
    },
    {
      "cell_type": "code",
      "metadata": {
        "id": "X5ceBGaP98rP",
        "colab": {
          "base_uri": "https://localhost:8080/"
        },
        "outputId": "8602728c-6a47-4941-d748-8d27020372c5"
      },
      "source": [
        "AndroidDataset.type.value_counts()"
      ],
      "execution_count": null,
      "outputs": [
        {
          "output_type": "execute_result",
          "data": {
            "text/plain": [
              "1    199\n",
              "0    199\n",
              "Name: type, dtype: int64"
            ]
          },
          "metadata": {},
          "execution_count": 52
        }
      ]
    },
    {
      "cell_type": "code",
      "metadata": {
        "id": "NqUSj5GBTqsJ",
        "colab": {
          "base_uri": "https://localhost:8080/"
        },
        "outputId": "91fb1cee-e8e6-4522-977f-0621f21b0497"
      },
      "source": [
        "print(AndroidDataset.columns)"
      ],
      "execution_count": null,
      "outputs": [
        {
          "output_type": "stream",
          "name": "stdout",
          "text": [
            "Index(['android', 'android.app.cts.permission.TEST_GRANTED',\n",
            "       'android.intent.category.MASTER_CLEAR.permission.C2D_MESSAGE',\n",
            "       'android.os.cts.permission.TEST_GRANTED',\n",
            "       'android.permission.ACCESS_ALL_DOWNLOADS',\n",
            "       'android.permission.ACCESS_ALL_EXTERNAL_STORAGE',\n",
            "       'android.permission.ACCESS_BLUETOOTH_SHARE',\n",
            "       'android.permission.ACCESS_CACHE_FILESYSTEM',\n",
            "       'android.permission.ACCESS_CHECKIN_PROPERTIES',\n",
            "       'android.permission.ACCESS_COARSE_LOCATION',\n",
            "       ...\n",
            "       'com.android.voicemail.permission.WRITE_VOICEMAIL',\n",
            "       'com.foo.mypermission', 'com.foo.mypermission2',\n",
            "       'org.chromium.chrome.shell.permission.C2D_MESSAGE',\n",
            "       'org.chromium.chrome.shell.permission.DEBUG',\n",
            "       'org.chromium.chrome.shell.permission.SANDBOX',\n",
            "       'org.chromium.chromecast.shell.permission.SANDBOX',\n",
            "       'org.chromium.content_shell.permission.SANDBOX', 'test_permission',\n",
            "       'type'],\n",
            "      dtype='object', length=331)\n"
          ]
        }
      ]
    },
    {
      "cell_type": "code",
      "metadata": {
        "id": "R35kb8lMSLIU",
        "colab": {
          "base_uri": "https://localhost:8080/"
        },
        "outputId": "846ca362-ff43-4870-efd0-04c6303dd69c"
      },
      "source": [
        "pd.Series.sort_values(\n",
        "    AndroidDataset[AndroidDataset.type==1].sum(axis=0),\n",
        "    ascending=False\n",
        "    )[1:11]"
      ],
      "execution_count": null,
      "outputs": [
        {
          "output_type": "execute_result",
          "data": {
            "text/plain": [
              "android.permission.INTERNET                  195\n",
              "android.permission.READ_PHONE_STATE          190\n",
              "android.permission.ACCESS_NETWORK_STATE      167\n",
              "android.permission.WRITE_EXTERNAL_STORAGE    136\n",
              "android.permission.ACCESS_WIFI_STATE         135\n",
              "android.permission.READ_SMS                  124\n",
              "android.permission.WRITE_SMS                 104\n",
              "android.permission.RECEIVE_BOOT_COMPLETED    102\n",
              "android.permission.ACCESS_COARSE_LOCATION     80\n",
              "android.permission.CHANGE_WIFI_STATE          75\n",
              "dtype: int64"
            ]
          },
          "metadata": {},
          "execution_count": 54
        }
      ]
    },
    {
      "cell_type": "code",
      "metadata": {
        "id": "zTcczayOYRFh"
      },
      "source": [
        "top10 = ['android.permission.INTERNET',\n",
        "         'android.permission.READ_PHONE_STATE',\n",
        "         'android.permission.ACCESS_NETWORK_STATE',\n",
        "         'android.permission.WRITE_EXTERNAL_STORAGE',\n",
        "         'android.permission.ACCESS_WIFI_STATE',\n",
        "         'android.permission.READ_SMS',\n",
        "         'android.permission.WRITE_SMS',\n",
        "         'android.permission.RECEIVE_BOOT_COMPLETED',\n",
        "         'android.permission.ACCESS_COARSE_LOCATION',\n",
        "         'android.permission.CHANGE_WIFI_STATE']"
      ],
      "execution_count": null,
      "outputs": []
    },
    {
      "cell_type": "code",
      "metadata": {
        "id": "wvl4hlr6YyAL",
        "colab": {
          "base_uri": "https://localhost:8080/"
        },
        "outputId": "218969c8-3180-43d8-f1a4-cbdccee895b1"
      },
      "source": [
        "AndroidDataset.loc[AndroidDataset.type==1, top10].sum()"
      ],
      "execution_count": null,
      "outputs": [
        {
          "output_type": "execute_result",
          "data": {
            "text/plain": [
              "android.permission.INTERNET                  195\n",
              "android.permission.READ_PHONE_STATE          190\n",
              "android.permission.ACCESS_NETWORK_STATE      167\n",
              "android.permission.WRITE_EXTERNAL_STORAGE    136\n",
              "android.permission.ACCESS_WIFI_STATE         135\n",
              "android.permission.READ_SMS                  124\n",
              "android.permission.WRITE_SMS                 104\n",
              "android.permission.RECEIVE_BOOT_COMPLETED    102\n",
              "android.permission.ACCESS_COARSE_LOCATION     80\n",
              "android.permission.CHANGE_WIFI_STATE          75\n",
              "dtype: int64"
            ]
          },
          "metadata": {},
          "execution_count": 56
        }
      ]
    },
    {
      "cell_type": "code",
      "metadata": {
        "id": "eesD7cIUaQAS",
        "colab": {
          "base_uri": "https://localhost:8080/"
        },
        "outputId": "0542603e-4210-41f0-80fa-38fc6d539c54"
      },
      "source": [
        "AndroidDataset.loc[AndroidDataset.type==0, top10].sum()"
      ],
      "execution_count": null,
      "outputs": [
        {
          "output_type": "execute_result",
          "data": {
            "text/plain": [
              "android.permission.INTERNET                  104\n",
              "android.permission.READ_PHONE_STATE           24\n",
              "android.permission.ACCESS_NETWORK_STATE       62\n",
              "android.permission.WRITE_EXTERNAL_STORAGE     76\n",
              "android.permission.ACCESS_WIFI_STATE          29\n",
              "android.permission.READ_SMS                    4\n",
              "android.permission.WRITE_SMS                   1\n",
              "android.permission.RECEIVE_BOOT_COMPLETED     30\n",
              "android.permission.ACCESS_COARSE_LOCATION     13\n",
              "android.permission.CHANGE_WIFI_STATE          13\n",
              "dtype: int64"
            ]
          },
          "metadata": {},
          "execution_count": 57
        }
      ]
    },
    {
      "cell_type": "code",
      "metadata": {
        "id": "8HvuZZ3vaTpD",
        "colab": {
          "base_uri": "https://localhost:8080/",
          "height": 513
        },
        "outputId": "780ee5b0-3d8f-4b8c-f201-70dc8499f6c0"
      },
      "source": [
        "import matplotlib.pyplot as plt\n",
        "fig, axs =  plt.subplots(nrows=2, sharex=True)\n",
        "\n",
        "AndroidDataset.loc[AndroidDataset.type==0, top10].sum().plot.bar(ax=axs[0])\n",
        "AndroidDataset.loc[AndroidDataset.type==1, top10].sum().plot.bar(ax=axs[1], color=\"red\")"
      ],
      "execution_count": null,
      "outputs": [
        {
          "output_type": "execute_result",
          "data": {
            "text/plain": [
              "<matplotlib.axes._subplots.AxesSubplot at 0x7f7ce002d890>"
            ]
          },
          "metadata": {},
          "execution_count": 58
        },
        {
          "output_type": "display_data",
          "data": {
            "image/png": "[encoded data removed]",
            "text/plain": [
              "<Figure size 432x288 with 2 Axes>"
            ]
          },
          "metadata": {
            "needs_background": "light"
          }
        }
      ]
    },
    {
      "cell_type": "code",
      "metadata": {
        "id": "BD0RWPq6UcQU"
      },
      "source": [
        "from sklearn.feature_selection import mutual_info_classif\n",
        "from sklearn import preprocessing\n",
        "import numpy as np\n",
        "import pandas as pd\n",
        "from sklearn.svm import SVC, LinearSVC\n",
        "from sklearn import svm\n",
        "import csv\n",
        "import random"
      ],
      "execution_count": null,
      "outputs": []
    },
    {
      "cell_type": "code",
      "metadata": {
        "id": "zi4cwyQMUoqD"
      },
      "source": [
        "# X,yに特徴量とラベルをそれぞれ代入\n",
        "X = AndroidDataset.iloc[:,:-1]\n",
        "y = AndroidDataset.iloc[:, -1]"
      ],
      "execution_count": null,
      "outputs": []
    },
    {
      "cell_type": "code",
      "metadata": {
        "id": "M1xjXn_fUuCZ",
        "colab": {
          "base_uri": "https://localhost:8080/"
        },
        "outputId": "1e2da5a3-cc12-4ef2-c2de-63818859150e"
      },
      "source": [
        "from sklearn.svm import SVC\n",
        "from sklearn.metrics import accuracy_score\n",
        "from sklearn.model_selection import train_test_split\n",
        "import numpy as np\n",
        "import optuna\n",
        "from sklearn.model_selection import StratifiedKFold, cross_validate\n",
        "\n",
        "# データセットをテスト用のデータに20%を割り当てて分割\n",
        "X_train, X_test, y_train, y_test = \\\n",
        "train_test_split(X, y, test_size=0.2, shuffle=True, random_state=101)\n",
        "\n",
        "# SVMのハイパーパラメータチューニング用のクラスを設定\n",
        "class Objective_SVM:\n",
        "    def __init__(self, X, y):\n",
        "        self.X = X\n",
        "        self.y = y\n",
        "\n",
        "    def __call__(self, trial):\n",
        "        # チューニング対象のパラメーターを指定\n",
        "        params = {\n",
        "            'kernel': trial.suggest_categorical(\n",
        "                'kernel', ['linear', 'poly', 'rbf', 'sigmoid']),\n",
        "            'C': trial.suggest_loguniform('C', 1e-5, 1e2),\n",
        "            'gamma': trial.suggest_categorical(\n",
        "                'gamma', ['scale','auto']),\n",
        "        }\n",
        "        # モデルの初期化\n",
        "        model = SVC(**params)\n",
        "\n",
        "        scores = cross_validate(model,\n",
        "                                X=self.X, y=self.y,\n",
        "                                n_jobs=-1)\n",
        "        return scores['test_score'].mean()\n",
        "\n",
        "# チューニングの対象クラスを設定\n",
        "objective = Objective_SVM(X_train, y_train)\n",
        "study = optuna.create_study(direction='maximize')\n",
        "# 最大で1分間チューニングを実行\n",
        "study.optimize(objective, timeout=60)\n",
        "# ベストのパラメーターの出力\n",
        "print('params:', study.best_params)"
      ],
      "execution_count": null,
      "outputs": [
        {
          "output_type": "stream",
          "name": "stderr",
          "text": [
            "\u001b[32m[I 2021-09-29 15:33:02,806]\u001b[0m A new study created in memory with name: no-name-8b60f039-41ef-4c35-9d24-14253b92657f\u001b[0m\n",
            "\u001b[32m[I 2021-09-29 15:33:04,298]\u001b[0m Trial 0 finished with value: 0.5062996031746032 and parameters: {'kernel': 'poly', 'C': 5.6168649851859085, 'gamma': 'auto'}. Best is trial 0 with value: 0.5062996031746032.\u001b[0m\n",
            "\u001b[32m[I 2021-09-29 15:33:04,506]\u001b[0m Trial 1 finished with value: 0.5062996031746032 and parameters: {'kernel': 'rbf', 'C': 0.0023532541970273935, 'gamma': 'scale'}. Best is trial 0 with value: 0.5062996031746032.\u001b[0m\n",
            "\u001b[32m[I 2021-09-29 15:33:04,694]\u001b[0m Trial 2 finished with value: 0.5062996031746032 and parameters: {'kernel': 'poly', 'C': 47.26494722591585, 'gamma': 'auto'}. Best is trial 0 with value: 0.5062996031746032.\u001b[0m\n",
            "\u001b[32m[I 2021-09-29 15:33:04,885]\u001b[0m Trial 3 finished with value: 0.6069444444444445 and parameters: {'kernel': 'poly', 'C': 0.004838912473818272, 'gamma': 'scale'}. Best is trial 3 with value: 0.6069444444444445.\u001b[0m\n",
            "\u001b[32m[I 2021-09-29 15:33:05,074]\u001b[0m Trial 4 finished with value: 0.5062996031746032 and parameters: {'kernel': 'poly', 'C': 0.018342012334087884, 'gamma': 'auto'}. Best is trial 3 with value: 0.6069444444444445.\u001b[0m\n",
            "\u001b[32m[I 2021-09-29 15:33:05,174]\u001b[0m Trial 5 finished with value: 0.9402777777777779 and parameters: {'kernel': 'linear', 'C': 0.07620650992913162, 'gamma': 'auto'}. Best is trial 5 with value: 0.9402777777777779.\u001b[0m\n",
            "\u001b[32m[I 2021-09-29 15:33:05,375]\u001b[0m Trial 6 finished with value: 0.5062996031746032 and parameters: {'kernel': 'poly', 'C': 92.76883854745664, 'gamma': 'auto'}. Best is trial 5 with value: 0.9402777777777779.\u001b[0m\n",
            "\u001b[32m[I 2021-09-29 15:33:05,576]\u001b[0m Trial 7 finished with value: 0.5062996031746032 and parameters: {'kernel': 'rbf', 'C': 0.0002677423218251639, 'gamma': 'auto'}. Best is trial 5 with value: 0.9402777777777779.\u001b[0m\n",
            "\u001b[32m[I 2021-09-29 15:33:05,672]\u001b[0m Trial 8 finished with value: 0.9339781746031747 and parameters: {'kernel': 'linear', 'C': 0.08817766813826826, 'gamma': 'scale'}. Best is trial 5 with value: 0.9402777777777779.\u001b[0m\n",
            "\u001b[32m[I 2021-09-29 15:33:05,759]\u001b[0m Trial 9 finished with value: 0.9434027777777778 and parameters: {'kernel': 'linear', 'C': 14.281992342277286, 'gamma': 'auto'}. Best is trial 9 with value: 0.9434027777777778.\u001b[0m\n",
            "\u001b[32m[I 2021-09-29 15:33:05,906]\u001b[0m Trial 10 finished with value: 0.9246527777777779 and parameters: {'kernel': 'sigmoid', 'C': 3.040594476511138, 'gamma': 'auto'}. Best is trial 9 with value: 0.9434027777777778.\u001b[0m\n",
            "\u001b[32m[I 2021-09-29 15:33:06,006]\u001b[0m Trial 11 finished with value: 0.927827380952381 and parameters: {'kernel': 'linear', 'C': 1.0904413725766795, 'gamma': 'auto'}. Best is trial 9 with value: 0.9434027777777778.\u001b[0m\n",
            "\u001b[32m[I 2021-09-29 15:33:06,196]\u001b[0m Trial 12 finished with value: 0.5062996031746032 and parameters: {'kernel': 'linear', 'C': 1.581249905985985e-05, 'gamma': 'auto'}. Best is trial 9 with value: 0.9434027777777778.\u001b[0m\n",
            "\u001b[32m[I 2021-09-29 15:33:06,305]\u001b[0m Trial 13 finished with value: 0.940327380952381 and parameters: {'kernel': 'linear', 'C': 0.23607069220233146, 'gamma': 'auto'}. Best is trial 9 with value: 0.9434027777777778.\u001b[0m\n",
            "\u001b[32m[I 2021-09-29 15:33:06,407]\u001b[0m Trial 14 finished with value: 0.9372023809523811 and parameters: {'kernel': 'linear', 'C': 0.7224605763367021, 'gamma': 'scale'}. Best is trial 9 with value: 0.9434027777777778.\u001b[0m\n",
            "\u001b[32m[I 2021-09-29 15:33:06,538]\u001b[0m Trial 15 finished with value: 0.9402777777777779 and parameters: {'kernel': 'sigmoid', 'C': 13.468563451799117, 'gamma': 'auto'}. Best is trial 9 with value: 0.9434027777777778.\u001b[0m\n",
            "\u001b[32m[I 2021-09-29 15:33:06,637]\u001b[0m Trial 16 finished with value: 0.9372023809523811 and parameters: {'kernel': 'linear', 'C': 0.6092460315630566, 'gamma': 'auto'}. Best is trial 9 with value: 0.9434027777777778.\u001b[0m\n",
            "\u001b[32m[I 2021-09-29 15:33:06,768]\u001b[0m Trial 17 finished with value: 0.9372023809523811 and parameters: {'kernel': 'linear', 'C': 0.2690865526261161, 'gamma': 'auto'}. Best is trial 9 with value: 0.9434027777777778.\u001b[0m\n",
            "\u001b[32m[I 2021-09-29 15:33:06,874]\u001b[0m Trial 18 finished with value: 0.9434027777777778 and parameters: {'kernel': 'linear', 'C': 15.165959823377145, 'gamma': 'scale'}. Best is trial 9 with value: 0.9434027777777778.\u001b[0m\n",
            "\u001b[32m[I 2021-09-29 15:33:06,971]\u001b[0m Trial 19 finished with value: 0.9027281746031746 and parameters: {'kernel': 'sigmoid', 'C': 13.248698547116723, 'gamma': 'scale'}. Best is trial 9 with value: 0.9434027777777778.\u001b[0m\n",
            "\u001b[32m[I 2021-09-29 15:33:07,090]\u001b[0m Trial 20 finished with value: 0.9339781746031747 and parameters: {'kernel': 'rbf', 'C': 29.94053990778894, 'gamma': 'scale'}. Best is trial 9 with value: 0.9434027777777778.\u001b[0m\n",
            "\u001b[32m[I 2021-09-29 15:33:07,183]\u001b[0m Trial 21 finished with value: 0.9371527777777778 and parameters: {'kernel': 'linear', 'C': 3.3984867254689455, 'gamma': 'scale'}. Best is trial 9 with value: 0.9434027777777778.\u001b[0m\n",
            "\u001b[32m[I 2021-09-29 15:33:07,282]\u001b[0m Trial 22 finished with value: 0.9371527777777778 and parameters: {'kernel': 'linear', 'C': 2.442930738120866, 'gamma': 'scale'}. Best is trial 9 with value: 0.9434027777777778.\u001b[0m\n",
            "\u001b[32m[I 2021-09-29 15:33:07,390]\u001b[0m Trial 23 finished with value: 0.9371527777777778 and parameters: {'kernel': 'linear', 'C': 0.160274708390253, 'gamma': 'scale'}. Best is trial 9 with value: 0.9434027777777778.\u001b[0m\n",
            "\u001b[32m[I 2021-09-29 15:33:07,529]\u001b[0m Trial 24 finished with value: 0.9309027777777779 and parameters: {'kernel': 'linear', 'C': 0.02856606896951428, 'gamma': 'auto'}. Best is trial 9 with value: 0.9434027777777778.\u001b[0m\n",
            "\u001b[32m[I 2021-09-29 15:33:07,617]\u001b[0m Trial 25 finished with value: 0.946577380952381 and parameters: {'kernel': 'linear', 'C': 17.77685290135521, 'gamma': 'auto'}. Best is trial 25 with value: 0.946577380952381.\u001b[0m\n",
            "\u001b[32m[I 2021-09-29 15:33:07,708]\u001b[0m Trial 26 finished with value: 0.9402281746031746 and parameters: {'kernel': 'linear', 'C': 12.901660660210183, 'gamma': 'scale'}. Best is trial 25 with value: 0.946577380952381.\u001b[0m\n",
            "\u001b[32m[I 2021-09-29 15:33:07,802]\u001b[0m Trial 27 finished with value: 0.946577380952381 and parameters: {'kernel': 'linear', 'C': 51.951472735548705, 'gamma': 'auto'}. Best is trial 25 with value: 0.946577380952381.\u001b[0m\n",
            "\u001b[32m[I 2021-09-29 15:33:07,911]\u001b[0m Trial 28 finished with value: 0.9339781746031747 and parameters: {'kernel': 'rbf', 'C': 51.33433093986583, 'gamma': 'scale'}. Best is trial 25 with value: 0.946577380952381.\u001b[0m\n",
            "\u001b[32m[I 2021-09-29 15:33:08,010]\u001b[0m Trial 29 finished with value: 0.934077380952381 and parameters: {'kernel': 'sigmoid', 'C': 97.9037096064655, 'gamma': 'auto'}. Best is trial 25 with value: 0.946577380952381.\u001b[0m\n",
            "\u001b[32m[I 2021-09-29 15:33:08,097]\u001b[0m Trial 30 finished with value: 0.9339285714285716 and parameters: {'kernel': 'linear', 'C': 8.142525168810408, 'gamma': 'auto'}. Best is trial 25 with value: 0.946577380952381.\u001b[0m\n",
            "\u001b[32m[I 2021-09-29 15:33:08,192]\u001b[0m Trial 31 finished with value: 0.943452380952381 and parameters: {'kernel': 'linear', 'C': 25.63738886151133, 'gamma': 'auto'}. Best is trial 25 with value: 0.946577380952381.\u001b[0m\n",
            "\u001b[32m[I 2021-09-29 15:33:08,289]\u001b[0m Trial 32 finished with value: 0.940327380952381 and parameters: {'kernel': 'linear', 'C': 27.224415503123524, 'gamma': 'auto'}. Best is trial 25 with value: 0.946577380952381.\u001b[0m\n",
            "\u001b[32m[I 2021-09-29 15:33:08,382]\u001b[0m Trial 33 finished with value: 0.946577380952381 and parameters: {'kernel': 'linear', 'C': 5.1592600592714986, 'gamma': 'auto'}. Best is trial 25 with value: 0.946577380952381.\u001b[0m\n",
            "\u001b[32m[I 2021-09-29 15:33:08,498]\u001b[0m Trial 34 finished with value: 0.9308531746031747 and parameters: {'kernel': 'linear', 'C': 1.7911140598925799, 'gamma': 'auto'}. Best is trial 25 with value: 0.946577380952381.\u001b[0m\n",
            "\u001b[32m[I 2021-09-29 15:33:08,624]\u001b[0m Trial 35 finished with value: 0.9340277777777779 and parameters: {'kernel': 'rbf', 'C': 5.705088070113362, 'gamma': 'auto'}. Best is trial 25 with value: 0.946577380952381.\u001b[0m\n",
            "\u001b[32m[I 2021-09-29 15:33:08,813]\u001b[0m Trial 36 finished with value: 0.5062996031746032 and parameters: {'kernel': 'poly', 'C': 30.83472385988306, 'gamma': 'auto'}. Best is trial 25 with value: 0.946577380952381.\u001b[0m\n",
            "\u001b[32m[I 2021-09-29 15:33:09,011]\u001b[0m Trial 37 finished with value: 0.5062996031746032 and parameters: {'kernel': 'poly', 'C': 0.008340178396032582, 'gamma': 'auto'}. Best is trial 25 with value: 0.946577380952381.\u001b[0m\n",
            "\u001b[32m[I 2021-09-29 15:33:09,103]\u001b[0m Trial 38 finished with value: 0.9402281746031745 and parameters: {'kernel': 'linear', 'C': 93.5715171536173, 'gamma': 'auto'}. Best is trial 25 with value: 0.946577380952381.\u001b[0m\n",
            "\u001b[32m[I 2021-09-29 15:33:09,289]\u001b[0m Trial 39 finished with value: 0.5062996031746032 and parameters: {'kernel': 'linear', 'C': 0.00020864329044720446, 'gamma': 'auto'}. Best is trial 25 with value: 0.946577380952381.\u001b[0m\n",
            "\u001b[32m[I 2021-09-29 15:33:09,488]\u001b[0m Trial 40 finished with value: 0.5062996031746032 and parameters: {'kernel': 'poly', 'C': 5.094871644706003, 'gamma': 'auto'}. Best is trial 25 with value: 0.946577380952381.\u001b[0m\n",
            "\u001b[32m[I 2021-09-29 15:33:09,591]\u001b[0m Trial 41 finished with value: 0.943452380952381 and parameters: {'kernel': 'linear', 'C': 23.74259447996608, 'gamma': 'auto'}. Best is trial 25 with value: 0.946577380952381.\u001b[0m\n",
            "\u001b[32m[I 2021-09-29 15:33:09,682]\u001b[0m Trial 42 finished with value: 0.943452380952381 and parameters: {'kernel': 'linear', 'C': 42.44099719662995, 'gamma': 'auto'}. Best is trial 25 with value: 0.946577380952381.\u001b[0m\n",
            "\u001b[32m[I 2021-09-29 15:33:09,775]\u001b[0m Trial 43 finished with value: 0.946577380952381 and parameters: {'kernel': 'linear', 'C': 52.05643780731034, 'gamma': 'auto'}. Best is trial 25 with value: 0.946577380952381.\u001b[0m\n",
            "\u001b[32m[I 2021-09-29 15:33:09,881]\u001b[0m Trial 44 finished with value: 0.943452380952381 and parameters: {'kernel': 'linear', 'C': 47.06102689782061, 'gamma': 'auto'}. Best is trial 25 with value: 0.946577380952381.\u001b[0m\n",
            "\u001b[32m[I 2021-09-29 15:33:09,983]\u001b[0m Trial 45 finished with value: 0.946577380952381 and parameters: {'kernel': 'linear', 'C': 52.7475463141063, 'gamma': 'auto'}. Best is trial 25 with value: 0.946577380952381.\u001b[0m\n",
            "\u001b[32m[I 2021-09-29 15:33:10,080]\u001b[0m Trial 46 finished with value: 0.9371031746031747 and parameters: {'kernel': 'linear', 'C': 7.371540878042012, 'gamma': 'auto'}. Best is trial 25 with value: 0.946577380952381.\u001b[0m\n",
            "\u001b[32m[I 2021-09-29 15:33:10,284]\u001b[0m Trial 47 finished with value: 0.5062996031746032 and parameters: {'kernel': 'rbf', 'C': 0.0009184761421476273, 'gamma': 'auto'}. Best is trial 25 with value: 0.946577380952381.\u001b[0m\n",
            "\u001b[32m[I 2021-09-29 15:33:10,379]\u001b[0m Trial 48 finished with value: 0.9277777777777778 and parameters: {'kernel': 'linear', 'C': 1.4632811031277444, 'gamma': 'auto'}. Best is trial 25 with value: 0.946577380952381.\u001b[0m\n",
            "\u001b[32m[I 2021-09-29 15:33:10,486]\u001b[0m Trial 49 finished with value: 0.934077380952381 and parameters: {'kernel': 'sigmoid', 'C': 97.74986177964925, 'gamma': 'auto'}. Best is trial 25 with value: 0.946577380952381.\u001b[0m\n",
            "\u001b[32m[I 2021-09-29 15:33:10,582]\u001b[0m Trial 50 finished with value: 0.9372023809523811 and parameters: {'kernel': 'linear', 'C': 0.540885470733691, 'gamma': 'auto'}. Best is trial 25 with value: 0.946577380952381.\u001b[0m\n",
            "\u001b[32m[I 2021-09-29 15:33:10,671]\u001b[0m Trial 51 finished with value: 0.946577380952381 and parameters: {'kernel': 'linear', 'C': 51.55322454390374, 'gamma': 'auto'}. Best is trial 25 with value: 0.946577380952381.\u001b[0m\n",
            "\u001b[32m[I 2021-09-29 15:33:10,773]\u001b[0m Trial 52 finished with value: 0.946577380952381 and parameters: {'kernel': 'linear', 'C': 51.31125521475437, 'gamma': 'auto'}. Best is trial 25 with value: 0.946577380952381.\u001b[0m\n",
            "\u001b[32m[I 2021-09-29 15:33:10,868]\u001b[0m Trial 53 finished with value: 0.946577380952381 and parameters: {'kernel': 'linear', 'C': 53.64819884860059, 'gamma': 'auto'}. Best is trial 25 with value: 0.946577380952381.\u001b[0m\n",
            "\u001b[32m[I 2021-09-29 15:33:10,962]\u001b[0m Trial 54 finished with value: 0.9402281746031746 and parameters: {'kernel': 'linear', 'C': 13.280948678630846, 'gamma': 'auto'}. Best is trial 25 with value: 0.946577380952381.\u001b[0m\n",
            "\u001b[32m[I 2021-09-29 15:33:11,060]\u001b[0m Trial 55 finished with value: 0.943452380952381 and parameters: {'kernel': 'linear', 'C': 47.83181589018621, 'gamma': 'auto'}. Best is trial 25 with value: 0.946577380952381.\u001b[0m\n",
            "\u001b[32m[I 2021-09-29 15:33:11,155]\u001b[0m Trial 56 finished with value: 0.9402281746031745 and parameters: {'kernel': 'linear', 'C': 60.95338388231141, 'gamma': 'auto'}. Best is trial 25 with value: 0.946577380952381.\u001b[0m\n",
            "\u001b[32m[I 2021-09-29 15:33:11,353]\u001b[0m Trial 57 finished with value: 0.5062996031746032 and parameters: {'kernel': 'poly', 'C': 4.456832183347467, 'gamma': 'auto'}. Best is trial 25 with value: 0.946577380952381.\u001b[0m\n",
            "\u001b[32m[I 2021-09-29 15:33:11,453]\u001b[0m Trial 58 finished with value: 0.9370535714285715 and parameters: {'kernel': 'linear', 'C': 8.620353268980933, 'gamma': 'auto'}. Best is trial 25 with value: 0.946577380952381.\u001b[0m\n",
            "\u001b[32m[I 2021-09-29 15:33:11,581]\u001b[0m Trial 59 finished with value: 0.9402777777777779 and parameters: {'kernel': 'sigmoid', 'C': 22.936081438999075, 'gamma': 'auto'}. Best is trial 25 with value: 0.946577380952381.\u001b[0m\n",
            "\u001b[32m[I 2021-09-29 15:33:11,674]\u001b[0m Trial 60 finished with value: 0.946577380952381 and parameters: {'kernel': 'linear', 'C': 17.589063889395437, 'gamma': 'auto'}. Best is trial 25 with value: 0.946577380952381.\u001b[0m\n",
            "\u001b[32m[I 2021-09-29 15:33:11,761]\u001b[0m Trial 61 finished with value: 0.943452380952381 and parameters: {'kernel': 'linear', 'C': 18.783189270576422, 'gamma': 'auto'}. Best is trial 25 with value: 0.946577380952381.\u001b[0m\n",
            "\u001b[32m[I 2021-09-29 15:33:11,857]\u001b[0m Trial 62 finished with value: 0.9402281746031746 and parameters: {'kernel': 'linear', 'C': 10.86596817084677, 'gamma': 'auto'}. Best is trial 25 with value: 0.946577380952381.\u001b[0m\n",
            "\u001b[32m[I 2021-09-29 15:33:11,950]\u001b[0m Trial 63 finished with value: 0.946577380952381 and parameters: {'kernel': 'linear', 'C': 17.25653856223435, 'gamma': 'auto'}. Best is trial 25 with value: 0.946577380952381.\u001b[0m\n",
            "\u001b[32m[I 2021-09-29 15:33:12,047]\u001b[0m Trial 64 finished with value: 0.9402281746031745 and parameters: {'kernel': 'linear', 'C': 59.7115346189253, 'gamma': 'auto'}. Best is trial 25 with value: 0.946577380952381.\u001b[0m\n",
            "\u001b[32m[I 2021-09-29 15:33:12,136]\u001b[0m Trial 65 finished with value: 0.9402281746031745 and parameters: {'kernel': 'linear', 'C': 62.33351041785413, 'gamma': 'auto'}. Best is trial 25 with value: 0.946577380952381.\u001b[0m\n",
            "\u001b[32m[I 2021-09-29 15:33:12,229]\u001b[0m Trial 66 finished with value: 0.9340277777777779 and parameters: {'kernel': 'linear', 'C': 3.123178542516108, 'gamma': 'auto'}. Best is trial 25 with value: 0.946577380952381.\u001b[0m\n",
            "\u001b[32m[I 2021-09-29 15:33:12,341]\u001b[0m Trial 67 finished with value: 0.9372023809523811 and parameters: {'kernel': 'rbf', 'C': 36.11077418293781, 'gamma': 'auto'}. Best is trial 25 with value: 0.946577380952381.\u001b[0m\n",
            "\u001b[32m[I 2021-09-29 15:33:12,450]\u001b[0m Trial 68 finished with value: 0.9402777777777779 and parameters: {'kernel': 'linear', 'C': 0.06856076905873339, 'gamma': 'auto'}. Best is trial 25 with value: 0.946577380952381.\u001b[0m\n",
            "\u001b[32m[I 2021-09-29 15:33:12,549]\u001b[0m Trial 69 finished with value: 0.9370535714285715 and parameters: {'kernel': 'linear', 'C': 8.807791124322039, 'gamma': 'scale'}. Best is trial 25 with value: 0.946577380952381.\u001b[0m\n",
            "\u001b[32m[I 2021-09-29 15:33:12,752]\u001b[0m Trial 70 finished with value: 0.8996031746031747 and parameters: {'kernel': 'sigmoid', 'C': 0.8957100102730252, 'gamma': 'auto'}. Best is trial 25 with value: 0.946577380952381.\u001b[0m\n",
            "\u001b[32m[I 2021-09-29 15:33:12,855]\u001b[0m Trial 71 finished with value: 0.9402281746031745 and parameters: {'kernel': 'linear', 'C': 67.01705962599604, 'gamma': 'auto'}. Best is trial 25 with value: 0.946577380952381.\u001b[0m\n",
            "\u001b[32m[I 2021-09-29 15:33:12,948]\u001b[0m Trial 72 finished with value: 0.940327380952381 and parameters: {'kernel': 'linear', 'C': 26.912246395456478, 'gamma': 'auto'}. Best is trial 25 with value: 0.946577380952381.\u001b[0m\n",
            "\u001b[32m[I 2021-09-29 15:33:13,139]\u001b[0m Trial 73 finished with value: 0.5062996031746032 and parameters: {'kernel': 'linear', 'C': 1.5499128099280297e-05, 'gamma': 'auto'}. Best is trial 25 with value: 0.946577380952381.\u001b[0m\n",
            "\u001b[32m[I 2021-09-29 15:33:13,238]\u001b[0m Trial 74 finished with value: 0.946577380952381 and parameters: {'kernel': 'linear', 'C': 17.213474155598142, 'gamma': 'auto'}. Best is trial 25 with value: 0.946577380952381.\u001b[0m\n",
            "\u001b[32m[I 2021-09-29 15:33:13,337]\u001b[0m Trial 75 finished with value: 0.940327380952381 and parameters: {'kernel': 'linear', 'C': 33.82450930406329, 'gamma': 'auto'}. Best is trial 25 with value: 0.946577380952381.\u001b[0m\n",
            "\u001b[32m[I 2021-09-29 15:33:13,435]\u001b[0m Trial 76 finished with value: 0.946577380952381 and parameters: {'kernel': 'linear', 'C': 18.043565004960566, 'gamma': 'auto'}. Best is trial 25 with value: 0.946577380952381.\u001b[0m\n",
            "\u001b[32m[I 2021-09-29 15:33:13,539]\u001b[0m Trial 77 finished with value: 0.946577380952381 and parameters: {'kernel': 'linear', 'C': 17.226980558984444, 'gamma': 'auto'}. Best is trial 25 with value: 0.946577380952381.\u001b[0m\n",
            "\u001b[32m[I 2021-09-29 15:33:13,636]\u001b[0m Trial 78 finished with value: 0.9309027777777779 and parameters: {'kernel': 'poly', 'C': 37.439252259576286, 'gamma': 'scale'}. Best is trial 25 with value: 0.946577380952381.\u001b[0m\n",
            "\u001b[32m[I 2021-09-29 15:33:13,762]\u001b[0m Trial 79 finished with value: 0.9340277777777779 and parameters: {'kernel': 'rbf', 'C': 5.569513815223626, 'gamma': 'auto'}. Best is trial 25 with value: 0.946577380952381.\u001b[0m\n",
            "\u001b[32m[I 2021-09-29 15:33:13,855]\u001b[0m Trial 80 finished with value: 0.9371527777777778 and parameters: {'kernel': 'linear', 'C': 3.229853536184543, 'gamma': 'auto'}. Best is trial 25 with value: 0.946577380952381.\u001b[0m\n",
            "\u001b[32m[I 2021-09-29 15:33:13,950]\u001b[0m Trial 81 finished with value: 0.943452380952381 and parameters: {'kernel': 'linear', 'C': 18.34245785285022, 'gamma': 'auto'}. Best is trial 25 with value: 0.946577380952381.\u001b[0m\n",
            "\u001b[32m[I 2021-09-29 15:33:14,040]\u001b[0m Trial 82 finished with value: 0.9402281746031746 and parameters: {'kernel': 'linear', 'C': 11.678610019678421, 'gamma': 'auto'}. Best is trial 25 with value: 0.946577380952381.\u001b[0m\n",
            "\u001b[32m[I 2021-09-29 15:33:14,134]\u001b[0m Trial 83 finished with value: 0.9402281746031745 and parameters: {'kernel': 'linear', 'C': 78.98985609728722, 'gamma': 'auto'}. Best is trial 25 with value: 0.946577380952381.\u001b[0m\n",
            "\u001b[32m[I 2021-09-29 15:33:14,230]\u001b[0m Trial 84 finished with value: 0.940327380952381 and parameters: {'kernel': 'linear', 'C': 33.82936750634606, 'gamma': 'auto'}. Best is trial 25 with value: 0.946577380952381.\u001b[0m\n",
            "\u001b[32m[I 2021-09-29 15:33:14,333]\u001b[0m Trial 85 finished with value: 0.946577380952381 and parameters: {'kernel': 'linear', 'C': 51.54340588916691, 'gamma': 'auto'}. Best is trial 25 with value: 0.946577380952381.\u001b[0m\n",
            "\u001b[32m[I 2021-09-29 15:33:14,431]\u001b[0m Trial 86 finished with value: 0.9402281746031745 and parameters: {'kernel': 'linear', 'C': 87.54090439244344, 'gamma': 'auto'}. Best is trial 25 with value: 0.946577380952381.\u001b[0m\n",
            "\u001b[32m[I 2021-09-29 15:33:14,534]\u001b[0m Trial 87 finished with value: 0.9371031746031747 and parameters: {'kernel': 'linear', 'C': 7.259022290628678, 'gamma': 'auto'}. Best is trial 25 with value: 0.946577380952381.\u001b[0m\n",
            "\u001b[32m[I 2021-09-29 15:33:14,629]\u001b[0m Trial 88 finished with value: 0.940327380952381 and parameters: {'kernel': 'linear', 'C': 27.597713894871482, 'gamma': 'auto'}. Best is trial 25 with value: 0.946577380952381.\u001b[0m\n",
            "\u001b[32m[I 2021-09-29 15:33:14,719]\u001b[0m Trial 89 finished with value: 0.943452380952381 and parameters: {'kernel': 'linear', 'C': 45.67110059698546, 'gamma': 'auto'}. Best is trial 25 with value: 0.946577380952381.\u001b[0m\n",
            "\u001b[32m[I 2021-09-29 15:33:14,822]\u001b[0m Trial 90 finished with value: 0.9245535714285715 and parameters: {'kernel': 'sigmoid', 'C': 2.2755589176063147, 'gamma': 'scale'}. Best is trial 25 with value: 0.946577380952381.\u001b[0m\n",
            "\u001b[32m[I 2021-09-29 15:33:14,924]\u001b[0m Trial 91 finished with value: 0.9402281746031745 and parameters: {'kernel': 'linear', 'C': 70.65591594039982, 'gamma': 'auto'}. Best is trial 25 with value: 0.946577380952381.\u001b[0m\n",
            "\u001b[32m[I 2021-09-29 15:33:15,020]\u001b[0m Trial 92 finished with value: 0.9402281746031746 and parameters: {'kernel': 'linear', 'C': 12.391188552210625, 'gamma': 'auto'}. Best is trial 25 with value: 0.946577380952381.\u001b[0m\n",
            "\u001b[32m[I 2021-09-29 15:33:15,120]\u001b[0m Trial 93 finished with value: 0.946577380952381 and parameters: {'kernel': 'linear', 'C': 17.2049327943939, 'gamma': 'auto'}. Best is trial 25 with value: 0.946577380952381.\u001b[0m\n",
            "\u001b[32m[I 2021-09-29 15:33:15,216]\u001b[0m Trial 94 finished with value: 0.943452380952381 and parameters: {'kernel': 'linear', 'C': 18.601645423126786, 'gamma': 'auto'}. Best is trial 25 with value: 0.946577380952381.\u001b[0m\n",
            "\u001b[32m[I 2021-09-29 15:33:15,311]\u001b[0m Trial 95 finished with value: 0.946577380952381 and parameters: {'kernel': 'linear', 'C': 4.593380120220816, 'gamma': 'auto'}. Best is trial 25 with value: 0.946577380952381.\u001b[0m\n",
            "\u001b[32m[I 2021-09-29 15:33:15,519]\u001b[0m Trial 96 finished with value: 0.5062996031746032 and parameters: {'kernel': 'poly', 'C': 49.399999456399996, 'gamma': 'auto'}. Best is trial 25 with value: 0.946577380952381.\u001b[0m\n",
            "\u001b[32m[I 2021-09-29 15:33:15,619]\u001b[0m Trial 97 finished with value: 0.9402281746031745 and parameters: {'kernel': 'linear', 'C': 91.94456572921234, 'gamma': 'auto'}. Best is trial 25 with value: 0.946577380952381.\u001b[0m\n",
            "\u001b[32m[I 2021-09-29 15:33:15,725]\u001b[0m Trial 98 finished with value: 0.943452380952381 and parameters: {'kernel': 'linear', 'C': 24.022790102258746, 'gamma': 'auto'}. Best is trial 25 with value: 0.946577380952381.\u001b[0m\n",
            "\u001b[32m[I 2021-09-29 15:33:15,915]\u001b[0m Trial 99 finished with value: 0.5062996031746032 and parameters: {'kernel': 'linear', 'C': 4.389171463953844e-05, 'gamma': 'auto'}. Best is trial 25 with value: 0.946577380952381.\u001b[0m\n",
            "\u001b[32m[I 2021-09-29 15:33:16,007]\u001b[0m Trial 100 finished with value: 0.943452380952381 and parameters: {'kernel': 'linear', 'C': 43.33793228818831, 'gamma': 'auto'}. Best is trial 25 with value: 0.946577380952381.\u001b[0m\n",
            "\u001b[32m[I 2021-09-29 15:33:16,100]\u001b[0m Trial 101 finished with value: 0.9339285714285716 and parameters: {'kernel': 'linear', 'C': 8.960023271918084, 'gamma': 'auto'}. Best is trial 25 with value: 0.946577380952381.\u001b[0m\n",
            "\u001b[32m[I 2021-09-29 15:33:16,192]\u001b[0m Trial 102 finished with value: 0.9402281746031745 and parameters: {'kernel': 'linear', 'C': 56.9360544640834, 'gamma': 'auto'}. Best is trial 25 with value: 0.946577380952381.\u001b[0m\n",
            "\u001b[32m[I 2021-09-29 15:33:16,290]\u001b[0m Trial 103 finished with value: 0.946577380952381 and parameters: {'kernel': 'linear', 'C': 19.773006580395336, 'gamma': 'auto'}. Best is trial 25 with value: 0.946577380952381.\u001b[0m\n",
            "\u001b[32m[I 2021-09-29 15:33:16,378]\u001b[0m Trial 104 finished with value: 0.946577380952381 and parameters: {'kernel': 'linear', 'C': 17.581574490479632, 'gamma': 'auto'}. Best is trial 25 with value: 0.946577380952381.\u001b[0m\n",
            "\u001b[32m[I 2021-09-29 15:33:16,486]\u001b[0m Trial 105 finished with value: 0.9372023809523811 and parameters: {'kernel': 'rbf', 'C': 33.80708686475589, 'gamma': 'auto'}. Best is trial 25 with value: 0.946577380952381.\u001b[0m\n",
            "\u001b[32m[I 2021-09-29 15:33:16,581]\u001b[0m Trial 106 finished with value: 0.9371031746031747 and parameters: {'kernel': 'linear', 'C': 6.508025308639328, 'gamma': 'auto'}. Best is trial 25 with value: 0.946577380952381.\u001b[0m\n",
            "\u001b[32m[I 2021-09-29 15:33:16,685]\u001b[0m Trial 107 finished with value: 0.9402281746031746 and parameters: {'kernel': 'linear', 'C': 11.573753130623881, 'gamma': 'auto'}. Best is trial 25 with value: 0.946577380952381.\u001b[0m\n",
            "\u001b[32m[I 2021-09-29 15:33:16,782]\u001b[0m Trial 108 finished with value: 0.946577380952381 and parameters: {'kernel': 'linear', 'C': 16.135213150737705, 'gamma': 'auto'}. Best is trial 25 with value: 0.946577380952381.\u001b[0m\n",
            "\u001b[32m[I 2021-09-29 15:33:16,971]\u001b[0m Trial 109 finished with value: 0.9089781746031746 and parameters: {'kernel': 'linear', 'C': 0.0032352746013557115, 'gamma': 'scale'}. Best is trial 25 with value: 0.946577380952381.\u001b[0m\n",
            "\u001b[32m[I 2021-09-29 15:33:17,128]\u001b[0m Trial 110 finished with value: 0.930952380952381 and parameters: {'kernel': 'sigmoid', 'C': 4.3942679956074855, 'gamma': 'auto'}. Best is trial 25 with value: 0.946577380952381.\u001b[0m\n",
            "\u001b[32m[I 2021-09-29 15:33:17,226]\u001b[0m Trial 111 finished with value: 0.9246031746031746 and parameters: {'kernel': 'linear', 'C': 1.5430802958011285, 'gamma': 'auto'}. Best is trial 25 with value: 0.946577380952381.\u001b[0m\n",
            "\u001b[32m[I 2021-09-29 15:33:17,350]\u001b[0m Trial 112 finished with value: 0.943452380952381 and parameters: {'kernel': 'linear', 'C': 25.105426830001253, 'gamma': 'auto'}. Best is trial 25 with value: 0.946577380952381.\u001b[0m\n",
            "\u001b[32m[I 2021-09-29 15:33:17,450]\u001b[0m Trial 113 finished with value: 0.946577380952381 and parameters: {'kernel': 'linear', 'C': 16.176430592140445, 'gamma': 'auto'}. Best is trial 25 with value: 0.946577380952381.\u001b[0m\n",
            "\u001b[32m[I 2021-09-29 15:33:17,549]\u001b[0m Trial 114 finished with value: 0.9402281746031746 and parameters: {'kernel': 'linear', 'C': 9.826280124436135, 'gamma': 'auto'}. Best is trial 25 with value: 0.946577380952381.\u001b[0m\n",
            "\u001b[32m[I 2021-09-29 15:33:17,650]\u001b[0m Trial 115 finished with value: 0.943452380952381 and parameters: {'kernel': 'linear', 'C': 36.75006850593052, 'gamma': 'auto'}. Best is trial 25 with value: 0.946577380952381.\u001b[0m\n",
            "\u001b[32m[I 2021-09-29 15:33:17,741]\u001b[0m Trial 116 finished with value: 0.943452380952381 and parameters: {'kernel': 'linear', 'C': 21.742152486332028, 'gamma': 'auto'}. Best is trial 25 with value: 0.946577380952381.\u001b[0m\n",
            "\u001b[32m[I 2021-09-29 15:33:17,833]\u001b[0m Trial 117 finished with value: 0.9402281746031745 and parameters: {'kernel': 'linear', 'C': 63.299488428005056, 'gamma': 'auto'}. Best is trial 25 with value: 0.946577380952381.\u001b[0m\n",
            "\u001b[32m[I 2021-09-29 15:33:17,936]\u001b[0m Trial 118 finished with value: 0.934077380952381 and parameters: {'kernel': 'linear', 'C': 0.32254018538140855, 'gamma': 'auto'}. Best is trial 25 with value: 0.946577380952381.\u001b[0m\n",
            "\u001b[32m[I 2021-09-29 15:33:18,130]\u001b[0m Trial 119 finished with value: 0.5062996031746032 and parameters: {'kernel': 'poly', 'C': 4.969476170522182, 'gamma': 'auto'}. Best is trial 25 with value: 0.946577380952381.\u001b[0m\n",
            "\u001b[32m[I 2021-09-29 15:33:18,230]\u001b[0m Trial 120 finished with value: 0.9372023809523811 and parameters: {'kernel': 'rbf', 'C': 74.93077243266154, 'gamma': 'auto'}. Best is trial 25 with value: 0.946577380952381.\u001b[0m\n",
            "\u001b[32m[I 2021-09-29 15:33:18,323]\u001b[0m Trial 121 finished with value: 0.9434027777777778 and parameters: {'kernel': 'linear', 'C': 14.800907915792273, 'gamma': 'auto'}. Best is trial 25 with value: 0.946577380952381.\u001b[0m\n",
            "\u001b[32m[I 2021-09-29 15:33:18,417]\u001b[0m Trial 122 finished with value: 0.943452380952381 and parameters: {'kernel': 'linear', 'C': 47.47770433660152, 'gamma': 'auto'}. Best is trial 25 with value: 0.946577380952381.\u001b[0m\n",
            "\u001b[32m[I 2021-09-29 15:33:18,516]\u001b[0m Trial 123 finished with value: 0.940327380952381 and parameters: {'kernel': 'linear', 'C': 27.341417053710288, 'gamma': 'auto'}. Best is trial 25 with value: 0.946577380952381.\u001b[0m\n",
            "\u001b[32m[I 2021-09-29 15:33:18,605]\u001b[0m Trial 124 finished with value: 0.9371031746031747 and parameters: {'kernel': 'linear', 'C': 6.953026348344307, 'gamma': 'auto'}. Best is trial 25 with value: 0.946577380952381.\u001b[0m\n",
            "\u001b[32m[I 2021-09-29 15:33:18,711]\u001b[0m Trial 125 finished with value: 0.9371527777777778 and parameters: {'kernel': 'linear', 'C': 2.5256142732631344, 'gamma': 'auto'}. Best is trial 25 with value: 0.946577380952381.\u001b[0m\n",
            "\u001b[32m[I 2021-09-29 15:33:18,803]\u001b[0m Trial 126 finished with value: 0.9402281746031745 and parameters: {'kernel': 'linear', 'C': 97.95237679805673, 'gamma': 'auto'}. Best is trial 25 with value: 0.946577380952381.\u001b[0m\n",
            "\u001b[32m[I 2021-09-29 15:33:18,896]\u001b[0m Trial 127 finished with value: 0.943452380952381 and parameters: {'kernel': 'linear', 'C': 3.7365466970751173, 'gamma': 'auto'}. Best is trial 25 with value: 0.946577380952381.\u001b[0m\n",
            "\u001b[32m[I 2021-09-29 15:33:18,996]\u001b[0m Trial 128 finished with value: 0.943452380952381 and parameters: {'kernel': 'linear', 'C': 38.27098255967416, 'gamma': 'scale'}. Best is trial 25 with value: 0.946577380952381.\u001b[0m\n",
            "\u001b[32m[I 2021-09-29 15:33:19,096]\u001b[0m Trial 129 finished with value: 0.943452380952381 and parameters: {'kernel': 'linear', 'C': 18.38392867070262, 'gamma': 'auto'}. Best is trial 25 with value: 0.946577380952381.\u001b[0m\n",
            "\u001b[32m[I 2021-09-29 15:33:19,207]\u001b[0m Trial 130 finished with value: 0.9402281746031746 and parameters: {'kernel': 'linear', 'C': 13.293185492388925, 'gamma': 'auto'}. Best is trial 25 with value: 0.946577380952381.\u001b[0m\n",
            "\u001b[32m[I 2021-09-29 15:33:19,302]\u001b[0m Trial 131 finished with value: 0.943452380952381 and parameters: {'kernel': 'linear', 'C': 18.45003536348552, 'gamma': 'auto'}. Best is trial 25 with value: 0.946577380952381.\u001b[0m\n",
            "\u001b[32m[I 2021-09-29 15:33:19,407]\u001b[0m Trial 132 finished with value: 0.940327380952381 and parameters: {'kernel': 'linear', 'C': 29.19965952347252, 'gamma': 'auto'}. Best is trial 25 with value: 0.946577380952381.\u001b[0m\n",
            "\u001b[32m[I 2021-09-29 15:33:19,504]\u001b[0m Trial 133 finished with value: 0.9402281746031746 and parameters: {'kernel': 'linear', 'C': 9.888792274865525, 'gamma': 'auto'}. Best is trial 25 with value: 0.946577380952381.\u001b[0m\n",
            "\u001b[32m[I 2021-09-29 15:33:19,597]\u001b[0m Trial 134 finished with value: 0.9402281746031745 and parameters: {'kernel': 'linear', 'C': 65.58932657073646, 'gamma': 'auto'}. Best is trial 25 with value: 0.946577380952381.\u001b[0m\n",
            "\u001b[32m[I 2021-09-29 15:33:19,754]\u001b[0m Trial 135 finished with value: 0.9246527777777779 and parameters: {'kernel': 'linear', 'C': 0.00931053652284359, 'gamma': 'auto'}. Best is trial 25 with value: 0.946577380952381.\u001b[0m\n",
            "\u001b[32m[I 2021-09-29 15:33:19,859]\u001b[0m Trial 136 finished with value: 0.943452380952381 and parameters: {'kernel': 'linear', 'C': 45.59788863187586, 'gamma': 'auto'}. Best is trial 25 with value: 0.946577380952381.\u001b[0m\n",
            "\u001b[32m[I 2021-09-29 15:33:20,048]\u001b[0m Trial 137 finished with value: 0.5125496031746032 and parameters: {'kernel': 'linear', 'C': 0.0011547527327560453, 'gamma': 'auto'}. Best is trial 25 with value: 0.946577380952381.\u001b[0m\n",
            "\u001b[32m[I 2021-09-29 15:33:20,146]\u001b[0m Trial 138 finished with value: 0.940327380952381 and parameters: {'kernel': 'linear', 'C': 27.875121339736637, 'gamma': 'auto'}. Best is trial 25 with value: 0.946577380952381.\u001b[0m\n",
            "\u001b[32m[I 2021-09-29 15:33:20,260]\u001b[0m Trial 139 finished with value: 0.9371527777777778 and parameters: {'kernel': 'sigmoid', 'C': 38.342324983163074, 'gamma': 'auto'}. Best is trial 25 with value: 0.946577380952381.\u001b[0m\n",
            "\u001b[32m[I 2021-09-29 15:33:20,455]\u001b[0m Trial 140 finished with value: 0.5062996031746032 and parameters: {'kernel': 'poly', 'C': 0.05004863954578942, 'gamma': 'auto'}. Best is trial 25 with value: 0.946577380952381.\u001b[0m\n",
            "\u001b[32m[I 2021-09-29 15:33:20,550]\u001b[0m Trial 141 finished with value: 0.946577380952381 and parameters: {'kernel': 'linear', 'C': 15.809433195602034, 'gamma': 'auto'}. Best is trial 25 with value: 0.946577380952381.\u001b[0m\n",
            "\u001b[32m[I 2021-09-29 15:33:20,644]\u001b[0m Trial 142 finished with value: 0.943452380952381 and parameters: {'kernel': 'linear', 'C': 24.537119691225996, 'gamma': 'auto'}. Best is trial 25 with value: 0.946577380952381.\u001b[0m\n",
            "\u001b[32m[I 2021-09-29 15:33:20,753]\u001b[0m Trial 143 finished with value: 0.9402281746031745 and parameters: {'kernel': 'linear', 'C': 55.27782551550423, 'gamma': 'auto'}. Best is trial 25 with value: 0.946577380952381.\u001b[0m\n",
            "\u001b[32m[I 2021-09-29 15:33:20,849]\u001b[0m Trial 144 finished with value: 0.9402281746031746 and parameters: {'kernel': 'linear', 'C': 13.014615840847888, 'gamma': 'auto'}. Best is trial 25 with value: 0.946577380952381.\u001b[0m\n",
            "\u001b[32m[I 2021-09-29 15:33:20,942]\u001b[0m Trial 145 finished with value: 0.9370535714285715 and parameters: {'kernel': 'linear', 'C': 8.548250011284404, 'gamma': 'auto'}. Best is trial 25 with value: 0.946577380952381.\u001b[0m\n",
            "\u001b[32m[I 2021-09-29 15:33:21,037]\u001b[0m Trial 146 finished with value: 0.946577380952381 and parameters: {'kernel': 'linear', 'C': 19.394367274826163, 'gamma': 'auto'}. Best is trial 25 with value: 0.946577380952381.\u001b[0m\n",
            "\u001b[32m[I 2021-09-29 15:33:21,136]\u001b[0m Trial 147 finished with value: 0.946577380952381 and parameters: {'kernel': 'linear', 'C': 17.915951496692582, 'gamma': 'auto'}. Best is trial 25 with value: 0.946577380952381.\u001b[0m\n",
            "\u001b[32m[I 2021-09-29 15:33:21,236]\u001b[0m Trial 148 finished with value: 0.9371031746031747 and parameters: {'kernel': 'linear', 'C': 6.600226353612508, 'gamma': 'auto'}. Best is trial 25 with value: 0.946577380952381.\u001b[0m\n",
            "\u001b[32m[I 2021-09-29 15:33:21,346]\u001b[0m Trial 149 finished with value: 0.9339781746031747 and parameters: {'kernel': 'rbf', 'C': 32.95136776020275, 'gamma': 'scale'}. Best is trial 25 with value: 0.946577380952381.\u001b[0m\n",
            "\u001b[32m[I 2021-09-29 15:33:21,444]\u001b[0m Trial 150 finished with value: 0.9402281746031745 and parameters: {'kernel': 'linear', 'C': 71.55181809054899, 'gamma': 'auto'}. Best is trial 25 with value: 0.946577380952381.\u001b[0m\n",
            "\u001b[32m[I 2021-09-29 15:33:21,540]\u001b[0m Trial 151 finished with value: 0.9434027777777778 and parameters: {'kernel': 'linear', 'C': 14.792386665566086, 'gamma': 'auto'}. Best is trial 25 with value: 0.946577380952381.\u001b[0m\n",
            "\u001b[32m[I 2021-09-29 15:33:21,636]\u001b[0m Trial 152 finished with value: 0.946577380952381 and parameters: {'kernel': 'linear', 'C': 20.08666651556344, 'gamma': 'auto'}. Best is trial 25 with value: 0.946577380952381.\u001b[0m\n",
            "\u001b[32m[I 2021-09-29 15:33:21,738]\u001b[0m Trial 153 finished with value: 0.943452380952381 and parameters: {'kernel': 'linear', 'C': 42.83618302368785, 'gamma': 'auto'}. Best is trial 25 with value: 0.946577380952381.\u001b[0m\n",
            "\u001b[32m[I 2021-09-29 15:33:21,827]\u001b[0m Trial 154 finished with value: 0.943452380952381 and parameters: {'kernel': 'linear', 'C': 25.289367375321028, 'gamma': 'auto'}. Best is trial 25 with value: 0.946577380952381.\u001b[0m\n",
            "\u001b[32m[I 2021-09-29 15:33:21,922]\u001b[0m Trial 155 finished with value: 0.9402281746031745 and parameters: {'kernel': 'linear', 'C': 97.16581840346072, 'gamma': 'auto'}. Best is trial 25 with value: 0.946577380952381.\u001b[0m\n",
            "\u001b[32m[I 2021-09-29 15:33:22,021]\u001b[0m Trial 156 finished with value: 0.9402281746031746 and parameters: {'kernel': 'linear', 'C': 10.417226123978715, 'gamma': 'auto'}. Best is trial 25 with value: 0.946577380952381.\u001b[0m\n",
            "\u001b[32m[I 2021-09-29 15:33:22,120]\u001b[0m Trial 157 finished with value: 0.9434027777777778 and parameters: {'kernel': 'linear', 'C': 14.412899798259923, 'gamma': 'auto'}. Best is trial 25 with value: 0.946577380952381.\u001b[0m\n",
            "\u001b[32m[I 2021-09-29 15:33:22,222]\u001b[0m Trial 158 finished with value: 0.946577380952381 and parameters: {'kernel': 'linear', 'C': 49.75008504163871, 'gamma': 'auto'}. Best is trial 25 with value: 0.946577380952381.\u001b[0m\n",
            "\u001b[32m[I 2021-09-29 15:33:22,322]\u001b[0m Trial 159 finished with value: 0.9402281746031745 and parameters: {'kernel': 'linear', 'C': 57.82881826686228, 'gamma': 'auto'}. Best is trial 25 with value: 0.946577380952381.\u001b[0m\n",
            "\u001b[32m[I 2021-09-29 15:33:22,419]\u001b[0m Trial 160 finished with value: 0.946577380952381 and parameters: {'kernel': 'linear', 'C': 17.050734890397138, 'gamma': 'auto'}. Best is trial 25 with value: 0.946577380952381.\u001b[0m\n",
            "\u001b[32m[I 2021-09-29 15:33:22,518]\u001b[0m Trial 161 finished with value: 0.940327380952381 and parameters: {'kernel': 'linear', 'C': 32.79448071025822, 'gamma': 'auto'}. Best is trial 25 with value: 0.946577380952381.\u001b[0m\n",
            "\u001b[32m[I 2021-09-29 15:33:22,612]\u001b[0m Trial 162 finished with value: 0.940327380952381 and parameters: {'kernel': 'linear', 'C': 33.491941253950735, 'gamma': 'auto'}. Best is trial 25 with value: 0.946577380952381.\u001b[0m\n",
            "\u001b[32m[I 2021-09-29 15:33:22,725]\u001b[0m Trial 163 finished with value: 0.9371527777777778 and parameters: {'kernel': 'linear', 'C': 0.1473968217912891, 'gamma': 'auto'}. Best is trial 25 with value: 0.946577380952381.\u001b[0m\n",
            "\u001b[32m[I 2021-09-29 15:33:22,818]\u001b[0m Trial 164 finished with value: 0.946577380952381 and parameters: {'kernel': 'linear', 'C': 21.323885549101494, 'gamma': 'auto'}. Best is trial 25 with value: 0.946577380952381.\u001b[0m\n",
            "\u001b[32m[I 2021-09-29 15:33:22,907]\u001b[0m Trial 165 finished with value: 0.943452380952381 and parameters: {'kernel': 'linear', 'C': 22.85157573626051, 'gamma': 'auto'}. Best is trial 25 with value: 0.946577380952381.\u001b[0m\n",
            "\u001b[32m[I 2021-09-29 15:33:23,000]\u001b[0m Trial 166 finished with value: 0.9402281746031746 and parameters: {'kernel': 'linear', 'C': 11.48853010941695, 'gamma': 'auto'}. Best is trial 25 with value: 0.946577380952381.\u001b[0m\n",
            "\u001b[32m[I 2021-09-29 15:33:23,141]\u001b[0m Trial 167 finished with value: 0.9340277777777779 and parameters: {'kernel': 'sigmoid', 'C': 6.9028950384582695, 'gamma': 'auto'}. Best is trial 25 with value: 0.946577380952381.\u001b[0m\n",
            "\u001b[32m[I 2021-09-29 15:33:23,248]\u001b[0m Trial 168 finished with value: 0.946577380952381 and parameters: {'kernel': 'linear', 'C': 21.251718028941067, 'gamma': 'auto'}. Best is trial 25 with value: 0.946577380952381.\u001b[0m\n",
            "\u001b[32m[I 2021-09-29 15:33:23,344]\u001b[0m Trial 169 finished with value: 0.9402281746031746 and parameters: {'kernel': 'linear', 'C': 10.065457817219228, 'gamma': 'auto'}. Best is trial 25 with value: 0.946577380952381.\u001b[0m\n",
            "\u001b[32m[I 2021-09-29 15:33:23,441]\u001b[0m Trial 170 finished with value: 0.9434027777777778 and parameters: {'kernel': 'linear', 'C': 14.746871353393624, 'gamma': 'auto'}. Best is trial 25 with value: 0.946577380952381.\u001b[0m\n",
            "\u001b[32m[I 2021-09-29 15:33:23,534]\u001b[0m Trial 171 finished with value: 0.946577380952381 and parameters: {'kernel': 'linear', 'C': 4.969191616681165, 'gamma': 'auto'}. Best is trial 25 with value: 0.946577380952381.\u001b[0m\n",
            "\u001b[32m[I 2021-09-29 15:33:23,632]\u001b[0m Trial 172 finished with value: 0.943452380952381 and parameters: {'kernel': 'linear', 'C': 38.84927337973061, 'gamma': 'auto'}. Best is trial 25 with value: 0.946577380952381.\u001b[0m\n",
            "\u001b[32m[I 2021-09-29 15:33:23,732]\u001b[0m Trial 173 finished with value: 0.9402281746031745 and parameters: {'kernel': 'linear', 'C': 72.01748316283094, 'gamma': 'auto'}. Best is trial 25 with value: 0.946577380952381.\u001b[0m\n",
            "\u001b[32m[I 2021-09-29 15:33:23,836]\u001b[0m Trial 174 finished with value: 0.946577380952381 and parameters: {'kernel': 'linear', 'C': 4.11812655476579, 'gamma': 'auto'}. Best is trial 25 with value: 0.946577380952381.\u001b[0m\n",
            "\u001b[32m[I 2021-09-29 15:33:23,930]\u001b[0m Trial 175 finished with value: 0.943452380952381 and parameters: {'kernel': 'linear', 'C': 47.141859596350045, 'gamma': 'auto'}. Best is trial 25 with value: 0.946577380952381.\u001b[0m\n",
            "\u001b[32m[I 2021-09-29 15:33:24,023]\u001b[0m Trial 176 finished with value: 0.9371527777777778 and parameters: {'kernel': 'linear', 'C': 3.393506079043426, 'gamma': 'auto'}. Best is trial 25 with value: 0.946577380952381.\u001b[0m\n",
            "\u001b[32m[I 2021-09-29 15:33:24,225]\u001b[0m Trial 177 finished with value: 0.5062996031746032 and parameters: {'kernel': 'poly', 'C': 20.44766008649816, 'gamma': 'auto'}. Best is trial 25 with value: 0.946577380952381.\u001b[0m\n",
            "\u001b[32m[I 2021-09-29 15:33:24,322]\u001b[0m Trial 178 finished with value: 0.9402281746031745 and parameters: {'kernel': 'linear', 'C': 55.83873208504197, 'gamma': 'scale'}. Best is trial 25 with value: 0.946577380952381.\u001b[0m\n",
            "\u001b[32m[I 2021-09-29 15:33:24,419]\u001b[0m Trial 179 finished with value: 0.940327380952381 and parameters: {'kernel': 'linear', 'C': 27.138768316192273, 'gamma': 'auto'}. Best is trial 25 with value: 0.946577380952381.\u001b[0m\n",
            "\u001b[32m[I 2021-09-29 15:33:24,523]\u001b[0m Trial 180 finished with value: 0.946577380952381 and parameters: {'kernel': 'linear', 'C': 16.645719951832756, 'gamma': 'auto'}. Best is trial 25 with value: 0.946577380952381.\u001b[0m\n",
            "\u001b[32m[I 2021-09-29 15:33:24,630]\u001b[0m Trial 181 finished with value: 0.943452380952381 and parameters: {'kernel': 'linear', 'C': 23.082370665422552, 'gamma': 'auto'}. Best is trial 25 with value: 0.946577380952381.\u001b[0m\n",
            "\u001b[32m[I 2021-09-29 15:33:24,727]\u001b[0m Trial 182 finished with value: 0.943452380952381 and parameters: {'kernel': 'linear', 'C': 43.72493311568456, 'gamma': 'auto'}. Best is trial 25 with value: 0.946577380952381.\u001b[0m\n",
            "\u001b[32m[I 2021-09-29 15:33:24,825]\u001b[0m Trial 183 finished with value: 0.940327380952381 and parameters: {'kernel': 'linear', 'C': 31.704545421564333, 'gamma': 'auto'}. Best is trial 25 with value: 0.946577380952381.\u001b[0m\n",
            "\u001b[32m[I 2021-09-29 15:33:24,918]\u001b[0m Trial 184 finished with value: 0.9402281746031745 and parameters: {'kernel': 'linear', 'C': 72.13010528242579, 'gamma': 'auto'}. Best is trial 25 with value: 0.946577380952381.\u001b[0m\n",
            "\u001b[32m[I 2021-09-29 15:33:25,026]\u001b[0m Trial 185 finished with value: 0.934077380952381 and parameters: {'kernel': 'rbf', 'C': 52.42556555211873, 'gamma': 'auto'}. Best is trial 25 with value: 0.946577380952381.\u001b[0m\n",
            "\u001b[32m[I 2021-09-29 15:33:25,134]\u001b[0m Trial 186 finished with value: 0.946577380952381 and parameters: {'kernel': 'linear', 'C': 20.413917917516528, 'gamma': 'auto'}. Best is trial 25 with value: 0.946577380952381.\u001b[0m\n",
            "\u001b[32m[I 2021-09-29 15:33:25,229]\u001b[0m Trial 187 finished with value: 0.9434027777777778 and parameters: {'kernel': 'linear', 'C': 14.238334607409458, 'gamma': 'auto'}. Best is trial 25 with value: 0.946577380952381.\u001b[0m\n",
            "\u001b[32m[I 2021-09-29 15:33:25,333]\u001b[0m Trial 188 finished with value: 0.9370535714285715 and parameters: {'kernel': 'linear', 'C': 8.944263468979061, 'gamma': 'auto'}. Best is trial 25 with value: 0.946577380952381.\u001b[0m\n",
            "\u001b[32m[I 2021-09-29 15:33:25,434]\u001b[0m Trial 189 finished with value: 0.9246527777777779 and parameters: {'kernel': 'linear', 'C': 1.1504827543708744, 'gamma': 'auto'}. Best is trial 25 with value: 0.946577380952381.\u001b[0m\n",
            "\u001b[32m[I 2021-09-29 15:33:25,532]\u001b[0m Trial 190 finished with value: 0.9339781746031747 and parameters: {'kernel': 'linear', 'C': 2.0113801920086734, 'gamma': 'auto'}. Best is trial 25 with value: 0.946577380952381.\u001b[0m\n",
            "\u001b[32m[I 2021-09-29 15:33:25,626]\u001b[0m Trial 191 finished with value: 0.940327380952381 and parameters: {'kernel': 'linear', 'C': 28.218743058141335, 'gamma': 'auto'}. Best is trial 25 with value: 0.946577380952381.\u001b[0m\n",
            "\u001b[32m[I 2021-09-29 15:33:25,720]\u001b[0m Trial 192 finished with value: 0.946577380952381 and parameters: {'kernel': 'linear', 'C': 15.550317255055912, 'gamma': 'auto'}. Best is trial 25 with value: 0.946577380952381.\u001b[0m\n",
            "\u001b[32m[I 2021-09-29 15:33:25,835]\u001b[0m Trial 193 finished with value: 0.9434027777777778 and parameters: {'kernel': 'linear', 'C': 14.802519898277806, 'gamma': 'auto'}. Best is trial 25 with value: 0.946577380952381.\u001b[0m\n",
            "\u001b[32m[I 2021-09-29 15:33:25,935]\u001b[0m Trial 194 finished with value: 0.9371031746031747 and parameters: {'kernel': 'linear', 'C': 6.361439596692546, 'gamma': 'auto'}. Best is trial 25 with value: 0.946577380952381.\u001b[0m\n",
            "\u001b[32m[I 2021-09-29 15:33:26,039]\u001b[0m Trial 195 finished with value: 0.9402281746031746 and parameters: {'kernel': 'linear', 'C': 10.892819223245695, 'gamma': 'auto'}. Best is trial 25 with value: 0.946577380952381.\u001b[0m\n",
            "\u001b[32m[I 2021-09-29 15:33:26,137]\u001b[0m Trial 196 finished with value: 0.943452380952381 and parameters: {'kernel': 'linear', 'C': 22.357018827798623, 'gamma': 'auto'}. Best is trial 25 with value: 0.946577380952381.\u001b[0m\n",
            "\u001b[32m[I 2021-09-29 15:33:26,241]\u001b[0m Trial 197 finished with value: 0.940327380952381 and parameters: {'kernel': 'linear', 'C': 34.35903061378056, 'gamma': 'auto'}. Best is trial 25 with value: 0.946577380952381.\u001b[0m\n",
            "\u001b[32m[I 2021-09-29 15:33:26,338]\u001b[0m Trial 198 finished with value: 0.943452380952381 and parameters: {'kernel': 'linear', 'C': 18.518862075497367, 'gamma': 'auto'}. Best is trial 25 with value: 0.946577380952381.\u001b[0m\n",
            "\u001b[32m[I 2021-09-29 15:33:26,449]\u001b[0m Trial 199 finished with value: 0.940327380952381 and parameters: {'kernel': 'sigmoid', 'C': 82.33319115934275, 'gamma': 'auto'}. Best is trial 25 with value: 0.946577380952381.\u001b[0m\n",
            "\u001b[32m[I 2021-09-29 15:33:26,540]\u001b[0m Trial 200 finished with value: 0.946577380952381 and parameters: {'kernel': 'linear', 'C': 18.10878351509073, 'gamma': 'auto'}. Best is trial 25 with value: 0.946577380952381.\u001b[0m\n",
            "\u001b[32m[I 2021-09-29 15:33:26,635]\u001b[0m Trial 201 finished with value: 0.9402281746031746 and parameters: {'kernel': 'linear', 'C': 11.055409113648818, 'gamma': 'auto'}. Best is trial 25 with value: 0.946577380952381.\u001b[0m\n",
            "\u001b[32m[I 2021-09-29 15:33:26,729]\u001b[0m Trial 202 finished with value: 0.943452380952381 and parameters: {'kernel': 'linear', 'C': 40.03801865366749, 'gamma': 'auto'}. Best is trial 25 with value: 0.946577380952381.\u001b[0m\n",
            "\u001b[32m[I 2021-09-29 15:33:26,842]\u001b[0m Trial 203 finished with value: 0.9497519841269841 and parameters: {'kernel': 'linear', 'C': 4.3460405530919175, 'gamma': 'auto'}. Best is trial 203 with value: 0.9497519841269841.\u001b[0m\n",
            "\u001b[32m[I 2021-09-29 15:33:26,944]\u001b[0m Trial 204 finished with value: 0.9370535714285715 and parameters: {'kernel': 'linear', 'C': 8.800648758456648, 'gamma': 'auto'}. Best is trial 203 with value: 0.9497519841269841.\u001b[0m\n",
            "\u001b[32m[I 2021-09-29 15:33:27,040]\u001b[0m Trial 205 finished with value: 0.9340277777777779 and parameters: {'kernel': 'linear', 'C': 3.114613161247078, 'gamma': 'auto'}. Best is trial 203 with value: 0.9497519841269841.\u001b[0m\n",
            "\u001b[32m[I 2021-09-29 15:33:27,138]\u001b[0m Trial 206 finished with value: 0.9434027777777778 and parameters: {'kernel': 'linear', 'C': 5.321534502091516, 'gamma': 'auto'}. Best is trial 203 with value: 0.9497519841269841.\u001b[0m\n",
            "\u001b[32m[I 2021-09-29 15:33:27,242]\u001b[0m Trial 207 finished with value: 0.940327380952381 and parameters: {'kernel': 'linear', 'C': 27.87691636928331, 'gamma': 'auto'}. Best is trial 203 with value: 0.9497519841269841.\u001b[0m\n",
            "\u001b[32m[I 2021-09-29 15:33:27,338]\u001b[0m Trial 208 finished with value: 0.9402281746031746 and parameters: {'kernel': 'linear', 'C': 13.342976761993988, 'gamma': 'auto'}. Best is trial 203 with value: 0.9497519841269841.\u001b[0m\n",
            "\u001b[32m[I 2021-09-29 15:33:27,438]\u001b[0m Trial 209 finished with value: 0.946577380952381 and parameters: {'kernel': 'linear', 'C': 21.343512016997405, 'gamma': 'auto'}. Best is trial 203 with value: 0.9497519841269841.\u001b[0m\n",
            "\u001b[32m[I 2021-09-29 15:33:27,542]\u001b[0m Trial 210 finished with value: 0.9372023809523811 and parameters: {'kernel': 'linear', 'C': 0.4420976657030416, 'gamma': 'scale'}. Best is trial 203 with value: 0.9497519841269841.\u001b[0m\n",
            "\u001b[32m[I 2021-09-29 15:33:27,643]\u001b[0m Trial 211 finished with value: 0.946577380952381 and parameters: {'kernel': 'linear', 'C': 4.914607909707291, 'gamma': 'auto'}. Best is trial 203 with value: 0.9497519841269841.\u001b[0m\n",
            "\u001b[32m[I 2021-09-29 15:33:27,747]\u001b[0m Trial 212 finished with value: 0.943452380952381 and parameters: {'kernel': 'linear', 'C': 3.7681754812835773, 'gamma': 'auto'}. Best is trial 203 with value: 0.9497519841269841.\u001b[0m\n",
            "\u001b[32m[I 2021-09-29 15:33:27,886]\u001b[0m Trial 213 finished with value: 0.9370535714285715 and parameters: {'kernel': 'linear', 'C': 8.619218587760077, 'gamma': 'auto'}. Best is trial 203 with value: 0.9497519841269841.\u001b[0m\n",
            "\u001b[32m[I 2021-09-29 15:33:27,987]\u001b[0m Trial 214 finished with value: 0.9371031746031747 and parameters: {'kernel': 'linear', 'C': 6.977247856232458, 'gamma': 'auto'}. Best is trial 203 with value: 0.9497519841269841.\u001b[0m\n",
            "\u001b[32m[I 2021-09-29 15:33:28,194]\u001b[0m Trial 215 finished with value: 0.5062996031746032 and parameters: {'kernel': 'poly', 'C': 54.04021693056652, 'gamma': 'auto'}. Best is trial 203 with value: 0.9497519841269841.\u001b[0m\n",
            "\u001b[32m[I 2021-09-29 15:33:28,292]\u001b[0m Trial 216 finished with value: 0.943452380952381 and parameters: {'kernel': 'linear', 'C': 40.31873863937734, 'gamma': 'auto'}. Best is trial 203 with value: 0.9497519841269841.\u001b[0m\n",
            "\u001b[32m[I 2021-09-29 15:33:28,388]\u001b[0m Trial 217 finished with value: 0.940327380952381 and parameters: {'kernel': 'linear', 'C': 28.011707413840572, 'gamma': 'auto'}. Best is trial 203 with value: 0.9497519841269841.\u001b[0m\n",
            "\u001b[32m[I 2021-09-29 15:33:28,486]\u001b[0m Trial 218 finished with value: 0.9371527777777778 and parameters: {'kernel': 'linear', 'C': 2.5173764624478596, 'gamma': 'auto'}. Best is trial 203 with value: 0.9497519841269841.\u001b[0m\n",
            "\u001b[32m[I 2021-09-29 15:33:28,591]\u001b[0m Trial 219 finished with value: 0.946577380952381 and parameters: {'kernel': 'linear', 'C': 16.9198078993861, 'gamma': 'auto'}. Best is trial 203 with value: 0.9497519841269841.\u001b[0m\n",
            "\u001b[32m[I 2021-09-29 15:33:28,695]\u001b[0m Trial 220 finished with value: 0.934077380952381 and parameters: {'kernel': 'rbf', 'C': 58.555252003620886, 'gamma': 'auto'}. Best is trial 203 with value: 0.9497519841269841.\u001b[0m\n",
            "\u001b[32m[I 2021-09-29 15:33:28,796]\u001b[0m Trial 221 finished with value: 0.946577380952381 and parameters: {'kernel': 'linear', 'C': 16.194183471142722, 'gamma': 'auto'}. Best is trial 203 with value: 0.9497519841269841.\u001b[0m\n",
            "\u001b[32m[I 2021-09-29 15:33:28,899]\u001b[0m Trial 222 finished with value: 0.943452380952381 and parameters: {'kernel': 'linear', 'C': 46.025399523149304, 'gamma': 'auto'}. Best is trial 203 with value: 0.9497519841269841.\u001b[0m\n",
            "\u001b[32m[I 2021-09-29 15:33:29,005]\u001b[0m Trial 223 finished with value: 0.943452380952381 and parameters: {'kernel': 'linear', 'C': 23.570796897580735, 'gamma': 'auto'}. Best is trial 203 with value: 0.9497519841269841.\u001b[0m\n",
            "\u001b[32m[I 2021-09-29 15:33:29,115]\u001b[0m Trial 224 finished with value: 0.9402281746031746 and parameters: {'kernel': 'linear', 'C': 12.381015988775752, 'gamma': 'auto'}. Best is trial 203 with value: 0.9497519841269841.\u001b[0m\n",
            "\u001b[32m[I 2021-09-29 15:33:29,212]\u001b[0m Trial 225 finished with value: 0.940327380952381 and parameters: {'kernel': 'linear', 'C': 29.919876671118825, 'gamma': 'auto'}. Best is trial 203 with value: 0.9497519841269841.\u001b[0m\n",
            "\u001b[32m[I 2021-09-29 15:33:29,307]\u001b[0m Trial 226 finished with value: 0.946577380952381 and parameters: {'kernel': 'linear', 'C': 21.070732877140042, 'gamma': 'auto'}. Best is trial 203 with value: 0.9497519841269841.\u001b[0m\n",
            "\u001b[32m[I 2021-09-29 15:33:29,403]\u001b[0m Trial 227 finished with value: 0.946577380952381 and parameters: {'kernel': 'linear', 'C': 16.051517162753573, 'gamma': 'auto'}. Best is trial 203 with value: 0.9497519841269841.\u001b[0m\n",
            "\u001b[32m[I 2021-09-29 15:33:29,500]\u001b[0m Trial 228 finished with value: 0.946577380952381 and parameters: {'kernel': 'linear', 'C': 15.843991265871555, 'gamma': 'auto'}. Best is trial 203 with value: 0.9497519841269841.\u001b[0m\n",
            "\u001b[32m[I 2021-09-29 15:33:29,597]\u001b[0m Trial 229 finished with value: 0.946577380952381 and parameters: {'kernel': 'linear', 'C': 20.05611103404801, 'gamma': 'auto'}. Best is trial 203 with value: 0.9497519841269841.\u001b[0m\n",
            "\u001b[32m[I 2021-09-29 15:33:29,693]\u001b[0m Trial 230 finished with value: 0.943452380952381 and parameters: {'kernel': 'linear', 'C': 21.826255116679295, 'gamma': 'auto'}. Best is trial 203 with value: 0.9497519841269841.\u001b[0m\n",
            "\u001b[32m[I 2021-09-29 15:33:29,796]\u001b[0m Trial 231 finished with value: 0.940327380952381 and parameters: {'kernel': 'linear', 'C': 34.465372605245264, 'gamma': 'auto'}. Best is trial 203 with value: 0.9497519841269841.\u001b[0m\n",
            "\u001b[32m[I 2021-09-29 15:33:29,901]\u001b[0m Trial 232 finished with value: 0.943452380952381 and parameters: {'kernel': 'linear', 'C': 23.34178492135003, 'gamma': 'auto'}. Best is trial 203 with value: 0.9497519841269841.\u001b[0m\n",
            "\u001b[32m[I 2021-09-29 15:33:30,039]\u001b[0m Trial 233 finished with value: 0.9309027777777779 and parameters: {'kernel': 'linear', 'C': 0.019871497536053523, 'gamma': 'auto'}. Best is trial 203 with value: 0.9497519841269841.\u001b[0m\n",
            "\u001b[32m[I 2021-09-29 15:33:30,233]\u001b[0m Trial 234 finished with value: 0.5062996031746032 and parameters: {'kernel': 'linear', 'C': 0.00024867402829455864, 'gamma': 'auto'}. Best is trial 203 with value: 0.9497519841269841.\u001b[0m\n",
            "\u001b[32m[I 2021-09-29 15:33:30,337]\u001b[0m Trial 235 finished with value: 0.9371031746031747 and parameters: {'kernel': 'linear', 'C': 7.835530950160665, 'gamma': 'auto'}. Best is trial 203 with value: 0.9497519841269841.\u001b[0m\n",
            "\u001b[32m[I 2021-09-29 15:33:30,438]\u001b[0m Trial 236 finished with value: 0.9402281746031746 and parameters: {'kernel': 'linear', 'C': 11.444613483506071, 'gamma': 'auto'}. Best is trial 203 with value: 0.9497519841269841.\u001b[0m\n",
            "\u001b[32m[I 2021-09-29 15:33:30,538]\u001b[0m Trial 237 finished with value: 0.946577380952381 and parameters: {'kernel': 'linear', 'C': 19.38542873385283, 'gamma': 'auto'}. Best is trial 203 with value: 0.9497519841269841.\u001b[0m\n",
            "\u001b[32m[I 2021-09-29 15:33:30,634]\u001b[0m Trial 238 finished with value: 0.940327380952381 and parameters: {'kernel': 'linear', 'C': 34.695206988676134, 'gamma': 'auto'}. Best is trial 203 with value: 0.9497519841269841.\u001b[0m\n",
            "\u001b[32m[I 2021-09-29 15:33:30,727]\u001b[0m Trial 239 finished with value: 0.9434027777777778 and parameters: {'kernel': 'linear', 'C': 14.077402039511975, 'gamma': 'auto'}. Best is trial 203 with value: 0.9497519841269841.\u001b[0m\n",
            "\u001b[32m[I 2021-09-29 15:33:30,825]\u001b[0m Trial 240 finished with value: 0.946577380952381 and parameters: {'kernel': 'linear', 'C': 16.143185497461744, 'gamma': 'auto'}. Best is trial 203 with value: 0.9497519841269841.\u001b[0m\n",
            "\u001b[32m[I 2021-09-29 15:33:30,934]\u001b[0m Trial 241 finished with value: 0.9402281746031746 and parameters: {'kernel': 'linear', 'C': 11.211574949570828, 'gamma': 'auto'}. Best is trial 203 with value: 0.9497519841269841.\u001b[0m\n",
            "\u001b[32m[I 2021-09-29 15:33:31,033]\u001b[0m Trial 242 finished with value: 0.946577380952381 and parameters: {'kernel': 'linear', 'C': 4.018659294080705, 'gamma': 'auto'}. Best is trial 203 with value: 0.9497519841269841.\u001b[0m\n",
            "\u001b[32m[I 2021-09-29 15:33:31,134]\u001b[0m Trial 243 finished with value: 0.946577380952381 and parameters: {'kernel': 'linear', 'C': 4.084191919803309, 'gamma': 'auto'}. Best is trial 203 with value: 0.9497519841269841.\u001b[0m\n",
            "\u001b[32m[I 2021-09-29 15:33:31,228]\u001b[0m Trial 244 finished with value: 0.946577380952381 and parameters: {'kernel': 'linear', 'C': 4.244404303440745, 'gamma': 'auto'}. Best is trial 203 with value: 0.9497519841269841.\u001b[0m\n",
            "\u001b[32m[I 2021-09-29 15:33:31,323]\u001b[0m Trial 245 finished with value: 0.9434027777777778 and parameters: {'kernel': 'linear', 'C': 5.919274403651093, 'gamma': 'auto'}. Best is trial 203 with value: 0.9497519841269841.\u001b[0m\n",
            "\u001b[32m[I 2021-09-29 15:33:31,416]\u001b[0m Trial 246 finished with value: 0.9339285714285716 and parameters: {'kernel': 'linear', 'C': 8.00598708704454, 'gamma': 'auto'}. Best is trial 203 with value: 0.9497519841269841.\u001b[0m\n",
            "\u001b[32m[I 2021-09-29 15:33:31,525]\u001b[0m Trial 247 finished with value: 0.940327380952381 and parameters: {'kernel': 'sigmoid', 'C': 69.07091051641817, 'gamma': 'auto'}. Best is trial 203 with value: 0.9497519841269841.\u001b[0m\n",
            "\u001b[32m[I 2021-09-29 15:33:31,625]\u001b[0m Trial 248 finished with value: 0.9402281746031745 and parameters: {'kernel': 'linear', 'C': 94.47289551050605, 'gamma': 'auto'}. Best is trial 203 with value: 0.9497519841269841.\u001b[0m\n",
            "\u001b[32m[I 2021-09-29 15:33:31,726]\u001b[0m Trial 249 finished with value: 0.9434027777777778 and parameters: {'kernel': 'linear', 'C': 15.287270591982848, 'gamma': 'scale'}. Best is trial 203 with value: 0.9497519841269841.\u001b[0m\n",
            "\u001b[32m[I 2021-09-29 15:33:31,821]\u001b[0m Trial 250 finished with value: 0.946577380952381 and parameters: {'kernel': 'linear', 'C': 16.0710704646294, 'gamma': 'auto'}. Best is trial 203 with value: 0.9497519841269841.\u001b[0m\n",
            "\u001b[32m[I 2021-09-29 15:33:31,923]\u001b[0m Trial 251 finished with value: 0.946577380952381 and parameters: {'kernel': 'linear', 'C': 19.525208057973853, 'gamma': 'auto'}. Best is trial 203 with value: 0.9497519841269841.\u001b[0m\n",
            "\u001b[32m[I 2021-09-29 15:33:32,021]\u001b[0m Trial 252 finished with value: 0.943452380952381 and parameters: {'kernel': 'linear', 'C': 45.227006545083164, 'gamma': 'auto'}. Best is trial 203 with value: 0.9497519841269841.\u001b[0m\n",
            "\u001b[32m[I 2021-09-29 15:33:32,231]\u001b[0m Trial 253 finished with value: 0.5062996031746032 and parameters: {'kernel': 'poly', 'C': 10.05063325746646, 'gamma': 'auto'}. Best is trial 203 with value: 0.9497519841269841.\u001b[0m\n",
            "\u001b[32m[I 2021-09-29 15:33:32,328]\u001b[0m Trial 254 finished with value: 0.9371031746031747 and parameters: {'kernel': 'linear', 'C': 1.9355724703514516, 'gamma': 'auto'}. Best is trial 203 with value: 0.9497519841269841.\u001b[0m\n",
            "\u001b[32m[I 2021-09-29 15:33:32,527]\u001b[0m Trial 255 finished with value: 0.5062996031746032 and parameters: {'kernel': 'linear', 'C': 6.387764221984588e-05, 'gamma': 'auto'}. Best is trial 203 with value: 0.9497519841269841.\u001b[0m\n",
            "\u001b[32m[I 2021-09-29 15:33:32,626]\u001b[0m Trial 256 finished with value: 0.940327380952381 and parameters: {'kernel': 'linear', 'C': 28.247637215004683, 'gamma': 'auto'}. Best is trial 203 with value: 0.9497519841269841.\u001b[0m\n",
            "\u001b[32m[I 2021-09-29 15:33:32,728]\u001b[0m Trial 257 finished with value: 0.946577380952381 and parameters: {'kernel': 'linear', 'C': 54.96076643005701, 'gamma': 'auto'}. Best is trial 203 with value: 0.9497519841269841.\u001b[0m\n",
            "\u001b[32m[I 2021-09-29 15:33:32,825]\u001b[0m Trial 258 finished with value: 0.9402281746031745 and parameters: {'kernel': 'linear', 'C': 58.39415587587307, 'gamma': 'auto'}. Best is trial 203 with value: 0.9497519841269841.\u001b[0m\n",
            "\u001b[32m[I 2021-09-29 15:33:32,920]\u001b[0m Trial 259 finished with value: 0.940327380952381 and parameters: {'kernel': 'linear', 'C': 32.07278295280491, 'gamma': 'auto'}. Best is trial 203 with value: 0.9497519841269841.\u001b[0m\n",
            "\u001b[32m[I 2021-09-29 15:33:33,060]\u001b[0m Trial 260 finished with value: 0.9309027777777779 and parameters: {'kernel': 'rbf', 'C': 5.088754641748878, 'gamma': 'auto'}. Best is trial 203 with value: 0.9497519841269841.\u001b[0m\n",
            "\u001b[32m[I 2021-09-29 15:33:33,157]\u001b[0m Trial 261 finished with value: 0.943452380952381 and parameters: {'kernel': 'linear', 'C': 3.8907270317091847, 'gamma': 'auto'}. Best is trial 203 with value: 0.9497519841269841.\u001b[0m\n",
            "\u001b[32m[I 2021-09-29 15:33:33,253]\u001b[0m Trial 262 finished with value: 0.9434027777777778 and parameters: {'kernel': 'linear', 'C': 5.655348081855097, 'gamma': 'auto'}. Best is trial 203 with value: 0.9497519841269841.\u001b[0m\n",
            "\u001b[32m[I 2021-09-29 15:33:33,349]\u001b[0m Trial 263 finished with value: 0.943452380952381 and parameters: {'kernel': 'linear', 'C': 41.3429950425064, 'gamma': 'auto'}. Best is trial 203 with value: 0.9497519841269841.\u001b[0m\n",
            "\u001b[32m[I 2021-09-29 15:33:33,445]\u001b[0m Trial 264 finished with value: 0.943452380952381 and parameters: {'kernel': 'linear', 'C': 26.576491641962278, 'gamma': 'auto'}. Best is trial 203 with value: 0.9497519841269841.\u001b[0m\n",
            "\u001b[32m[I 2021-09-29 15:33:33,545]\u001b[0m Trial 265 finished with value: 0.9402281746031745 and parameters: {'kernel': 'linear', 'C': 77.2422401476776, 'gamma': 'auto'}. Best is trial 203 with value: 0.9497519841269841.\u001b[0m\n",
            "\u001b[32m[I 2021-09-29 15:33:33,643]\u001b[0m Trial 266 finished with value: 0.9402281746031746 and parameters: {'kernel': 'linear', 'C': 13.571613848904049, 'gamma': 'auto'}. Best is trial 203 with value: 0.9497519841269841.\u001b[0m\n",
            "\u001b[32m[I 2021-09-29 15:33:33,739]\u001b[0m Trial 267 finished with value: 0.9402281746031746 and parameters: {'kernel': 'linear', 'C': 10.245374392716506, 'gamma': 'auto'}. Best is trial 203 with value: 0.9497519841269841.\u001b[0m\n",
            "\u001b[32m[I 2021-09-29 15:33:33,840]\u001b[0m Trial 268 finished with value: 0.946577380952381 and parameters: {'kernel': 'linear', 'C': 19.103835382245403, 'gamma': 'scale'}. Best is trial 203 with value: 0.9497519841269841.\u001b[0m\n",
            "\u001b[32m[I 2021-09-29 15:33:33,937]\u001b[0m Trial 269 finished with value: 0.943452380952381 and parameters: {'kernel': 'linear', 'C': 22.61451302914482, 'gamma': 'auto'}. Best is trial 203 with value: 0.9497519841269841.\u001b[0m\n",
            "\u001b[32m[I 2021-09-29 15:33:34,045]\u001b[0m Trial 270 finished with value: 0.9466269841269842 and parameters: {'kernel': 'linear', 'C': 18.677008967002624, 'gamma': 'scale'}. Best is trial 203 with value: 0.9497519841269841.\u001b[0m\n",
            "\u001b[32m[I 2021-09-29 15:33:34,149]\u001b[0m Trial 271 finished with value: 0.9402281746031746 and parameters: {'kernel': 'linear', 'C': 11.302826367815026, 'gamma': 'scale'}. Best is trial 203 with value: 0.9497519841269841.\u001b[0m\n",
            "\u001b[32m[I 2021-09-29 15:33:34,251]\u001b[0m Trial 272 finished with value: 0.9308531746031747 and parameters: {'kernel': 'linear', 'C': 1.6723966156818022, 'gamma': 'scale'}. Best is trial 203 with value: 0.9497519841269841.\u001b[0m\n",
            "\u001b[32m[I 2021-09-29 15:33:34,348]\u001b[0m Trial 273 finished with value: 0.8962797619047619 and parameters: {'kernel': 'sigmoid', 'C': 30.859676452717515, 'gamma': 'scale'}. Best is trial 203 with value: 0.9497519841269841.\u001b[0m\n",
            "\u001b[32m[I 2021-09-29 15:33:34,457]\u001b[0m Trial 274 finished with value: 0.9402281746031745 and parameters: {'kernel': 'linear', 'C': 57.49440857065626, 'gamma': 'scale'}. Best is trial 203 with value: 0.9497519841269841.\u001b[0m\n",
            "\u001b[32m[I 2021-09-29 15:33:34,554]\u001b[0m Trial 275 finished with value: 0.9339285714285716 and parameters: {'kernel': 'linear', 'C': 8.354008529451274, 'gamma': 'scale'}. Best is trial 203 with value: 0.9497519841269841.\u001b[0m\n",
            "\u001b[32m[I 2021-09-29 15:33:34,652]\u001b[0m Trial 276 finished with value: 0.946577380952381 and parameters: {'kernel': 'linear', 'C': 16.83593527811427, 'gamma': 'auto'}. Best is trial 203 with value: 0.9497519841269841.\u001b[0m\n",
            "\u001b[32m[I 2021-09-29 15:33:34,747]\u001b[0m Trial 277 finished with value: 0.9402281746031746 and parameters: {'kernel': 'linear', 'C': 13.401611592075499, 'gamma': 'auto'}. Best is trial 203 with value: 0.9497519841269841.\u001b[0m\n",
            "\u001b[32m[I 2021-09-29 15:33:34,843]\u001b[0m Trial 278 finished with value: 0.943452380952381 and parameters: {'kernel': 'linear', 'C': 21.983461105638114, 'gamma': 'auto'}. Best is trial 203 with value: 0.9497519841269841.\u001b[0m\n",
            "\u001b[32m[I 2021-09-29 15:33:35,056]\u001b[0m Trial 279 finished with value: 0.5062996031746032 and parameters: {'kernel': 'poly', 'C': 7.8585415325901895, 'gamma': 'auto'}. Best is trial 203 with value: 0.9497519841269841.\u001b[0m\n",
            "\u001b[32m[I 2021-09-29 15:33:35,155]\u001b[0m Trial 280 finished with value: 0.943452380952381 and parameters: {'kernel': 'linear', 'C': 39.81335674109453, 'gamma': 'scale'}. Best is trial 203 with value: 0.9497519841269841.\u001b[0m\n",
            "\u001b[32m[I 2021-09-29 15:33:35,258]\u001b[0m Trial 281 finished with value: 0.940327380952381 and parameters: {'kernel': 'linear', 'C': 33.88329578798678, 'gamma': 'auto'}. Best is trial 203 with value: 0.9497519841269841.\u001b[0m\n",
            "\u001b[32m[I 2021-09-29 15:33:35,353]\u001b[0m Trial 282 finished with value: 0.943452380952381 and parameters: {'kernel': 'linear', 'C': 47.05431931328634, 'gamma': 'scale'}. Best is trial 203 with value: 0.9497519841269841.\u001b[0m\n",
            "\u001b[32m[I 2021-09-29 15:33:35,453]\u001b[0m Trial 283 finished with value: 0.943452380952381 and parameters: {'kernel': 'linear', 'C': 25.156156075999355, 'gamma': 'auto'}. Best is trial 203 with value: 0.9497519841269841.\u001b[0m\n",
            "\u001b[32m[I 2021-09-29 15:33:35,555]\u001b[0m Trial 284 finished with value: 0.946577380952381 and parameters: {'kernel': 'linear', 'C': 18.056446786795703, 'gamma': 'auto'}. Best is trial 203 with value: 0.9497519841269841.\u001b[0m\n",
            "\u001b[32m[I 2021-09-29 15:33:35,669]\u001b[0m Trial 285 finished with value: 0.9371527777777778 and parameters: {'kernel': 'rbf', 'C': 19.53677519997125, 'gamma': 'auto'}. Best is trial 203 with value: 0.9497519841269841.\u001b[0m\n",
            "\u001b[32m[I 2021-09-29 15:33:35,774]\u001b[0m Trial 286 finished with value: 0.9402281746031745 and parameters: {'kernel': 'linear', 'C': 71.7704111894281, 'gamma': 'auto'}. Best is trial 203 with value: 0.9497519841269841.\u001b[0m\n",
            "\u001b[32m[I 2021-09-29 15:33:35,877]\u001b[0m Trial 287 finished with value: 0.9371527777777778 and parameters: {'kernel': 'linear', 'C': 2.456972914954237, 'gamma': 'auto'}. Best is trial 203 with value: 0.9497519841269841.\u001b[0m\n",
            "\u001b[32m[I 2021-09-29 15:33:35,975]\u001b[0m Trial 288 finished with value: 0.9402281746031746 and parameters: {'kernel': 'linear', 'C': 13.146916557899862, 'gamma': 'auto'}. Best is trial 203 with value: 0.9497519841269841.\u001b[0m\n",
            "\u001b[32m[I 2021-09-29 15:33:36,084]\u001b[0m Trial 289 finished with value: 0.934077380952381 and parameters: {'kernel': 'linear', 'C': 0.900202696911304, 'gamma': 'auto'}. Best is trial 203 with value: 0.9497519841269841.\u001b[0m\n",
            "\u001b[32m[I 2021-09-29 15:33:36,187]\u001b[0m Trial 290 finished with value: 0.9402281746031745 and parameters: {'kernel': 'linear', 'C': 56.396627948331606, 'gamma': 'auto'}. Best is trial 203 with value: 0.9497519841269841.\u001b[0m\n",
            "\u001b[32m[I 2021-09-29 15:33:36,293]\u001b[0m Trial 291 finished with value: 0.9402281746031746 and parameters: {'kernel': 'linear', 'C': 11.094831900456292, 'gamma': 'auto'}. Best is trial 203 with value: 0.9497519841269841.\u001b[0m\n",
            "\u001b[32m[I 2021-09-29 15:33:36,391]\u001b[0m Trial 292 finished with value: 0.9340277777777779 and parameters: {'kernel': 'linear', 'C': 3.0347904678451574, 'gamma': 'auto'}. Best is trial 203 with value: 0.9497519841269841.\u001b[0m\n",
            "\u001b[32m[I 2021-09-29 15:33:36,493]\u001b[0m Trial 293 finished with value: 0.940327380952381 and parameters: {'kernel': 'linear', 'C': 28.049230099767396, 'gamma': 'scale'}. Best is trial 203 with value: 0.9497519841269841.\u001b[0m\n",
            "\u001b[32m[I 2021-09-29 15:33:36,589]\u001b[0m Trial 294 finished with value: 0.946577380952381 and parameters: {'kernel': 'linear', 'C': 16.245950419866254, 'gamma': 'auto'}. Best is trial 203 with value: 0.9497519841269841.\u001b[0m\n",
            "\u001b[32m[I 2021-09-29 15:33:36,685]\u001b[0m Trial 295 finished with value: 0.9402281746031746 and parameters: {'kernel': 'linear', 'C': 11.448864238854759, 'gamma': 'auto'}. Best is trial 203 with value: 0.9497519841269841.\u001b[0m\n",
            "\u001b[32m[I 2021-09-29 15:33:36,779]\u001b[0m Trial 296 finished with value: 0.946577380952381 and parameters: {'kernel': 'linear', 'C': 15.68689729931236, 'gamma': 'auto'}. Best is trial 203 with value: 0.9497519841269841.\u001b[0m\n",
            "\u001b[32m[I 2021-09-29 15:33:36,885]\u001b[0m Trial 297 finished with value: 0.9434027777777778 and parameters: {'kernel': 'linear', 'C': 14.324953283566101, 'gamma': 'auto'}. Best is trial 203 with value: 0.9497519841269841.\u001b[0m\n",
            "\u001b[32m[I 2021-09-29 15:33:37,012]\u001b[0m Trial 298 finished with value: 0.9339781746031747 and parameters: {'kernel': 'sigmoid', 'C': 31.842161891686242, 'gamma': 'auto'}. Best is trial 203 with value: 0.9497519841269841.\u001b[0m\n",
            "\u001b[32m[I 2021-09-29 15:33:37,115]\u001b[0m Trial 299 finished with value: 0.943452380952381 and parameters: {'kernel': 'linear', 'C': 36.78063769544397, 'gamma': 'scale'}. Best is trial 203 with value: 0.9497519841269841.\u001b[0m\n",
            "\u001b[32m[I 2021-09-29 15:33:37,221]\u001b[0m Trial 300 finished with value: 0.943452380952381 and parameters: {'kernel': 'linear', 'C': 24.456018859135572, 'gamma': 'scale'}. Best is trial 203 with value: 0.9497519841269841.\u001b[0m\n",
            "\u001b[32m[I 2021-09-29 15:33:37,326]\u001b[0m Trial 301 finished with value: 0.9402281746031745 and parameters: {'kernel': 'linear', 'C': 95.11277611038992, 'gamma': 'auto'}. Best is trial 203 with value: 0.9497519841269841.\u001b[0m\n",
            "\u001b[32m[I 2021-09-29 15:33:37,425]\u001b[0m Trial 302 finished with value: 0.9497519841269841 and parameters: {'kernel': 'linear', 'C': 4.372713154889518, 'gamma': 'scale'}. Best is trial 203 with value: 0.9497519841269841.\u001b[0m\n",
            "\u001b[32m[I 2021-09-29 15:33:37,535]\u001b[0m Trial 303 finished with value: 0.943452380952381 and parameters: {'kernel': 'linear', 'C': 45.775219952276764, 'gamma': 'scale'}. Best is trial 203 with value: 0.9497519841269841.\u001b[0m\n",
            "\u001b[32m[I 2021-09-29 15:33:37,635]\u001b[0m Trial 304 finished with value: 0.9371031746031747 and parameters: {'kernel': 'linear', 'C': 6.901031954265482, 'gamma': 'scale'}. Best is trial 203 with value: 0.9497519841269841.\u001b[0m\n",
            "\u001b[32m[I 2021-09-29 15:33:37,834]\u001b[0m Trial 305 finished with value: 0.5062996031746032 and parameters: {'kernel': 'linear', 'C': 0.0007616686704338957, 'gamma': 'scale'}. Best is trial 203 with value: 0.9497519841269841.\u001b[0m\n",
            "\u001b[32m[I 2021-09-29 15:33:38,031]\u001b[0m Trial 306 finished with value: 0.5062996031746032 and parameters: {'kernel': 'poly', 'C': 6.426385775878, 'gamma': 'auto'}. Best is trial 203 with value: 0.9497519841269841.\u001b[0m\n",
            "\u001b[32m[I 2021-09-29 15:33:38,138]\u001b[0m Trial 307 finished with value: 0.9497519841269841 and parameters: {'kernel': 'linear', 'C': 4.786591320148323, 'gamma': 'auto'}. Best is trial 203 with value: 0.9497519841269841.\u001b[0m\n",
            "\u001b[32m[I 2021-09-29 15:33:38,238]\u001b[0m Trial 308 finished with value: 0.946577380952381 and parameters: {'kernel': 'linear', 'C': 20.766434465862034, 'gamma': 'auto'}. Best is trial 203 with value: 0.9497519841269841.\u001b[0m\n",
            "\u001b[32m[I 2021-09-29 15:33:38,348]\u001b[0m Trial 309 finished with value: 0.9371527777777778 and parameters: {'kernel': 'linear', 'C': 0.1434732491293323, 'gamma': 'auto'}. Best is trial 203 with value: 0.9497519841269841.\u001b[0m\n",
            "\u001b[32m[I 2021-09-29 15:33:38,487]\u001b[0m Trial 310 finished with value: 0.9402281746031745 and parameters: {'kernel': 'linear', 'C': 65.31834762039203, 'gamma': 'scale'}. Best is trial 203 with value: 0.9497519841269841.\u001b[0m\n",
            "\u001b[32m[I 2021-09-29 15:33:38,624]\u001b[0m Trial 311 finished with value: 0.9309027777777779 and parameters: {'kernel': 'rbf', 'C': 4.099581384397078, 'gamma': 'auto'}. Best is trial 203 with value: 0.9497519841269841.\u001b[0m\n",
            "\u001b[32m[I 2021-09-29 15:33:38,726]\u001b[0m Trial 312 finished with value: 0.9402777777777779 and parameters: {'kernel': 'linear', 'C': 2.6621085318553726, 'gamma': 'auto'}. Best is trial 203 with value: 0.9497519841269841.\u001b[0m\n",
            "\u001b[32m[I 2021-09-29 15:33:38,826]\u001b[0m Trial 313 finished with value: 0.9340277777777779 and parameters: {'kernel': 'linear', 'C': 3.1391503922498103, 'gamma': 'auto'}. Best is trial 203 with value: 0.9497519841269841.\u001b[0m\n",
            "\u001b[32m[I 2021-09-29 15:33:38,930]\u001b[0m Trial 314 finished with value: 0.9371031746031747 and parameters: {'kernel': 'linear', 'C': 6.383107683532922, 'gamma': 'scale'}. Best is trial 203 with value: 0.9497519841269841.\u001b[0m\n",
            "\u001b[32m[I 2021-09-29 15:33:39,035]\u001b[0m Trial 315 finished with value: 0.943452380952381 and parameters: {'kernel': 'linear', 'C': 46.84759860217924, 'gamma': 'auto'}. Best is trial 203 with value: 0.9497519841269841.\u001b[0m\n",
            "\u001b[32m[I 2021-09-29 15:33:39,136]\u001b[0m Trial 316 finished with value: 0.943452380952381 and parameters: {'kernel': 'linear', 'C': 25.675406358657977, 'gamma': 'auto'}. Best is trial 203 with value: 0.9497519841269841.\u001b[0m\n",
            "\u001b[32m[I 2021-09-29 15:33:39,236]\u001b[0m Trial 317 finished with value: 0.946577380952381 and parameters: {'kernel': 'linear', 'C': 4.275273373960144, 'gamma': 'auto'}. Best is trial 203 with value: 0.9497519841269841.\u001b[0m\n",
            "\u001b[32m[I 2021-09-29 15:33:39,335]\u001b[0m Trial 318 finished with value: 0.9402281746031746 and parameters: {'kernel': 'linear', 'C': 10.179651471880065, 'gamma': 'auto'}. Best is trial 203 with value: 0.9497519841269841.\u001b[0m\n",
            "\u001b[32m[I 2021-09-29 15:33:39,445]\u001b[0m Trial 319 finished with value: 0.946577380952381 and parameters: {'kernel': 'linear', 'C': 20.844166198677854, 'gamma': 'scale'}. Best is trial 203 with value: 0.9497519841269841.\u001b[0m\n",
            "\u001b[32m[I 2021-09-29 15:33:39,544]\u001b[0m Trial 320 finished with value: 0.9339285714285716 and parameters: {'kernel': 'linear', 'C': 8.132940872835775, 'gamma': 'auto'}. Best is trial 203 with value: 0.9497519841269841.\u001b[0m\n",
            "\u001b[32m[I 2021-09-29 15:33:39,648]\u001b[0m Trial 321 finished with value: 0.946577380952381 and parameters: {'kernel': 'linear', 'C': 18.822710422675485, 'gamma': 'scale'}. Best is trial 203 with value: 0.9497519841269841.\u001b[0m\n",
            "\u001b[32m[I 2021-09-29 15:33:39,750]\u001b[0m Trial 322 finished with value: 0.9371031746031747 and parameters: {'kernel': 'linear', 'C': 9.169367213755528, 'gamma': 'auto'}. Best is trial 203 with value: 0.9497519841269841.\u001b[0m\n",
            "\u001b[32m[I 2021-09-29 15:33:39,847]\u001b[0m Trial 323 finished with value: 0.946577380952381 and parameters: {'kernel': 'linear', 'C': 15.753439642876375, 'gamma': 'scale'}. Best is trial 203 with value: 0.9497519841269841.\u001b[0m\n",
            "\u001b[32m[I 2021-09-29 15:33:39,952]\u001b[0m Trial 324 finished with value: 0.9402281746031746 and parameters: {'kernel': 'linear', 'C': 12.960539706772906, 'gamma': 'scale'}. Best is trial 203 with value: 0.9497519841269841.\u001b[0m\n",
            "\u001b[32m[I 2021-09-29 15:33:40,078]\u001b[0m Trial 325 finished with value: 0.9309027777777779 and parameters: {'kernel': 'sigmoid', 'C': 1.3776780644429663, 'gamma': 'scale'}. Best is trial 203 with value: 0.9497519841269841.\u001b[0m\n",
            "\u001b[32m[I 2021-09-29 15:33:40,182]\u001b[0m Trial 326 finished with value: 0.9402281746031746 and parameters: {'kernel': 'linear', 'C': 13.71494748712265, 'gamma': 'auto'}. Best is trial 203 with value: 0.9497519841269841.\u001b[0m\n",
            "\u001b[32m[I 2021-09-29 15:33:40,285]\u001b[0m Trial 327 finished with value: 0.9466269841269842 and parameters: {'kernel': 'linear', 'C': 18.69996738977, 'gamma': 'scale'}. Best is trial 203 with value: 0.9497519841269841.\u001b[0m\n",
            "\u001b[32m[I 2021-09-29 15:33:40,390]\u001b[0m Trial 328 finished with value: 0.946577380952381 and parameters: {'kernel': 'linear', 'C': 17.51265101673016, 'gamma': 'scale'}. Best is trial 203 with value: 0.9497519841269841.\u001b[0m\n",
            "\u001b[32m[I 2021-09-29 15:33:40,495]\u001b[0m Trial 329 finished with value: 0.9434027777777778 and parameters: {'kernel': 'linear', 'C': 5.655641439981224, 'gamma': 'auto'}. Best is trial 203 with value: 0.9497519841269841.\u001b[0m\n",
            "\u001b[32m[I 2021-09-29 15:33:40,596]\u001b[0m Trial 330 finished with value: 0.940327380952381 and parameters: {'kernel': 'linear', 'C': 26.84802085812302, 'gamma': 'auto'}. Best is trial 203 with value: 0.9497519841269841.\u001b[0m\n",
            "\u001b[32m[I 2021-09-29 15:33:40,699]\u001b[0m Trial 331 finished with value: 0.946577380952381 and parameters: {'kernel': 'linear', 'C': 4.816117983386905, 'gamma': 'auto'}. Best is trial 203 with value: 0.9497519841269841.\u001b[0m\n",
            "\u001b[32m[I 2021-09-29 15:33:40,897]\u001b[0m Trial 332 finished with value: 0.5062996031746032 and parameters: {'kernel': 'poly', 'C': 11.530690806485795, 'gamma': 'auto'}. Best is trial 203 with value: 0.9497519841269841.\u001b[0m\n",
            "\u001b[32m[I 2021-09-29 15:33:40,995]\u001b[0m Trial 333 finished with value: 0.946577380952381 and parameters: {'kernel': 'linear', 'C': 4.328251764666615, 'gamma': 'scale'}. Best is trial 203 with value: 0.9497519841269841.\u001b[0m\n",
            "\u001b[32m[I 2021-09-29 15:33:41,115]\u001b[0m Trial 334 finished with value: 0.9402777777777779 and parameters: {'kernel': 'linear', 'C': 2.2209349643826006, 'gamma': 'scale'}. Best is trial 203 with value: 0.9497519841269841.\u001b[0m\n",
            "\u001b[32m[I 2021-09-29 15:33:41,218]\u001b[0m Trial 335 finished with value: 0.943452380952381 and parameters: {'kernel': 'linear', 'C': 26.42208552801797, 'gamma': 'auto'}. Best is trial 203 with value: 0.9497519841269841.\u001b[0m\n",
            "\u001b[32m[I 2021-09-29 15:33:41,345]\u001b[0m Trial 336 finished with value: 0.9402777777777779 and parameters: {'kernel': 'rbf', 'C': 9.309969278569744, 'gamma': 'auto'}. Best is trial 203 with value: 0.9497519841269841.\u001b[0m\n",
            "\u001b[32m[I 2021-09-29 15:33:41,442]\u001b[0m Trial 337 finished with value: 0.940327380952381 and parameters: {'kernel': 'linear', 'C': 3.642533008370008, 'gamma': 'auto'}. Best is trial 203 with value: 0.9497519841269841.\u001b[0m\n",
            "\u001b[32m[I 2021-09-29 15:33:41,537]\u001b[0m Trial 338 finished with value: 0.9371031746031747 and parameters: {'kernel': 'linear', 'C': 7.618139791744465, 'gamma': 'auto'}. Best is trial 203 with value: 0.9497519841269841.\u001b[0m\n",
            "\u001b[32m[I 2021-09-29 15:33:41,636]\u001b[0m Trial 339 finished with value: 0.940327380952381 and parameters: {'kernel': 'linear', 'C': 34.131131072805594, 'gamma': 'auto'}. Best is trial 203 with value: 0.9497519841269841.\u001b[0m\n",
            "\u001b[32m[I 2021-09-29 15:33:41,735]\u001b[0m Trial 340 finished with value: 0.946577380952381 and parameters: {'kernel': 'linear', 'C': 4.937336463115979, 'gamma': 'scale'}. Best is trial 203 with value: 0.9497519841269841.\u001b[0m\n",
            "\u001b[32m[I 2021-09-29 15:33:41,836]\u001b[0m Trial 341 finished with value: 0.9340277777777779 and parameters: {'kernel': 'linear', 'C': 3.0298400779277084, 'gamma': 'scale'}. Best is trial 203 with value: 0.9497519841269841.\u001b[0m\n",
            "\u001b[32m[I 2021-09-29 15:33:41,935]\u001b[0m Trial 342 finished with value: 0.946577380952381 and parameters: {'kernel': 'linear', 'C': 20.628890493718803, 'gamma': 'auto'}. Best is trial 203 with value: 0.9497519841269841.\u001b[0m\n",
            "\u001b[32m[I 2021-09-29 15:33:42,038]\u001b[0m Trial 343 finished with value: 0.9371031746031747 and parameters: {'kernel': 'linear', 'C': 6.4327206721826435, 'gamma': 'auto'}. Best is trial 203 with value: 0.9497519841269841.\u001b[0m\n",
            "\u001b[32m[I 2021-09-29 15:33:42,176]\u001b[0m Trial 344 finished with value: 0.9402777777777779 and parameters: {'kernel': 'linear', 'C': 0.03954024396454507, 'gamma': 'auto'}. Best is trial 203 with value: 0.9497519841269841.\u001b[0m\n",
            "\u001b[32m[I 2021-09-29 15:33:42,272]\u001b[0m Trial 345 finished with value: 0.943452380952381 and parameters: {'kernel': 'linear', 'C': 22.264514766231688, 'gamma': 'scale'}. Best is trial 203 with value: 0.9497519841269841.\u001b[0m\n",
            "\u001b[32m[I 2021-09-29 15:33:42,436]\u001b[0m Trial 346 finished with value: 0.9215773809523811 and parameters: {'kernel': 'linear', 'C': 0.006218777066069364, 'gamma': 'auto'}. Best is trial 203 with value: 0.9497519841269841.\u001b[0m\n",
            "\u001b[32m[I 2021-09-29 15:33:42,543]\u001b[0m Trial 347 finished with value: 0.9372023809523811 and parameters: {'kernel': 'linear', 'C': 0.6831470618333713, 'gamma': 'scale'}. Best is trial 203 with value: 0.9497519841269841.\u001b[0m\n",
            "\u001b[32m[I 2021-09-29 15:33:42,643]\u001b[0m Trial 348 finished with value: 0.940327380952381 and parameters: {'kernel': 'linear', 'C': 35.45256986702474, 'gamma': 'scale'}. Best is trial 203 with value: 0.9497519841269841.\u001b[0m\n",
            "\u001b[32m[I 2021-09-29 15:33:42,743]\u001b[0m Trial 349 finished with value: 0.946577380952381 and parameters: {'kernel': 'linear', 'C': 16.8127940438021, 'gamma': 'scale'}. Best is trial 203 with value: 0.9497519841269841.\u001b[0m\n",
            "\u001b[32m[I 2021-09-29 15:33:42,843]\u001b[0m Trial 350 finished with value: 0.9402281746031746 and parameters: {'kernel': 'linear', 'C': 12.603811828202593, 'gamma': 'auto'}. Best is trial 203 with value: 0.9497519841269841.\u001b[0m\n",
            "\u001b[32m[I 2021-09-29 15:33:42,951]\u001b[0m Trial 351 finished with value: 0.9402777777777779 and parameters: {'kernel': 'linear', 'C': 2.2758647311835283, 'gamma': 'scale'}. Best is trial 203 with value: 0.9497519841269841.\u001b[0m\n",
            "\u001b[32m[I 2021-09-29 15:33:43,057]\u001b[0m Trial 352 finished with value: 0.9151785714285715 and parameters: {'kernel': 'sigmoid', 'C': 5.503714240308794, 'gamma': 'scale'}. Best is trial 203 with value: 0.9497519841269841.\u001b[0m\n",
            "\u001b[32m[I 2021-09-29 15:33:43,162]\u001b[0m Trial 353 finished with value: 0.943452380952381 and parameters: {'kernel': 'linear', 'C': 3.83486523300556, 'gamma': 'scale'}. Best is trial 203 with value: 0.9497519841269841.\u001b[0m\n",
            "\u001b[32m[I 2021-09-29 15:33:43,266]\u001b[0m Trial 354 finished with value: 0.946577380952381 and parameters: {'kernel': 'linear', 'C': 15.804358808581037, 'gamma': 'auto'}. Best is trial 203 with value: 0.9497519841269841.\u001b[0m\n",
            "\u001b[32m[I 2021-09-29 15:33:43,360]\u001b[0m Trial 355 finished with value: 0.9402281746031746 and parameters: {'kernel': 'linear', 'C': 9.700104973752278, 'gamma': 'auto'}. Best is trial 203 with value: 0.9497519841269841.\u001b[0m\n",
            "\u001b[32m[I 2021-09-29 15:33:43,561]\u001b[0m Trial 356 finished with value: 0.5062996031746032 and parameters: {'kernel': 'poly', 'C': 21.73898380218717, 'gamma': 'auto'}. Best is trial 203 with value: 0.9497519841269841.\u001b[0m\n",
            "\u001b[32m[I 2021-09-29 15:33:43,659]\u001b[0m Trial 357 finished with value: 0.9371031746031747 and parameters: {'kernel': 'linear', 'C': 9.372346214332405, 'gamma': 'auto'}. Best is trial 203 with value: 0.9497519841269841.\u001b[0m\n",
            "\u001b[32m[I 2021-09-29 15:33:43,763]\u001b[0m Trial 358 finished with value: 0.946577380952381 and parameters: {'kernel': 'linear', 'C': 16.500173224676384, 'gamma': 'scale'}. Best is trial 203 with value: 0.9497519841269841.\u001b[0m\n",
            "\u001b[32m[I 2021-09-29 15:33:43,861]\u001b[0m Trial 359 finished with value: 0.9402281746031746 and parameters: {'kernel': 'linear', 'C': 13.180628183696035, 'gamma': 'scale'}. Best is trial 203 with value: 0.9497519841269841.\u001b[0m\n",
            "\u001b[32m[I 2021-09-29 15:33:44,056]\u001b[0m Trial 360 finished with value: 0.5062996031746032 and parameters: {'kernel': 'linear', 'C': 1.1802828812366113e-05, 'gamma': 'auto'}. Best is trial 203 with value: 0.9497519841269841.\u001b[0m\n",
            "\u001b[32m[I 2021-09-29 15:33:44,169]\u001b[0m Trial 361 finished with value: 0.9339285714285716 and parameters: {'kernel': 'linear', 'C': 8.281638511882008, 'gamma': 'auto'}. Best is trial 203 with value: 0.9497519841269841.\u001b[0m\n",
            "\u001b[32m[I 2021-09-29 15:33:44,288]\u001b[0m Trial 362 finished with value: 0.9339781746031747 and parameters: {'kernel': 'rbf', 'C': 39.229495879942576, 'gamma': 'scale'}. Best is trial 203 with value: 0.9497519841269841.\u001b[0m\n",
            "\u001b[32m[I 2021-09-29 15:33:44,387]\u001b[0m Trial 363 finished with value: 0.940327380952381 and parameters: {'kernel': 'linear', 'C': 28.923334532185464, 'gamma': 'scale'}. Best is trial 203 with value: 0.9497519841269841.\u001b[0m\n",
            "\u001b[32m[I 2021-09-29 15:33:44,486]\u001b[0m Trial 364 finished with value: 0.9402281746031745 and parameters: {'kernel': 'linear', 'C': 60.244407118369026, 'gamma': 'auto'}. Best is trial 203 with value: 0.9497519841269841.\u001b[0m\n",
            "\u001b[32m[I 2021-09-29 15:33:44,582]\u001b[0m Trial 365 finished with value: 0.9434027777777778 and parameters: {'kernel': 'linear', 'C': 15.183530162610506, 'gamma': 'auto'}. Best is trial 203 with value: 0.9497519841269841.\u001b[0m\n",
            "\u001b[32m[I 2021-09-29 15:33:44,683]\u001b[0m Trial 366 finished with value: 0.9402281746031746 and parameters: {'kernel': 'linear', 'C': 11.327153154752846, 'gamma': 'auto'}. Best is trial 203 with value: 0.9497519841269841.\u001b[0m\n",
            "\u001b[32m[I 2021-09-29 15:33:44,782]\u001b[0m Trial 367 finished with value: 0.946577380952381 and parameters: {'kernel': 'linear', 'C': 19.872072990365282, 'gamma': 'auto'}. Best is trial 203 with value: 0.9497519841269841.\u001b[0m\n",
            "\u001b[32m[I 2021-09-29 15:33:44,879]\u001b[0m Trial 368 finished with value: 0.9340277777777779 and parameters: {'kernel': 'linear', 'C': 3.238951276500561, 'gamma': 'auto'}. Best is trial 203 with value: 0.9497519841269841.\u001b[0m\n",
            "\u001b[32m[I 2021-09-29 15:33:44,979]\u001b[0m Trial 369 finished with value: 0.9434027777777778 and parameters: {'kernel': 'linear', 'C': 5.561411795464805, 'gamma': 'scale'}. Best is trial 203 with value: 0.9497519841269841.\u001b[0m\n",
            "\u001b[32m[I 2021-09-29 15:33:45,084]\u001b[0m Trial 370 finished with value: 0.946577380952381 and parameters: {'kernel': 'linear', 'C': 16.019613136551083, 'gamma': 'auto'}. Best is trial 203 with value: 0.9497519841269841.\u001b[0m\n",
            "\u001b[32m[I 2021-09-29 15:33:45,192]\u001b[0m Trial 371 finished with value: 0.946577380952381 and parameters: {'kernel': 'linear', 'C': 4.858115422210545, 'gamma': 'auto'}. Best is trial 203 with value: 0.9497519841269841.\u001b[0m\n",
            "\u001b[32m[I 2021-09-29 15:33:45,292]\u001b[0m Trial 372 finished with value: 0.9308531746031747 and parameters: {'kernel': 'linear', 'C': 1.6418081958834, 'gamma': 'scale'}. Best is trial 203 with value: 0.9497519841269841.\u001b[0m\n",
            "\u001b[32m[I 2021-09-29 15:33:45,392]\u001b[0m Trial 373 finished with value: 0.946577380952381 and parameters: {'kernel': 'linear', 'C': 4.268137571329006, 'gamma': 'scale'}. Best is trial 203 with value: 0.9497519841269841.\u001b[0m\n",
            "\u001b[32m[I 2021-09-29 15:33:45,496]\u001b[0m Trial 374 finished with value: 0.943452380952381 and parameters: {'kernel': 'linear', 'C': 22.184587723140886, 'gamma': 'auto'}. Best is trial 203 with value: 0.9497519841269841.\u001b[0m\n",
            "\u001b[32m[I 2021-09-29 15:33:45,622]\u001b[0m Trial 375 finished with value: 0.9402777777777779 and parameters: {'kernel': 'sigmoid', 'C': 25.43870793174874, 'gamma': 'auto'}. Best is trial 203 with value: 0.9497519841269841.\u001b[0m\n",
            "\u001b[32m[I 2021-09-29 15:33:45,725]\u001b[0m Trial 376 finished with value: 0.943452380952381 and parameters: {'kernel': 'linear', 'C': 44.93377027550525, 'gamma': 'auto'}. Best is trial 203 with value: 0.9497519841269841.\u001b[0m\n",
            "\u001b[32m[I 2021-09-29 15:33:45,830]\u001b[0m Trial 377 finished with value: 0.946577380952381 and parameters: {'kernel': 'linear', 'C': 19.56876467115443, 'gamma': 'scale'}. Best is trial 203 with value: 0.9497519841269841.\u001b[0m\n",
            "\u001b[32m[I 2021-09-29 15:33:45,929]\u001b[0m Trial 378 finished with value: 0.946577380952381 and parameters: {'kernel': 'linear', 'C': 20.214236276858422, 'gamma': 'scale'}. Best is trial 203 with value: 0.9497519841269841.\u001b[0m\n",
            "\u001b[32m[I 2021-09-29 15:33:46,027]\u001b[0m Trial 379 finished with value: 0.9434027777777778 and parameters: {'kernel': 'linear', 'C': 13.844918756533898, 'gamma': 'scale'}. Best is trial 203 with value: 0.9497519841269841.\u001b[0m\n",
            "\u001b[32m[I 2021-09-29 15:33:46,126]\u001b[0m Trial 380 finished with value: 0.9402281746031746 and parameters: {'kernel': 'linear', 'C': 10.948465674847656, 'gamma': 'auto'}. Best is trial 203 with value: 0.9497519841269841.\u001b[0m\n",
            "\u001b[32m[I 2021-09-29 15:33:46,236]\u001b[0m Trial 381 finished with value: 0.943452380952381 and parameters: {'kernel': 'linear', 'C': 18.41384120378623, 'gamma': 'scale'}. Best is trial 203 with value: 0.9497519841269841.\u001b[0m\n",
            "\u001b[32m[I 2021-09-29 15:33:46,336]\u001b[0m Trial 382 finished with value: 0.9371031746031747 and parameters: {'kernel': 'linear', 'C': 7.58098197097481, 'gamma': 'auto'}. Best is trial 203 with value: 0.9497519841269841.\u001b[0m\n",
            "\u001b[32m[I 2021-09-29 15:33:46,448]\u001b[0m Trial 383 finished with value: 0.9277281746031747 and parameters: {'kernel': 'poly', 'C': 5.829665003645541, 'gamma': 'scale'}. Best is trial 203 with value: 0.9497519841269841.\u001b[0m\n",
            "\u001b[32m[I 2021-09-29 15:33:46,551]\u001b[0m Trial 384 finished with value: 0.9339285714285716 and parameters: {'kernel': 'linear', 'C': 8.017495401780621, 'gamma': 'scale'}. Best is trial 203 with value: 0.9497519841269841.\u001b[0m\n",
            "\u001b[32m[I 2021-09-29 15:33:46,652]\u001b[0m Trial 385 finished with value: 0.9402281746031746 and parameters: {'kernel': 'linear', 'C': 12.369021759554734, 'gamma': 'auto'}. Best is trial 203 with value: 0.9497519841269841.\u001b[0m\n",
            "\u001b[32m[I 2021-09-29 15:33:46,757]\u001b[0m Trial 386 finished with value: 0.940327380952381 and parameters: {'kernel': 'linear', 'C': 31.100108541573235, 'gamma': 'scale'}. Best is trial 203 with value: 0.9497519841269841.\u001b[0m\n",
            "\u001b[32m[I 2021-09-29 15:33:46,969]\u001b[0m Trial 387 finished with value: 0.5062996031746032 and parameters: {'kernel': 'rbf', 'C': 0.08632584898612801, 'gamma': 'auto'}. Best is trial 203 with value: 0.9497519841269841.\u001b[0m\n",
            "\u001b[32m[I 2021-09-29 15:33:47,070]\u001b[0m Trial 388 finished with value: 0.9402281746031746 and parameters: {'kernel': 'linear', 'C': 13.321862472348586, 'gamma': 'auto'}. Best is trial 203 with value: 0.9497519841269841.\u001b[0m\n",
            "\u001b[32m[I 2021-09-29 15:33:47,177]\u001b[0m Trial 389 finished with value: 0.943452380952381 and parameters: {'kernel': 'linear', 'C': 24.663184859642705, 'gamma': 'scale'}. Best is trial 203 with value: 0.9497519841269841.\u001b[0m\n",
            "\u001b[32m[I 2021-09-29 15:33:47,291]\u001b[0m Trial 390 finished with value: 0.940327380952381 and parameters: {'kernel': 'linear', 'C': 34.149525519067964, 'gamma': 'auto'}. Best is trial 203 with value: 0.9497519841269841.\u001b[0m\n",
            "\u001b[32m[I 2021-09-29 15:33:47,399]\u001b[0m Trial 391 finished with value: 0.946577380952381 and parameters: {'kernel': 'linear', 'C': 20.259378212819012, 'gamma': 'scale'}. Best is trial 203 with value: 0.9497519841269841.\u001b[0m\n",
            "\u001b[32m[I 2021-09-29 15:33:47,506]\u001b[0m Trial 392 finished with value: 0.946577380952381 and parameters: {'kernel': 'linear', 'C': 15.806002372735433, 'gamma': 'scale'}. Best is trial 203 with value: 0.9497519841269841.\u001b[0m\n",
            "\u001b[32m[I 2021-09-29 15:33:47,611]\u001b[0m Trial 393 finished with value: 0.9402281746031746 and parameters: {'kernel': 'linear', 'C': 10.326154876145182, 'gamma': 'auto'}. Best is trial 203 with value: 0.9497519841269841.\u001b[0m\n",
            "\u001b[32m[I 2021-09-29 15:33:47,714]\u001b[0m Trial 394 finished with value: 0.9402281746031745 and parameters: {'kernel': 'linear', 'C': 80.22647073916343, 'gamma': 'scale'}. Best is trial 203 with value: 0.9497519841269841.\u001b[0m\n",
            "\u001b[32m[I 2021-09-29 15:33:47,825]\u001b[0m Trial 395 finished with value: 0.946577380952381 and parameters: {'kernel': 'linear', 'C': 4.983799037847209, 'gamma': 'auto'}. Best is trial 203 with value: 0.9497519841269841.\u001b[0m\n",
            "\u001b[32m[I 2021-09-29 15:33:47,938]\u001b[0m Trial 396 finished with value: 0.9372023809523811 and parameters: {'kernel': 'linear', 'C': 0.2653877943046704, 'gamma': 'auto'}. Best is trial 203 with value: 0.9497519841269841.\u001b[0m\n",
            "\u001b[32m[I 2021-09-29 15:33:48,043]\u001b[0m Trial 397 finished with value: 0.9371031746031747 and parameters: {'kernel': 'linear', 'C': 7.589347722602402, 'gamma': 'scale'}. Best is trial 203 with value: 0.9497519841269841.\u001b[0m\n",
            "\u001b[32m[I 2021-09-29 15:33:48,155]\u001b[0m Trial 398 finished with value: 0.9402777777777779 and parameters: {'kernel': 'linear', 'C': 2.308253840064764, 'gamma': 'scale'}. Best is trial 203 with value: 0.9497519841269841.\u001b[0m\n",
            "\u001b[32m[I 2021-09-29 15:33:48,265]\u001b[0m Trial 399 finished with value: 0.943452380952381 and parameters: {'kernel': 'linear', 'C': 45.23423646979382, 'gamma': 'scale'}. Best is trial 203 with value: 0.9497519841269841.\u001b[0m\n",
            "\u001b[32m[I 2021-09-29 15:33:48,379]\u001b[0m Trial 400 finished with value: 0.8995535714285714 and parameters: {'kernel': 'sigmoid', 'C': 15.826586114200097, 'gamma': 'scale'}. Best is trial 203 with value: 0.9497519841269841.\u001b[0m\n",
            "\u001b[32m[I 2021-09-29 15:33:48,488]\u001b[0m Trial 401 finished with value: 0.9340277777777779 and parameters: {'kernel': 'linear', 'C': 3.1032736327607813, 'gamma': 'auto'}. Best is trial 203 with value: 0.9497519841269841.\u001b[0m\n",
            "\u001b[32m[I 2021-09-29 15:33:48,587]\u001b[0m Trial 402 finished with value: 0.946577380952381 and parameters: {'kernel': 'linear', 'C': 5.045365838882513, 'gamma': 'auto'}. Best is trial 203 with value: 0.9497519841269841.\u001b[0m\n",
            "\u001b[32m[I 2021-09-29 15:33:48,687]\u001b[0m Trial 403 finished with value: 0.943452380952381 and parameters: {'kernel': 'linear', 'C': 18.448253753109718, 'gamma': 'scale'}. Best is trial 203 with value: 0.9497519841269841.\u001b[0m\n",
            "\u001b[32m[I 2021-09-29 15:33:48,781]\u001b[0m Trial 404 finished with value: 0.9402281746031745 and parameters: {'kernel': 'linear', 'C': 62.15852567629168, 'gamma': 'auto'}. Best is trial 203 with value: 0.9497519841269841.\u001b[0m\n",
            "\u001b[32m[I 2021-09-29 15:33:48,900]\u001b[0m Trial 405 finished with value: 0.9402281746031746 and parameters: {'kernel': 'linear', 'C': 10.363358302715499, 'gamma': 'scale'}. Best is trial 203 with value: 0.9497519841269841.\u001b[0m\n",
            "\u001b[32m[I 2021-09-29 15:33:49,018]\u001b[0m Trial 406 finished with value: 0.940327380952381 and parameters: {'kernel': 'linear', 'C': 35.14853072476385, 'gamma': 'scale'}. Best is trial 203 with value: 0.9497519841269841.\u001b[0m\n",
            "\u001b[32m[I 2021-09-29 15:33:49,121]\u001b[0m Trial 407 finished with value: 0.9402281746031746 and parameters: {'kernel': 'linear', 'C': 13.586693621739657, 'gamma': 'scale'}. Best is trial 203 with value: 0.9497519841269841.\u001b[0m\n",
            "\u001b[32m[I 2021-09-29 15:33:49,226]\u001b[0m Trial 408 finished with value: 0.946577380952381 and parameters: {'kernel': 'linear', 'C': 18.164177583245635, 'gamma': 'scale'}. Best is trial 203 with value: 0.9497519841269841.\u001b[0m\n",
            "\u001b[32m[I 2021-09-29 15:33:49,330]\u001b[0m Trial 409 finished with value: 0.9370535714285715 and parameters: {'kernel': 'linear', 'C': 8.519848364002176, 'gamma': 'auto'}. Best is trial 203 with value: 0.9497519841269841.\u001b[0m\n",
            "\u001b[32m[I 2021-09-29 15:33:49,527]\u001b[0m Trial 410 finished with value: 0.5062996031746032 and parameters: {'kernel': 'linear', 'C': 7.404034261034427e-05, 'gamma': 'scale'}. Best is trial 203 with value: 0.9497519841269841.\u001b[0m\n",
            "\u001b[32m[I 2021-09-29 15:33:49,748]\u001b[0m Trial 411 finished with value: 0.5062996031746032 and parameters: {'kernel': 'poly', 'C': 0.002209060964907855, 'gamma': 'auto'}. Best is trial 203 with value: 0.9497519841269841.\u001b[0m\n",
            "\u001b[32m[I 2021-09-29 15:33:49,865]\u001b[0m Trial 412 finished with value: 0.9340277777777779 and parameters: {'kernel': 'rbf', 'C': 30.658837639486883, 'gamma': 'auto'}. Best is trial 203 with value: 0.9497519841269841.\u001b[0m\n",
            "\u001b[32m[I 2021-09-29 15:33:49,962]\u001b[0m Trial 413 finished with value: 0.943452380952381 and parameters: {'kernel': 'linear', 'C': 21.83862179855377, 'gamma': 'auto'}. Best is trial 203 with value: 0.9497519841269841.\u001b[0m\n",
            "\u001b[32m[I 2021-09-29 15:33:50,061]\u001b[0m Trial 414 finished with value: 0.943452380952381 and parameters: {'kernel': 'linear', 'C': 25.20330972478004, 'gamma': 'auto'}. Best is trial 203 with value: 0.9497519841269841.\u001b[0m\n",
            "\u001b[32m[I 2021-09-29 15:33:50,157]\u001b[0m Trial 415 finished with value: 0.9402281746031746 and parameters: {'kernel': 'linear', 'C': 12.044266596758652, 'gamma': 'auto'}. Best is trial 203 with value: 0.9497519841269841.\u001b[0m\n",
            "\u001b[32m[I 2021-09-29 15:33:50,264]\u001b[0m Trial 416 finished with value: 0.940327380952381 and parameters: {'kernel': 'linear', 'C': 29.9162491682071, 'gamma': 'scale'}. Best is trial 203 with value: 0.9497519841269841.\u001b[0m\n",
            "\u001b[32m[I 2021-09-29 15:33:50,369]\u001b[0m Trial 417 finished with value: 0.943452380952381 and parameters: {'kernel': 'linear', 'C': 3.824160501432692, 'gamma': 'auto'}. Best is trial 203 with value: 0.9497519841269841.\u001b[0m\n",
            "\u001b[32m[I 2021-09-29 15:33:50,481]\u001b[0m Trial 418 finished with value: 0.9372023809523811 and parameters: {'kernel': 'linear', 'C': 0.48495041807170275, 'gamma': 'scale'}. Best is trial 203 with value: 0.9497519841269841.\u001b[0m\n",
            "\u001b[32m[I 2021-09-29 15:33:50,586]\u001b[0m Trial 419 finished with value: 0.9371527777777778 and parameters: {'kernel': 'linear', 'C': 2.9527505080062126, 'gamma': 'scale'}. Best is trial 203 with value: 0.9497519841269841.\u001b[0m\n",
            "\u001b[32m[I 2021-09-29 15:33:50,680]\u001b[0m Trial 420 finished with value: 0.9371031746031747 and parameters: {'kernel': 'linear', 'C': 7.497260133434918, 'gamma': 'auto'}. Best is trial 203 with value: 0.9497519841269841.\u001b[0m\n",
            "\u001b[32m[I 2021-09-29 15:33:50,785]\u001b[0m Trial 421 finished with value: 0.9434027777777778 and parameters: {'kernel': 'linear', 'C': 14.384996240276935, 'gamma': 'scale'}. Best is trial 203 with value: 0.9497519841269841.\u001b[0m\n",
            "\u001b[32m[I 2021-09-29 15:33:50,886]\u001b[0m Trial 422 finished with value: 0.9371031746031747 and parameters: {'kernel': 'linear', 'C': 6.035570915940614, 'gamma': 'auto'}. Best is trial 203 with value: 0.9497519841269841.\u001b[0m\n",
            "\u001b[32m[I 2021-09-29 15:33:50,986]\u001b[0m Trial 423 finished with value: 0.943452380952381 and parameters: {'kernel': 'linear', 'C': 21.75004689449369, 'gamma': 'auto'}. Best is trial 203 with value: 0.9497519841269841.\u001b[0m\n",
            "\u001b[32m[I 2021-09-29 15:33:51,116]\u001b[0m Trial 424 finished with value: 0.9371527777777778 and parameters: {'kernel': 'sigmoid', 'C': 40.26680771403643, 'gamma': 'auto'}. Best is trial 203 with value: 0.9497519841269841.\u001b[0m\n",
            "\u001b[32m[I 2021-09-29 15:33:51,220]\u001b[0m Trial 425 finished with value: 0.943452380952381 and parameters: {'kernel': 'linear', 'C': 26.126687732339132, 'gamma': 'scale'}. Best is trial 203 with value: 0.9497519841269841.\u001b[0m\n",
            "\u001b[32m[I 2021-09-29 15:33:51,331]\u001b[0m Trial 426 finished with value: 0.946577380952381 and parameters: {'kernel': 'linear', 'C': 15.407085893408382, 'gamma': 'auto'}. Best is trial 203 with value: 0.9497519841269841.\u001b[0m\n",
            "\u001b[32m[I 2021-09-29 15:33:51,435]\u001b[0m Trial 427 finished with value: 0.946577380952381 and parameters: {'kernel': 'linear', 'C': 16.588151526837038, 'gamma': 'auto'}. Best is trial 203 with value: 0.9497519841269841.\u001b[0m\n",
            "\u001b[32m[I 2021-09-29 15:33:51,534]\u001b[0m Trial 428 finished with value: 0.9339781746031747 and parameters: {'kernel': 'linear', 'C': 1.8229463935510584, 'gamma': 'auto'}. Best is trial 203 with value: 0.9497519841269841.\u001b[0m\n",
            "\u001b[32m[I 2021-09-29 15:33:51,637]\u001b[0m Trial 429 finished with value: 0.943452380952381 and parameters: {'kernel': 'linear', 'C': 3.76070977016985, 'gamma': 'auto'}. Best is trial 203 with value: 0.9497519841269841.\u001b[0m\n",
            "\u001b[32m[I 2021-09-29 15:33:51,746]\u001b[0m Trial 430 finished with value: 0.943452380952381 and parameters: {'kernel': 'linear', 'C': 21.62198204324702, 'gamma': 'scale'}. Best is trial 203 with value: 0.9497519841269841.\u001b[0m\n",
            "\u001b[32m[I 2021-09-29 15:33:51,857]\u001b[0m Trial 431 finished with value: 0.9402281746031745 and parameters: {'kernel': 'linear', 'C': 94.7854386058214, 'gamma': 'auto'}. Best is trial 203 with value: 0.9497519841269841.\u001b[0m\n",
            "\u001b[32m[I 2021-09-29 15:33:51,973]\u001b[0m Trial 432 finished with value: 0.9277281746031747 and parameters: {'kernel': 'poly', 'C': 10.53504484150828, 'gamma': 'scale'}. Best is trial 203 with value: 0.9497519841269841.\u001b[0m\n",
            "\u001b[32m[I 2021-09-29 15:33:52,078]\u001b[0m Trial 433 finished with value: 0.9371031746031747 and parameters: {'kernel': 'linear', 'C': 6.556185223839262, 'gamma': 'auto'}. Best is trial 203 with value: 0.9497519841269841.\u001b[0m\n",
            "\u001b[32m[I 2021-09-29 15:33:52,183]\u001b[0m Trial 434 finished with value: 0.946577380952381 and parameters: {'kernel': 'linear', 'C': 20.720766784874964, 'gamma': 'scale'}. Best is trial 203 with value: 0.9497519841269841.\u001b[0m\n",
            "\u001b[32m[I 2021-09-29 15:33:52,287]\u001b[0m Trial 435 finished with value: 0.9402281746031746 and parameters: {'kernel': 'linear', 'C': 11.474154752897435, 'gamma': 'scale'}. Best is trial 203 with value: 0.9497519841269841.\u001b[0m\n",
            "\u001b[32m[I 2021-09-29 15:33:52,409]\u001b[0m Trial 436 finished with value: 0.946577380952381 and parameters: {'kernel': 'linear', 'C': 4.911890867953837, 'gamma': 'scale'}. Best is trial 203 with value: 0.9497519841269841.\u001b[0m\n",
            "\u001b[32m[I 2021-09-29 15:33:52,515]\u001b[0m Trial 437 finished with value: 0.9402281746031746 and parameters: {'kernel': 'linear', 'C': 10.461739629277654, 'gamma': 'auto'}. Best is trial 203 with value: 0.9497519841269841.\u001b[0m\n",
            "\u001b[32m[I 2021-09-29 15:33:52,632]\u001b[0m Trial 438 finished with value: 0.940327380952381 and parameters: {'kernel': 'rbf', 'C': 9.467594351074776, 'gamma': 'scale'}. Best is trial 203 with value: 0.9497519841269841.\u001b[0m\n",
            "\u001b[32m[I 2021-09-29 15:33:52,780]\u001b[0m Trial 439 finished with value: 0.930952380952381 and parameters: {'kernel': 'linear', 'C': 0.012992271146696351, 'gamma': 'scale'}. Best is trial 203 with value: 0.9497519841269841.\u001b[0m\n",
            "\u001b[32m[I 2021-09-29 15:33:52,884]\u001b[0m Trial 440 finished with value: 0.9277777777777778 and parameters: {'kernel': 'linear', 'C': 1.289284892006762, 'gamma': 'auto'}. Best is trial 203 with value: 0.9497519841269841.\u001b[0m\n",
            "\u001b[32m[I 2021-09-29 15:33:52,986]\u001b[0m Trial 441 finished with value: 0.943452380952381 and parameters: {'kernel': 'linear', 'C': 44.33456265531705, 'gamma': 'auto'}. Best is trial 203 with value: 0.9497519841269841.\u001b[0m\n",
            "\u001b[32m[I 2021-09-29 15:33:53,087]\u001b[0m Trial 442 finished with value: 0.940327380952381 and parameters: {'kernel': 'linear', 'C': 30.330154595867484, 'gamma': 'scale'}. Best is trial 203 with value: 0.9497519841269841.\u001b[0m\n",
            "\u001b[32m[I 2021-09-29 15:33:53,199]\u001b[0m Trial 443 finished with value: 0.946577380952381 and parameters: {'kernel': 'linear', 'C': 15.61016718887582, 'gamma': 'scale'}. Best is trial 203 with value: 0.9497519841269841.\u001b[0m\n",
            "\u001b[32m[I 2021-09-29 15:33:53,310]\u001b[0m Trial 444 finished with value: 0.9340277777777779 and parameters: {'kernel': 'linear', 'C': 3.080727883547161, 'gamma': 'auto'}. Best is trial 203 with value: 0.9497519841269841.\u001b[0m\n",
            "\u001b[32m[I 2021-09-29 15:33:53,419]\u001b[0m Trial 445 finished with value: 0.9402777777777779 and parameters: {'kernel': 'linear', 'C': 2.1631137356989023, 'gamma': 'auto'}. Best is trial 203 with value: 0.9497519841269841.\u001b[0m\n",
            "\u001b[32m[I 2021-09-29 15:33:53,526]\u001b[0m Trial 446 finished with value: 0.9402281746031745 and parameters: {'kernel': 'linear', 'C': 67.92351458074168, 'gamma': 'auto'}. Best is trial 203 with value: 0.9497519841269841.\u001b[0m\n",
            "\u001b[32m[I 2021-09-29 15:33:53,630]\u001b[0m Trial 447 finished with value: 0.946577380952381 and parameters: {'kernel': 'linear', 'C': 21.41445371939816, 'gamma': 'scale'}. Best is trial 203 with value: 0.9497519841269841.\u001b[0m\n",
            "\u001b[32m[I 2021-09-29 15:33:53,734]\u001b[0m Trial 448 finished with value: 0.9402281746031746 and parameters: {'kernel': 'linear', 'C': 13.32549631976275, 'gamma': 'auto'}. Best is trial 203 with value: 0.9497519841269841.\u001b[0m\n",
            "\u001b[32m[I 2021-09-29 15:33:53,840]\u001b[0m Trial 449 finished with value: 0.943452380952381 and parameters: {'kernel': 'linear', 'C': 25.72081883743155, 'gamma': 'scale'}. Best is trial 203 with value: 0.9497519841269841.\u001b[0m\n",
            "\u001b[32m[I 2021-09-29 15:33:53,943]\u001b[0m Trial 450 finished with value: 0.940327380952381 and parameters: {'kernel': 'linear', 'C': 29.14335528798875, 'gamma': 'auto'}. Best is trial 203 with value: 0.9497519841269841.\u001b[0m\n",
            "\u001b[32m[I 2021-09-29 15:33:54,082]\u001b[0m Trial 451 finished with value: 0.9309027777777779 and parameters: {'kernel': 'sigmoid', 'C': 9.442944419384753, 'gamma': 'auto'}. Best is trial 203 with value: 0.9497519841269841.\u001b[0m\n",
            "\u001b[32m[I 2021-09-29 15:33:54,190]\u001b[0m Trial 452 finished with value: 0.946577380952381 and parameters: {'kernel': 'linear', 'C': 17.10644663216515, 'gamma': 'scale'}. Best is trial 203 with value: 0.9497519841269841.\u001b[0m\n",
            "\u001b[32m[I 2021-09-29 15:33:54,297]\u001b[0m Trial 453 finished with value: 0.943452380952381 and parameters: {'kernel': 'linear', 'C': 3.8730343871165087, 'gamma': 'auto'}. Best is trial 203 with value: 0.9497519841269841.\u001b[0m\n",
            "\u001b[32m[I 2021-09-29 15:33:54,407]\u001b[0m Trial 454 finished with value: 0.9434027777777778 and parameters: {'kernel': 'linear', 'C': 13.795946267353957, 'gamma': 'auto'}. Best is trial 203 with value: 0.9497519841269841.\u001b[0m\n",
            "\u001b[32m[I 2021-09-29 15:33:54,514]\u001b[0m Trial 455 finished with value: 0.946577380952381 and parameters: {'kernel': 'linear', 'C': 16.626238286596383, 'gamma': 'scale'}. Best is trial 203 with value: 0.9497519841269841.\u001b[0m\n",
            "\u001b[32m[I 2021-09-29 15:33:54,616]\u001b[0m Trial 456 finished with value: 0.9371031746031747 and parameters: {'kernel': 'linear', 'C': 6.69998059310839, 'gamma': 'auto'}. Best is trial 203 with value: 0.9497519841269841.\u001b[0m\n",
            "\u001b[32m[I 2021-09-29 15:33:54,724]\u001b[0m Trial 457 finished with value: 0.946577380952381 and parameters: {'kernel': 'linear', 'C': 16.099055597122863, 'gamma': 'auto'}. Best is trial 203 with value: 0.9497519841269841.\u001b[0m\n",
            "\u001b[32m[I 2021-09-29 15:33:54,929]\u001b[0m Trial 458 finished with value: 0.5062996031746032 and parameters: {'kernel': 'poly', 'C': 2.6153056898461524, 'gamma': 'auto'}. Best is trial 203 with value: 0.9497519841269841.\u001b[0m\n",
            "\u001b[32m[I 2021-09-29 15:33:55,040]\u001b[0m Trial 459 finished with value: 0.9434027777777778 and parameters: {'kernel': 'linear', 'C': 5.840721122797406, 'gamma': 'auto'}. Best is trial 203 with value: 0.9497519841269841.\u001b[0m\n",
            "\u001b[32m[I 2021-09-29 15:33:55,154]\u001b[0m Trial 460 finished with value: 0.946577380952381 and parameters: {'kernel': 'linear', 'C': 20.36339572588572, 'gamma': 'scale'}. Best is trial 203 with value: 0.9497519841269841.\u001b[0m\n",
            "\u001b[32m[I 2021-09-29 15:33:55,257]\u001b[0m Trial 461 finished with value: 0.9402281746031746 and parameters: {'kernel': 'linear', 'C': 11.1465014703656, 'gamma': 'auto'}. Best is trial 203 with value: 0.9497519841269841.\u001b[0m\n",
            "\u001b[32m[I 2021-09-29 15:33:55,360]\u001b[0m Trial 462 finished with value: 0.946577380952381 and parameters: {'kernel': 'linear', 'C': 4.974981072662105, 'gamma': 'scale'}. Best is trial 203 with value: 0.9497519841269841.\u001b[0m\n",
            "\u001b[32m[I 2021-09-29 15:33:55,471]\u001b[0m Trial 463 finished with value: 0.9497519841269841 and parameters: {'kernel': 'linear', 'C': 4.7100702422800245, 'gamma': 'scale'}. Best is trial 203 with value: 0.9497519841269841.\u001b[0m\n",
            "\u001b[32m[I 2021-09-29 15:33:55,594]\u001b[0m Trial 464 finished with value: 0.9308531746031747 and parameters: {'kernel': 'rbf', 'C': 16.31147580778872, 'gamma': 'scale'}. Best is trial 203 with value: 0.9497519841269841.\u001b[0m\n",
            "\u001b[32m[I 2021-09-29 15:33:55,699]\u001b[0m Trial 465 finished with value: 0.9370535714285715 and parameters: {'kernel': 'linear', 'C': 8.471434471305573, 'gamma': 'auto'}. Best is trial 203 with value: 0.9497519841269841.\u001b[0m\n",
            "\u001b[32m[I 2021-09-29 15:33:55,909]\u001b[0m Trial 466 finished with value: 0.5062996031746032 and parameters: {'kernel': 'linear', 'C': 0.0005722616799250149, 'gamma': 'auto'}. Best is trial 203 with value: 0.9497519841269841.\u001b[0m\n",
            "\u001b[32m[I 2021-09-29 15:33:56,018]\u001b[0m Trial 467 finished with value: 0.943452380952381 and parameters: {'kernel': 'linear', 'C': 3.6614292889792646, 'gamma': 'scale'}. Best is trial 203 with value: 0.9497519841269841.\u001b[0m\n",
            "\u001b[32m[I 2021-09-29 15:33:56,123]\u001b[0m Trial 468 finished with value: 0.940327380952381 and parameters: {'kernel': 'linear', 'C': 27.928975290866738, 'gamma': 'auto'}. Best is trial 203 with value: 0.9497519841269841.\u001b[0m\n",
            "\u001b[32m[I 2021-09-29 15:33:56,242]\u001b[0m Trial 469 finished with value: 0.9370535714285715 and parameters: {'kernel': 'linear', 'C': 8.724004374102602, 'gamma': 'scale'}. Best is trial 203 with value: 0.9497519841269841.\u001b[0m\n",
            "\u001b[32m[I 2021-09-29 15:33:56,370]\u001b[0m Trial 470 finished with value: 0.946577380952381 and parameters: {'kernel': 'linear', 'C': 5.21511106928082, 'gamma': 'auto'}. Best is trial 203 with value: 0.9497519841269841.\u001b[0m\n",
            "\u001b[32m[I 2021-09-29 15:33:56,498]\u001b[0m Trial 471 finished with value: 0.9371031746031747 and parameters: {'kernel': 'linear', 'C': 7.432059660931115, 'gamma': 'auto'}. Best is trial 203 with value: 0.9497519841269841.\u001b[0m\n",
            "\u001b[32m[I 2021-09-29 15:33:56,611]\u001b[0m Trial 472 finished with value: 0.9434027777777778 and parameters: {'kernel': 'linear', 'C': 5.831567572850908, 'gamma': 'auto'}. Best is trial 203 with value: 0.9497519841269841.\u001b[0m\n",
            "\u001b[32m[I 2021-09-29 15:33:56,723]\u001b[0m Trial 473 finished with value: 0.946577380952381 and parameters: {'kernel': 'linear', 'C': 4.254578574986971, 'gamma': 'scale'}. Best is trial 203 with value: 0.9497519841269841.\u001b[0m\n",
            "\u001b[32m[I 2021-09-29 15:33:56,836]\u001b[0m Trial 474 finished with value: 0.9339285714285716 and parameters: {'kernel': 'linear', 'C': 8.356372978818435, 'gamma': 'scale'}. Best is trial 203 with value: 0.9497519841269841.\u001b[0m\n",
            "\u001b[32m[I 2021-09-29 15:33:56,955]\u001b[0m Trial 475 finished with value: 0.9371527777777778 and parameters: {'kernel': 'linear', 'C': 2.5651213418495002, 'gamma': 'auto'}. Best is trial 203 with value: 0.9497519841269841.\u001b[0m\n",
            "\u001b[32m[I 2021-09-29 15:33:57,072]\u001b[0m Trial 476 finished with value: 0.9056547619047619 and parameters: {'kernel': 'sigmoid', 'C': 22.761359969409707, 'gamma': 'scale'}. Best is trial 203 with value: 0.9497519841269841.\u001b[0m\n",
            "\u001b[32m[I 2021-09-29 15:33:57,194]\u001b[0m Trial 477 finished with value: 0.9402281746031746 and parameters: {'kernel': 'linear', 'C': 13.311025585392402, 'gamma': 'scale'}. Best is trial 203 with value: 0.9497519841269841.\u001b[0m\n",
            "\u001b[32m[I 2021-09-29 15:33:57,307]\u001b[0m Trial 478 finished with value: 0.946577380952381 and parameters: {'kernel': 'linear', 'C': 4.1781637729394765, 'gamma': 'auto'}. Best is trial 203 with value: 0.9497519841269841.\u001b[0m\n",
            "\u001b[32m[I 2021-09-29 15:33:57,424]\u001b[0m Trial 479 finished with value: 0.9402281746031746 and parameters: {'kernel': 'linear', 'C': 11.979661259302413, 'gamma': 'scale'}. Best is trial 203 with value: 0.9497519841269841.\u001b[0m\n",
            "\u001b[32m[I 2021-09-29 15:33:57,546]\u001b[0m Trial 480 finished with value: 0.9371031746031747 and parameters: {'kernel': 'linear', 'C': 6.916148683146853, 'gamma': 'scale'}. Best is trial 203 with value: 0.9497519841269841.\u001b[0m\n",
            "\u001b[32m[I 2021-09-29 15:33:57,662]\u001b[0m Trial 481 finished with value: 0.946577380952381 and parameters: {'kernel': 'linear', 'C': 5.081371883682668, 'gamma': 'auto'}. Best is trial 203 with value: 0.9497519841269841.\u001b[0m\n",
            "\u001b[32m[I 2021-09-29 15:33:57,765]\u001b[0m Trial 482 finished with value: 0.943452380952381 and parameters: {'kernel': 'linear', 'C': 24.92195961220844, 'gamma': 'auto'}. Best is trial 203 with value: 0.9497519841269841.\u001b[0m\n",
            "\u001b[32m[I 2021-09-29 15:33:57,899]\u001b[0m Trial 483 finished with value: 0.8995535714285715 and parameters: {'kernel': 'poly', 'C': 0.17821459527082154, 'gamma': 'scale'}. Best is trial 203 with value: 0.9497519841269841.\u001b[0m\n",
            "\u001b[32m[I 2021-09-29 15:33:58,013]\u001b[0m Trial 484 finished with value: 0.946577380952381 and parameters: {'kernel': 'linear', 'C': 18.959143845329745, 'gamma': 'scale'}. Best is trial 203 with value: 0.9497519841269841.\u001b[0m\n",
            "\u001b[32m[I 2021-09-29 15:33:58,120]\u001b[0m Trial 485 finished with value: 0.9402281746031746 and parameters: {'kernel': 'linear', 'C': 10.27541074439069, 'gamma': 'auto'}. Best is trial 203 with value: 0.9497519841269841.\u001b[0m\n",
            "\u001b[32m[I 2021-09-29 15:33:58,237]\u001b[0m Trial 486 finished with value: 0.943452380952381 and parameters: {'kernel': 'linear', 'C': 36.800378862451105, 'gamma': 'auto'}. Best is trial 203 with value: 0.9497519841269841.\u001b[0m\n",
            "\u001b[32m[I 2021-09-29 15:33:58,343]\u001b[0m Trial 487 finished with value: 0.940327380952381 and parameters: {'kernel': 'linear', 'C': 27.768535059137022, 'gamma': 'scale'}. Best is trial 203 with value: 0.9497519841269841.\u001b[0m\n",
            "\u001b[32m[I 2021-09-29 15:33:58,469]\u001b[0m Trial 488 finished with value: 0.9402777777777779 and parameters: {'kernel': 'linear', 'C': 2.8003184938203574, 'gamma': 'scale'}. Best is trial 203 with value: 0.9497519841269841.\u001b[0m\n",
            "\u001b[32m[I 2021-09-29 15:33:58,596]\u001b[0m Trial 489 finished with value: 0.9371527777777778 and parameters: {'kernel': 'rbf', 'C': 1.4626369848133753, 'gamma': 'scale'}. Best is trial 203 with value: 0.9497519841269841.\u001b[0m\n",
            "\u001b[32m[I 2021-09-29 15:33:58,701]\u001b[0m Trial 490 finished with value: 0.930952380952381 and parameters: {'kernel': 'linear', 'C': 1.0019657982608132, 'gamma': 'auto'}. Best is trial 203 with value: 0.9497519841269841.\u001b[0m\n",
            "\u001b[32m[I 2021-09-29 15:33:58,821]\u001b[0m Trial 491 finished with value: 0.9402777777777779 and parameters: {'kernel': 'linear', 'C': 0.05872479077180535, 'gamma': 'scale'}. Best is trial 203 with value: 0.9497519841269841.\u001b[0m\n",
            "\u001b[32m[I 2021-09-29 15:33:58,936]\u001b[0m Trial 492 finished with value: 0.9340277777777779 and parameters: {'kernel': 'linear', 'C': 3.053953791290207, 'gamma': 'scale'}. Best is trial 203 with value: 0.9497519841269841.\u001b[0m\n",
            "\u001b[32m[I 2021-09-29 15:33:59,040]\u001b[0m Trial 493 finished with value: 0.9371031746031747 and parameters: {'kernel': 'linear', 'C': 6.165342218800279, 'gamma': 'scale'}. Best is trial 203 with value: 0.9497519841269841.\u001b[0m\n",
            "\u001b[32m[I 2021-09-29 15:33:59,148]\u001b[0m Trial 494 finished with value: 0.946577380952381 and parameters: {'kernel': 'linear', 'C': 4.465532499418553, 'gamma': 'scale'}. Best is trial 203 with value: 0.9497519841269841.\u001b[0m\n",
            "\u001b[32m[I 2021-09-29 15:33:59,279]\u001b[0m Trial 495 finished with value: 0.946577380952381 and parameters: {'kernel': 'linear', 'C': 4.256219165936058, 'gamma': 'scale'}. Best is trial 203 with value: 0.9497519841269841.\u001b[0m\n",
            "\u001b[32m[I 2021-09-29 15:33:59,392]\u001b[0m Trial 496 finished with value: 0.9371031746031747 and parameters: {'kernel': 'linear', 'C': 1.829378405637945, 'gamma': 'scale'}. Best is trial 203 with value: 0.9497519841269841.\u001b[0m\n",
            "\u001b[32m[I 2021-09-29 15:33:59,523]\u001b[0m Trial 497 finished with value: 0.9402777777777779 and parameters: {'kernel': 'linear', 'C': 2.3320703793876927, 'gamma': 'scale'}. Best is trial 203 with value: 0.9497519841269841.\u001b[0m\n",
            "\u001b[32m[I 2021-09-29 15:33:59,627]\u001b[0m Trial 498 finished with value: 0.946577380952381 and parameters: {'kernel': 'linear', 'C': 20.43743648698498, 'gamma': 'auto'}. Best is trial 203 with value: 0.9497519841269841.\u001b[0m\n",
            "\u001b[32m[I 2021-09-29 15:33:59,732]\u001b[0m Trial 499 finished with value: 0.9339285714285716 and parameters: {'kernel': 'linear', 'C': 7.934053357023443, 'gamma': 'scale'}. Best is trial 203 with value: 0.9497519841269841.\u001b[0m\n",
            "\u001b[32m[I 2021-09-29 15:33:59,835]\u001b[0m Trial 500 finished with value: 0.9371031746031747 and parameters: {'kernel': 'linear', 'C': 6.106645574308286, 'gamma': 'auto'}. Best is trial 203 with value: 0.9497519841269841.\u001b[0m\n",
            "\u001b[32m[I 2021-09-29 15:33:59,940]\u001b[0m Trial 501 finished with value: 0.9402281746031746 and parameters: {'kernel': 'linear', 'C': 12.601272083437838, 'gamma': 'auto'}. Best is trial 203 with value: 0.9497519841269841.\u001b[0m\n",
            "\u001b[32m[I 2021-09-29 15:34:00,072]\u001b[0m Trial 502 finished with value: 0.9026785714285713 and parameters: {'kernel': 'sigmoid', 'C': 10.544087107655738, 'gamma': 'scale'}. Best is trial 203 with value: 0.9497519841269841.\u001b[0m\n",
            "\u001b[32m[I 2021-09-29 15:34:00,196]\u001b[0m Trial 503 finished with value: 0.943452380952381 and parameters: {'kernel': 'linear', 'C': 18.78119643001958, 'gamma': 'auto'}. Best is trial 203 with value: 0.9497519841269841.\u001b[0m\n",
            "\u001b[32m[I 2021-09-29 15:34:00,314]\u001b[0m Trial 504 finished with value: 0.9434027777777778 and parameters: {'kernel': 'linear', 'C': 15.300258778645269, 'gamma': 'scale'}. Best is trial 203 with value: 0.9497519841269841.\u001b[0m\n",
            "\u001b[32m[I 2021-09-29 15:34:00,433]\u001b[0m Trial 505 finished with value: 0.9371527777777778 and parameters: {'kernel': 'linear', 'C': 3.388232376314961, 'gamma': 'scale'}. Best is trial 203 with value: 0.9497519841269841.\u001b[0m\n",
            "\u001b[32m[I 2021-09-29 15:34:00,570]\u001b[0m Trial 506 finished with value: 0.9340277777777779 and parameters: {'kernel': 'linear', 'C': 3.1661501067144058, 'gamma': 'scale'}. Best is trial 203 with value: 0.9497519841269841.\u001b[0m\n",
            "\u001b[32m[I 2021-09-29 15:34:00,777]\u001b[0m Trial 507 finished with value: 0.5062996031746032 and parameters: {'kernel': 'poly', 'C': 7.1179562958641505, 'gamma': 'auto'}. Best is trial 203 with value: 0.9497519841269841.\u001b[0m\n",
            "\u001b[32m[I 2021-09-29 15:34:00,905]\u001b[0m Trial 508 finished with value: 0.943452380952381 and parameters: {'kernel': 'linear', 'C': 40.16816178530364, 'gamma': 'scale'}. Best is trial 203 with value: 0.9497519841269841.\u001b[0m\n",
            "\u001b[32m[I 2021-09-29 15:34:01,034]\u001b[0m Trial 509 finished with value: 0.940327380952381 and parameters: {'kernel': 'linear', 'C': 33.76870346869319, 'gamma': 'auto'}. Best is trial 203 with value: 0.9497519841269841.\u001b[0m\n",
            "\u001b[32m[I 2021-09-29 15:34:01,146]\u001b[0m Trial 510 finished with value: 0.9371031746031747 and parameters: {'kernel': 'linear', 'C': 9.320978451591726, 'gamma': 'auto'}. Best is trial 203 with value: 0.9497519841269841.\u001b[0m\n",
            "\u001b[32m[I 2021-09-29 15:34:01,280]\u001b[0m Trial 511 finished with value: 0.9308531746031747 and parameters: {'kernel': 'rbf', 'C': 23.40839938531731, 'gamma': 'scale'}. Best is trial 203 with value: 0.9497519841269841.\u001b[0m\n",
            "\u001b[32m[I 2021-09-29 15:34:01,396]\u001b[0m Trial 512 finished with value: 0.943452380952381 and parameters: {'kernel': 'linear', 'C': 3.691280616472123, 'gamma': 'scale'}. Best is trial 203 with value: 0.9497519841269841.\u001b[0m\n",
            "\u001b[32m[I 2021-09-29 15:34:01,528]\u001b[0m Trial 513 finished with value: 0.946577380952381 and parameters: {'kernel': 'linear', 'C': 4.630200095134684, 'gamma': 'scale'}. Best is trial 203 with value: 0.9497519841269841.\u001b[0m\n",
            "\u001b[32m[I 2021-09-29 15:34:01,741]\u001b[0m Trial 514 finished with value: 0.5062996031746032 and parameters: {'kernel': 'linear', 'C': 2.658945887444032e-05, 'gamma': 'scale'}. Best is trial 203 with value: 0.9497519841269841.\u001b[0m\n",
            "\u001b[32m[I 2021-09-29 15:34:01,853]\u001b[0m Trial 515 finished with value: 0.9402281746031746 and parameters: {'kernel': 'linear', 'C': 11.231919211259825, 'gamma': 'auto'}. Best is trial 203 with value: 0.9497519841269841.\u001b[0m\n",
            "\u001b[32m[I 2021-09-29 15:34:01,975]\u001b[0m Trial 516 finished with value: 0.943452380952381 and parameters: {'kernel': 'linear', 'C': 46.54793321910194, 'gamma': 'scale'}. Best is trial 203 with value: 0.9497519841269841.\u001b[0m\n",
            "\u001b[32m[I 2021-09-29 15:34:02,099]\u001b[0m Trial 517 finished with value: 0.9339781746031747 and parameters: {'kernel': 'linear', 'C': 2.0580204645604225, 'gamma': 'auto'}. Best is trial 203 with value: 0.9497519841269841.\u001b[0m\n",
            "\u001b[32m[I 2021-09-29 15:34:02,209]\u001b[0m Trial 518 finished with value: 0.9434027777777778 and parameters: {'kernel': 'linear', 'C': 5.269697121832319, 'gamma': 'scale'}. Best is trial 203 with value: 0.9497519841269841.\u001b[0m\n",
            "\u001b[32m[I 2021-09-29 15:34:02,320]\u001b[0m Trial 519 finished with value: 0.9434027777777778 and parameters: {'kernel': 'linear', 'C': 15.261661822003168, 'gamma': 'scale'}. Best is trial 203 with value: 0.9497519841269841.\u001b[0m\n",
            "\u001b[32m[I 2021-09-29 15:34:02,446]\u001b[0m Trial 520 finished with value: 0.9402281746031746 and parameters: {'kernel': 'linear', 'C': 13.300308742342521, 'gamma': 'scale'}. Best is trial 203 with value: 0.9497519841269841.\u001b[0m\n",
            "\u001b[32m[I 2021-09-29 15:34:02,579]\u001b[0m Trial 521 finished with value: 0.943452380952381 and parameters: {'kernel': 'linear', 'C': 18.328615299860893, 'gamma': 'scale'}. Best is trial 203 with value: 0.9497519841269841.\u001b[0m\n",
            "\u001b[32m[I 2021-09-29 15:34:02,705]\u001b[0m Trial 522 finished with value: 0.943452380952381 and parameters: {'kernel': 'linear', 'C': 3.7403457866116434, 'gamma': 'auto'}. Best is trial 203 with value: 0.9497519841269841.\u001b[0m\n",
            "\u001b[32m[I 2021-09-29 15:34:02,821]\u001b[0m Trial 523 finished with value: 0.9057539682539681 and parameters: {'kernel': 'sigmoid', 'C': 32.032427466753035, 'gamma': 'scale'}. Best is trial 203 with value: 0.9497519841269841.\u001b[0m\n"
          ]
        },
        {
          "output_type": "stream",
          "name": "stdout",
          "text": [
            "params: {'kernel': 'linear', 'C': 4.3460405530919175, 'gamma': 'auto'}\n"
          ]
        }
      ]
    },
    {
      "cell_type": "code",
      "metadata": {
        "id": "M9mpUKIxUzqO",
        "colab": {
          "base_uri": "https://localhost:8080/"
        },
        "outputId": "5ca4f835-c0d3-4ff6-c348-24bff85c6f68"
      },
      "source": [
        "from sklearn.metrics import confusion_matrix\n",
        "from sklearn.metrics import accuracy_score\n",
        "\n",
        "# 探索結果として得られたベストのパラメーターを設定\n",
        "\n",
        "model = SVC(\n",
        "    kernel = study.best_params['kernel'],\n",
        "    C = study.best_params['C'],\n",
        "    gamma = study.best_params['gamma']\n",
        ")\n",
        "# モデルの訓練\n",
        "model.fit(X_train, y_train)\n",
        "# テスト用のデータを使用して予測\n",
        "pred = model.predict(X_test)\n",
        "# 予測結果とテスト用のデータを使って正解率と、混同行列を出力\n",
        "print(\"Accuracy: {:.5f} %\".format(100 * accuracy_score(y_test, pred)))\n",
        "print(confusion_matrix(y_test, pred))"
      ],
      "execution_count": null,
      "outputs": [
        {
          "output_type": "stream",
          "name": "stdout",
          "text": [
            "Accuracy: 87.50000 %\n",
            "[[33  5]\n",
            " [ 5 37]]\n"
          ]
        }
      ]
    }
  ]
}